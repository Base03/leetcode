{
 "cells": [
  {
   "cell_type": "code",
   "execution_count": null,
   "metadata": {},
   "outputs": [],
   "source": [
    "from typing import List\n",
    "\n",
    "class Solution:\n",
    "    def containsNearbyDuplicate(self, nums: List[int], k: int) -> bool:\n",
    "        num_dict = {}\n",
    "        for i, num in enumerate(nums):\n",
    "            if not num in num_dict:\n",
    "                num_dict[num] = [i]\n",
    "            else:\n",
    "                num_dict[num].append(i)\n",
    "                if num_dict[num][-1] - num_dict[num][-2] <= k:\n",
    "                    return True\n",
    "                \n",
    "        return False"
   ]
  }
 ],
 "metadata": {
  "language_info": {
   "name": "python"
  }
 },
 "nbformat": 4,
 "nbformat_minor": 2
}
