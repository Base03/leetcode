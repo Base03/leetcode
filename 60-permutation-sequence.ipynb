{
 "cells": [
  {
   "cell_type": "code",
   "execution_count": 69,
   "metadata": {},
   "outputs": [],
   "source": [
    "class Solution:\n",
    "    def getPermutation(self, n: int, k: int) -> str:\n",
    "        # zero indexing\n",
    "        k = k - 1 \n",
    "        remaining = [str(i) for i in range(1, n+1)]\n",
    "        factorial = [1] * (n)\n",
    "        for i in range(2, n):\n",
    "            factorial[i] = factorial[i-1] * i\n",
    "        factorial.reverse()\n",
    "\n",
    "        result = \"\"\n",
    "\n",
    "        for fac in factorial:\n",
    "            i = k // fac\n",
    "            k = k % fac\n",
    "            result += remaining.pop(i)\n",
    "\n",
    "        return result"
   ]
  },
  {
   "cell_type": "code",
   "execution_count": 70,
   "metadata": {},
   "outputs": [
    {
     "name": "stdout",
     "output_type": "stream",
     "text": [
      "result: 213 expected: 213\n",
      "result: 2314 expected: 2314\n"
     ]
    }
   ],
   "source": [
    "# test 1\n",
    "n = 3\n",
    "k = 3\n",
    "expected = \"213\"\n",
    "print(\"result:\", Solution().getPermutation(n, k), \"expected:\", expected)\n",
    "# remaining = \"123\"\n",
    "# factorial = [2, 1, 1]\n",
    "# k = k-1 = 2\n",
    "#\n",
    "# str = \"\"\n",
    "# k // 2 = 1 -> str = \"2\", remaining = \"13\"\n",
    "# k = k - 1*2 = 0\n",
    "# \n",
    "# str = \"2\"\n",
    "# k // 1 = 0 -> str = \"21\", remaining = \"3\"\n",
    "# k = k - 0*1 = 0\n",
    "#\n",
    "# str = \"21\"\n",
    "# k // 1 = 0 -> str = \"213\", remaining = \"0\"\n",
    "# k = k - 0*1 = 0\n",
    "#\n",
    "# str = \"213\"\n",
    "\n",
    "\n",
    "# test 2\n",
    "n = 4\n",
    "k = 9\n",
    "expected = \"2314\"\n",
    "print(\"result:\", Solution().getPermutation(n, k), \"expected:\", expected)\n",
    "# remaining = \"1234\"\n",
    "# factorial = [6, 2, 1, 1]\n",
    "# k = k-1 = 8\n",
    "#\n",
    "# str = \"\"\n",
    "# k // 6 = 1 -> str = \"2\", remaining = \"134\"\n",
    "# k = k - 1*6 = 2\n",
    "#\n",
    "# str = \"2\"\n",
    "# k // 2 = 1 -> str = \"23\", remaining = \"14\"\n",
    "# k = k - 1*2 = 0\n",
    "#\n",
    "# str = \"23\"\n",
    "# k // 1 = 0 -> str = \"231\", remaining = \"4\"\n",
    "# k = k - 0*1 = 0\n",
    "#\n",
    "# str = \"231\"\n",
    "# k // 1 = 0 -> str = \"2314\", remaining = \"\"\n",
    "# k = k - 0*1 = 0\n",
    "#\n",
    "# str = \"2314\""
   ]
  },
  {
   "cell_type": "code",
   "execution_count": null,
   "metadata": {},
   "outputs": [],
   "source": []
  },
  {
   "cell_type": "code",
   "execution_count": null,
   "metadata": {},
   "outputs": [],
   "source": []
  }
 ],
 "metadata": {
  "kernelspec": {
   "display_name": ".venv",
   "language": "python",
   "name": "python3"
  },
  "language_info": {
   "codemirror_mode": {
    "name": "ipython",
    "version": 3
   },
   "file_extension": ".py",
   "mimetype": "text/x-python",
   "name": "python",
   "nbconvert_exporter": "python",
   "pygments_lexer": "ipython3",
   "version": "3.12.3"
  }
 },
 "nbformat": 4,
 "nbformat_minor": 2
}
