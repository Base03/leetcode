{
 "cells": [
  {
   "cell_type": "code",
   "execution_count": 1,
   "metadata": {},
   "outputs": [],
   "source": [
    "from typing import List\n",
    "\n",
    "class Solution:\n",
    "    def merge(self, nums1: List[int], m: int, nums2: List[int], n: int) -> None:\n",
    "        \"\"\"\n",
    "        Do not return anything, modify nums1 in-place instead.\n",
    "        O(m+n) time, O(1) space (no allocation)\n",
    "        works backwards so no need to first shift elements in nums1 to the right\n",
    "        \"\"\"\n",
    "        i, j, k = m-1, n-1, m+n-1\n",
    "        while k >= 0:\n",
    "            if i >= 0 and j >= 0:\n",
    "                if nums1[i] > nums2[j]:\n",
    "                    nums1[k] = nums1[i]\n",
    "                    i -= 1\n",
    "                else:\n",
    "                    nums1[k] = nums2[j]\n",
    "                    j -= 1\n",
    "            elif i >= 0:\n",
    "                nums1[k] = nums1[i]\n",
    "                i -= 1\n",
    "            else:\n",
    "                nums1[k] = nums2[j]\n",
    "                j -= 1\n",
    "\n",
    "            k -= 1\n",
    "\n",
    "        return None\n",
    "        "
   ]
  },
  {
   "cell_type": "code",
   "execution_count": 4,
   "metadata": {},
   "outputs": [
    {
     "name": "stdout",
     "output_type": "stream",
     "text": [
      "output: [1, 2, 2, 3, 5, 6] expected: [1, 2, 2, 3, 5, 6]\n",
      "output: [1] expected: [1]\n",
      "output: [1] expected: [1]\n"
     ]
    }
   ],
   "source": [
    "# test 1\n",
    "nums1 = [1,2,3,0,0,0]\n",
    "m = 3 \n",
    "nums2 = [2,5,6]\n",
    "n = 3\n",
    "expected = [1,2,2,3,5,6]\n",
    "output = Solution().merge(nums1, m, nums2, n)\n",
    "print(\"output:\", nums1, \"expected:\", expected)\n",
    "\n",
    "# test 2\n",
    "nums1 = [1]\n",
    "m = 1\n",
    "nums2 = []\n",
    "n = 0\n",
    "expected = [1]\n",
    "output = Solution().merge(nums1, m, nums2, n)\n",
    "print(\"output:\", nums1, \"expected:\", expected)\n",
    "\n",
    "# test 3\n",
    "nums1 = [0]\n",
    "m = 0\n",
    "nums2 = [1]\n",
    "n = 1\n",
    "expected = [1]\n",
    "output = Solution().merge(nums1, m, nums2, n)\n",
    "print(\"output:\", nums1, \"expected:\", expected)"
   ]
  },
  {
   "cell_type": "code",
   "execution_count": null,
   "metadata": {},
   "outputs": [],
   "source": []
  }
 ],
 "metadata": {
  "kernelspec": {
   "display_name": ".venv",
   "language": "python",
   "name": "python3"
  },
  "language_info": {
   "codemirror_mode": {
    "name": "ipython",
    "version": 3
   },
   "file_extension": ".py",
   "mimetype": "text/x-python",
   "name": "python",
   "nbconvert_exporter": "python",
   "pygments_lexer": "ipython3",
   "version": "3.12.3"
  }
 },
 "nbformat": 4,
 "nbformat_minor": 2
}
