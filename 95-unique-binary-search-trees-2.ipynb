{
 "cells": [
  {
   "cell_type": "code",
   "execution_count": 73,
   "metadata": {},
   "outputs": [],
   "source": [
    "# Definition for a binary tree node.\n",
    "from typing import List, Optional\n",
    "from collections import deque\n",
    "\n",
    "\n",
    "class TreeNode:\n",
    "    def __init__(self, val=0, left=None, right=None):\n",
    "        self.val = val\n",
    "        self.left = left\n",
    "        self.right = right\n",
    "\n",
    "    def __str__(self):\n",
    "        return '{}({})({})'.format(self.val, self.left, self.right)\n",
    "    \n",
    "    def __repr__(self):\n",
    "        return self.__str__()\n",
    "\n",
    "\n",
    "class Solution:\n",
    "    # binary tress have a representation where everything to the left of a node is \n",
    "    # less than the node and everything to the right is greater than the node\n",
    "    def numTrees(self, n: int) -> int:\n",
    "        return len(self.generateTreesDP(n))\n",
    "    \n",
    "    def generateTrees(self, n: int) -> List[Optional[TreeNode]]:\n",
    "        def generate_trees(start, end) -> List[Optional[TreeNode]]:\n",
    "            if start > end:\n",
    "                return [None,]\n",
    "            \n",
    "            all_trees = []\n",
    "            for i in range(start, end + 1):\n",
    "                left_trees = generate_trees(start, i - 1)\n",
    "                right_trees = generate_trees(i + 1, end)\n",
    "                \n",
    "                for left_branch in left_trees:\n",
    "                    for right_branch in right_trees:\n",
    "                        current_tree = TreeNode(i)\n",
    "                        current_tree.left = left_branch\n",
    "                        current_tree.right = right_branch\n",
    "                        all_trees.append(current_tree)\n",
    "            \n",
    "            return all_trees\n",
    "        \n",
    "        return generate_trees(1, n) if n > 0 else []\n",
    "    \n",
    "    def generateTreesDP(self, n: int) -> List[Optional[TreeNode]]:\n",
    "        def copy_branch(branch: Optional[TreeNode], offset: int) -> Optional[TreeNode]:\n",
    "            if branch:\n",
    "                new_branch = TreeNode(branch.val + offset)\n",
    "                new_branch.left = copy_branch(branch.left, offset)\n",
    "                new_branch.right = copy_branch(branch.right, offset)\n",
    "                return new_branch\n",
    "            return None\n",
    "\n",
    "        if n == 0:\n",
    "            return []\n",
    "        \n",
    "        trees = [[] for i in range(n+1)]\n",
    "        # print(\"initial trees:\",trees)\n",
    "        # zeroth tree is a leaf of nothing\n",
    "        trees[0].append(None)\n",
    "        # print(\"trees after 0:\", trees)\n",
    "        \n",
    "        for max_num in range(1, n+1):\n",
    "            for root_num in range(1, max_num+1):\n",
    "                # print(\"  root_num:\", root_num)\n",
    "                left_idx  = root_num - 1 # between 0 and root_num -1\n",
    "                right_idx = max_num - root_num # between 0 and max_num - root_num\n",
    "                # print(\"  left_idx:\", left_idx, \"right_idx:\", right_idx)\n",
    "                for left_branch in trees[left_idx]:\n",
    "                    # print(\"    left_branch:\", left_branch)\n",
    "                    for right_branch in trees[right_idx]:\n",
    "                        # print(\"    right_branch:\", right_branch)\n",
    "                        parent_node = TreeNode(root_num)\n",
    "                        parent_node.left  = left_branch\n",
    "                        parent_node.right = copy_branch(right_branch, root_num)\n",
    "                        trees[max_num].append(parent_node)\n",
    "\n",
    "            # print(\"trees after {}:\".format(max_num), trees)\n",
    "        \n",
    "        return trees[n]\n",
    "    \n",
    "    "
   ]
  },
  {
   "cell_type": "code",
   "execution_count": 75,
   "metadata": {},
   "outputs": [
    {
     "name": "stdout",
     "output_type": "stream",
     "text": [
      "num: 14\n"
     ]
    }
   ],
   "source": [
    "# test 1\n",
    "n = 4\n",
    "print(\"num:\", Solution().numTrees(n)) # 14\n",
    "\n",
    "#n = 2\n",
    "# print(\"Trees DP:\", Solution().generateTreesDP(n))"
   ]
  },
  {
   "cell_type": "code",
   "execution_count": null,
   "metadata": {},
   "outputs": [],
   "source": []
  },
  {
   "cell_type": "code",
   "execution_count": null,
   "metadata": {},
   "outputs": [],
   "source": []
  }
 ],
 "metadata": {
  "kernelspec": {
   "display_name": ".venv",
   "language": "python",
   "name": "python3"
  },
  "language_info": {
   "codemirror_mode": {
    "name": "ipython",
    "version": 3
   },
   "file_extension": ".py",
   "mimetype": "text/x-python",
   "name": "python",
   "nbconvert_exporter": "python",
   "pygments_lexer": "ipython3",
   "version": "3.12.3"
  }
 },
 "nbformat": 4,
 "nbformat_minor": 2
}
