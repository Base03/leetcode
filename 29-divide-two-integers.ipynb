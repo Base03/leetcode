{
 "cells": [
  {
   "cell_type": "code",
   "execution_count": 9,
   "metadata": {},
   "outputs": [],
   "source": [
    "class Solution(object):\n",
    "    def divide(self, dividend, divisor):\n",
    "        \"\"\"\n",
    "        :type dividend: int\n",
    "        :type divisor: int\n",
    "        :rtype: int\n",
    "        \"\"\"\n",
    "        MAX_INT = 2147483647\n",
    "        MIN_INT = -2147483648\n",
    "        if divisor == 0:\n",
    "            return MAX_INT\n",
    "        if dividend == MIN_INT and divisor == -1:\n",
    "            return MAX_INT\n",
    "        sign = 1\n",
    "        if dividend < 0:\n",
    "            sign = -sign\n",
    "            dividend = -dividend\n",
    "        if divisor < 0:\n",
    "            sign = -sign\n",
    "            divisor = -divisor\n",
    "        \n",
    "        res = 0\n",
    "        while dividend >= divisor:\n",
    "            temp, i = divisor, 1\n",
    "            print(\"outer: \", temp, i)\n",
    "            while dividend >= temp:\n",
    "                print(\"inner: \", \"temp: \", temp, \"i: \", i, \"dividend: \", dividend, \"res: \", res)\n",
    "                dividend -= temp\n",
    "                res += i\n",
    "                i <<= 1\n",
    "                temp <<= 1\n",
    "        return res * sign\n",
    "        "
   ]
  },
  {
   "cell_type": "code",
   "execution_count": 43,
   "metadata": {},
   "outputs": [],
   "source": [
    "class Solution(object):\n",
    "    def divide(self, dividend, divisor):\n",
    "        \"\"\"\n",
    "        :type dividend: int\n",
    "        :type divisor: int\n",
    "        :rtype: int\n",
    "        \"\"\"\n",
    "        int_max = 2**31 - 1\n",
    "        int_min = -2**31\n",
    "        sign = 1\n",
    "        \n",
    "        sign = 1 if (dividend > 0) == (divisor > 0) else -1\n",
    "        divisor = abs(divisor)\n",
    "        dividend = abs(dividend)\n",
    "        \n",
    "        if divisor == 0 and sign == 1:\n",
    "            return int_max\n",
    "        if divisor == 0 and sign == -1:\n",
    "            return int_min\n",
    "        \n",
    "        residual = dividend\n",
    "        quotient = 0\n",
    "        while residual >= divisor:\n",
    "            # print(\"enter while loop, quotient: \", quotient, \"residual: \", residual)\n",
    "            delta = divisor\n",
    "            i = 0\n",
    "            while residual >= delta:\n",
    "                residual -= delta\n",
    "                delta = delta << 1\n",
    "                i = (i << 1) + 1\n",
    "                # print(\"residual: \", residual, \"i: \", i, \"i*divisor: \", i*divisor)\n",
    "            quotient += i\n",
    "        \n",
    "        return max(min(quotient * sign, int_max), int_min)\n",
    "\n",
    "        "
   ]
  },
  {
   "cell_type": "code",
   "execution_count": 44,
   "metadata": {},
   "outputs": [
    {
     "name": "stdout",
     "output_type": "stream",
     "text": [
      "enter while loop, quotient:  0 residual:  100\n",
      "residual:  98 i:  1 i*divisor:  2\n",
      "residual:  94 i:  3 i*divisor:  6\n",
      "residual:  86 i:  7 i*divisor:  14\n",
      "residual:  70 i:  15 i*divisor:  30\n",
      "residual:  38 i:  31 i*divisor:  62\n",
      "enter while loop, quotient:  31 residual:  38\n",
      "residual:  36 i:  1 i*divisor:  2\n",
      "residual:  32 i:  3 i*divisor:  6\n",
      "residual:  24 i:  7 i*divisor:  14\n",
      "residual:  8 i:  15 i*divisor:  30\n",
      "enter while loop, quotient:  46 residual:  8\n",
      "residual:  6 i:  1 i*divisor:  2\n",
      "residual:  2 i:  3 i*divisor:  6\n",
      "enter while loop, quotient:  49 residual:  2\n",
      "residual:  0 i:  1 i*divisor:  2\n",
      "50 expected:  50\n"
     ]
    }
   ],
   "source": [
    "# # test\n",
    "# dividend = 100\n",
    "# divisor = 3\n",
    "# print(Solution().divide(dividend, divisor), \"expected: \", 33)\n",
    "\n",
    "# test\n",
    "dividend = 100\n",
    "divisor = 2\n",
    "print(Solution().divide(dividend, divisor), \"expected: \", 50)"
   ]
  },
  {
   "cell_type": "code",
   "execution_count": null,
   "metadata": {},
   "outputs": [],
   "source": []
  }
 ],
 "metadata": {
  "kernelspec": {
   "display_name": "Python 3",
   "language": "python",
   "name": "python3"
  },
  "language_info": {
   "codemirror_mode": {
    "name": "ipython",
    "version": 3
   },
   "file_extension": ".py",
   "mimetype": "text/x-python",
   "name": "python",
   "nbconvert_exporter": "python",
   "pygments_lexer": "ipython3",
   "version": "3.12.3"
  }
 },
 "nbformat": 4,
 "nbformat_minor": 2
}
