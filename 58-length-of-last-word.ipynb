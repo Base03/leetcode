{
 "cells": [
  {
   "cell_type": "code",
   "execution_count": 9,
   "id": "992fce56",
   "metadata": {},
   "outputs": [],
   "source": [
    "class Solution:\n",
    "    def lengthOfLastWord(self, s: str) -> int:\n",
    "        idx_start = len(s) -1\n",
    "        while(s[idx_start] == \" \" and idx_start > 0):\n",
    "            idx_start -= 1\n",
    "        idx_end = idx_start\n",
    "        while(s[idx_end] != \" \" and idx_end >= 0):\n",
    "            idx_end -= 1\n",
    "        \n",
    "        return idx_start - idx_end\n"
   ]
  },
  {
   "cell_type": "code",
   "execution_count": 10,
   "id": "e3be05ca",
   "metadata": {},
   "outputs": [
    {
     "name": "stdout",
     "output_type": "stream",
     "text": [
      "expected: 5, result: 5\n",
      "expected: 4, result: 4\n",
      "expected: 6, result: 6\n",
      "expected: 1, result: 1\n"
     ]
    }
   ],
   "source": [
    "soln = Solution()\n",
    "\n",
    "s = \"Hello World\"\n",
    "expected = 5\n",
    "print(f\"expected: {expected}, result: {soln.lengthOfLastWord(s)}\")\n",
    "\n",
    "s = \"   fly me   to   the moon  \"\n",
    "expected = 4\n",
    "print(f\"expected: {expected}, result: {soln.lengthOfLastWord(s)}\")\n",
    "\n",
    "s = \"luffy is still joyboy\"\n",
    "expected = 6\n",
    "print(f\"expected: {expected}, result: {soln.lengthOfLastWord(s)}\")\n",
    "\n",
    "s = \"a\"\n",
    "expected = 1\n",
    "print(f\"expected: {expected}, result: {soln.lengthOfLastWord(s)}\")"
   ]
  },
  {
   "cell_type": "code",
   "execution_count": null,
   "id": "24ccb2ab",
   "metadata": {},
   "outputs": [],
   "source": []
  }
 ],
 "metadata": {
  "kernelspec": {
   "display_name": "python_dev",
   "language": "python",
   "name": "python3"
  },
  "language_info": {
   "codemirror_mode": {
    "name": "ipython",
    "version": 3
   },
   "file_extension": ".py",
   "mimetype": "text/x-python",
   "name": "python",
   "nbconvert_exporter": "python",
   "pygments_lexer": "ipython3",
   "version": "3.13.2"
  }
 },
 "nbformat": 4,
 "nbformat_minor": 5
}
