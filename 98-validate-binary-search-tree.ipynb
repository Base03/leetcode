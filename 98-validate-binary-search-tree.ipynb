{
 "cells": [
  {
   "cell_type": "code",
   "execution_count": 8,
   "metadata": {},
   "outputs": [],
   "source": [
    "# Definition for a binary tree node.\n",
    "from typing import List, Optional\n",
    "from collections import deque\n",
    "\n",
    "\n",
    "class TreeNode:\n",
    "    def __init__(self, val=0, left=None, right=None):\n",
    "        self.val = val\n",
    "        self.left = left\n",
    "        self.right = right\n",
    "\n",
    "    def __str__(self):\n",
    "        return '{}({})({})'.format(self.val, self.left, self.right)\n",
    "    \n",
    "    def __repr__(self):\n",
    "        return self.__str__()\n",
    "    \n",
    "class Solution:\n",
    "    def isValidBST(self, root: Optional[TreeNode]) -> bool:\n",
    "        def isValid(node, lower, upper) -> bool:\n",
    "            # null node is always valid\n",
    "            if not node:\n",
    "                return True\n",
    "            # check if current value is in the acceptable range\n",
    "            if node.val <= lower or node.val >= upper:\n",
    "                return False\n",
    "            return isValid(node.left, lower, min(node.val, upper)) and isValid(node.right, max(node.val, lower), upper)\n",
    "        return isValid(root, float('-inf'), float('inf'))"
   ]
  },
  {
   "cell_type": "code",
   "execution_count": 9,
   "metadata": {},
   "outputs": [
    {
     "name": "stdout",
     "output_type": "stream",
     "text": [
      "valid: True expected: True\n",
      "valid: False expected: False\n"
     ]
    }
   ],
   "source": [
    "# test 1\n",
    "root = TreeNode(2, TreeNode(1), TreeNode(3))\n",
    "print(\"valid:\", Solution().isValidBST(root), \"expected:\", True)\n",
    "\n",
    "# test 2\n",
    "root = TreeNode(5, TreeNode(1), TreeNode(4, TreeNode(3), TreeNode(6)))\n",
    "print(\"valid:\", Solution().isValidBST(root), \"expected:\", False)"
   ]
  },
  {
   "cell_type": "code",
   "execution_count": null,
   "metadata": {},
   "outputs": [],
   "source": []
  }
 ],
 "metadata": {
  "kernelspec": {
   "display_name": ".venv",
   "language": "python",
   "name": "python3"
  },
  "language_info": {
   "codemirror_mode": {
    "name": "ipython",
    "version": 3
   },
   "file_extension": ".py",
   "mimetype": "text/x-python",
   "name": "python",
   "nbconvert_exporter": "python",
   "pygments_lexer": "ipython3",
   "version": "3.12.3"
  }
 },
 "nbformat": 4,
 "nbformat_minor": 2
}
