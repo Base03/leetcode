{
 "cells": [
  {
   "cell_type": "code",
   "execution_count": 27,
   "metadata": {},
   "outputs": [],
   "source": [
    "from typing import List, Set\n",
    "\n",
    "class Solution:\n",
    "    def stoneGameVIMemo(self, aliceValues: List[int], bobValues: List[int]) -> int:\n",
    "        memo = {}\n",
    "        n = len(aliceValues)\n",
    "        def diff_maximizer(taken: Set, remaining: Set, turn: bool) -> int:\n",
    "            key = (tuple(sorted(list(taken))), turn)\n",
    "            if key in memo:\n",
    "                return memo[key]\n",
    "            if len(taken) == n:\n",
    "                return 0\n",
    "            \n",
    "            if turn:\n",
    "                res = float('-inf')\n",
    "                for i in remaining:\n",
    "                    res = max(res, aliceValues[i] + diff_maximizer(taken | {i}, remaining - {i}, not turn))\n",
    "            else:\n",
    "                res = float('inf')\n",
    "                for i in remaining:\n",
    "                    res = min(res, -bobValues[i] + diff_maximizer(taken | {i}, remaining - {i}, not turn))\n",
    "\n",
    "            memo[key] = res\n",
    "            return res\n",
    "            \n",
    "        result = diff_maximizer(set(), set(range(n)), True)\n",
    "        return min(max(result, -1), 1)\n",
    "    \n",
    "    # Alice picks i and gains aliceValues[i] and denies bobValues[i]. \n",
    "    #\n",
    "    # aPicks = !bPicks\n",
    "    # ASum = sum(aValues[i] for i in aPicks)\n",
    "    # BSum = sum(bValues[i] for i in bPicks) = B - sum(bValues[i] for i in !bPicks)\n",
    "    # A = sum(aValues)\n",
    "    # B = sum(bValues)\n",
    "    # ASum - BSum = sum(aValues[i] for i in aPicks) - BSum\n",
    "    # ASum - BSum = sum(aValues[i] for i in aPicks) - B + sum(bValues[i] for i in !bPicks)\n",
    "    # ASum - BSum = sum(aValues[i] for i in aPicks) - B + sum(bValues[i] for i in aPicks)\n",
    "    # ASum - BSum = sum(aValues[i] + bValues[i] for i in aPicks) - B\n",
    "    #\n",
    "    # Therefore, since B and A are constant, what we want to do to maximize ASum - BSum is to \n",
    "    # maximize sum(aValues[i] + bValues[i] for i in aPicks) and to maximize BSum -ASum we want to\n",
    "    # maximize sum(aValues[i] + bValues[i] for i in !aPicks). Which is just greedy picking the\n",
    "    # maximum value of aValues[i] + bValues[i] for each\n",
    "    def stoneGameVI(self, aliceValues: List[int], bobValues: List[int]) -> int:\n",
    "        score = [[aliceValues[i] + bobValues[i], aliceValues[i], bobValues[i]] for i in range(len(aliceValues))]\n",
    "        score.sort(reverse=True, key=lambda x: x[0])\n",
    "        \n",
    "        A = sum(score[i][1] for i in range(0, len(score), 2))\n",
    "        B = sum(score[i][2] for i in range(1, len(score), 2))\n",
    "\n",
    "        return min(max(A-B, -1), 1)"
   ]
  },
  {
   "cell_type": "code",
   "execution_count": 28,
   "metadata": {},
   "outputs": [
    {
     "name": "stdout",
     "output_type": "stream",
     "text": [
      "result: 1 expected: 1\n",
      "result: 0 expected: 0\n",
      "result: -1 expected: -1\n",
      "result: 1 expected: 1\n"
     ]
    }
   ],
   "source": [
    "soln = Solution()\n",
    "f = soln.stoneGameVI\n",
    "\n",
    "# test 1\n",
    "aliceValues = [1,3]\n",
    "bobValues = [2,1]\n",
    "expected = 1\n",
    "print(\"result:\", f(aliceValues, bobValues), \"expected:\", expected)\n",
    "\n",
    "# test 2\n",
    "aliceValues = [1,2]\n",
    "bobValues = [3,1]\n",
    "expected = 0\n",
    "print(\"result:\", f(aliceValues, bobValues), \"expected:\", expected)\n",
    "\n",
    "# test 3\n",
    "aliceValues = [2,4,3]\n",
    "bobValues = [1,6,7]\n",
    "expected = -1\n",
    "print(\"result:\", f(aliceValues, bobValues), \"expected:\", expected)\n",
    "\n",
    "\n",
    "# test 4\n",
    "aliceValues = [6]\n",
    "bobValues = [1]\n",
    "expected = 1\n",
    "print(\"result:\", f(aliceValues, bobValues), \"expected:\", expected)"
   ]
  },
  {
   "cell_type": "code",
   "execution_count": null,
   "metadata": {},
   "outputs": [],
   "source": []
  }
 ],
 "metadata": {
  "kernelspec": {
   "display_name": ".venv",
   "language": "python",
   "name": "python3"
  },
  "language_info": {
   "codemirror_mode": {
    "name": "ipython",
    "version": 3
   },
   "file_extension": ".py",
   "mimetype": "text/x-python",
   "name": "python",
   "nbconvert_exporter": "python",
   "pygments_lexer": "ipython3",
   "version": "3.12.3"
  }
 },
 "nbformat": 4,
 "nbformat_minor": 2
}
