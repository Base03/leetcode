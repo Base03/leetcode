{
 "cells": [
  {
   "cell_type": "code",
   "execution_count": 11,
   "id": "5fc48144",
   "metadata": {},
   "outputs": [],
   "source": [
    "from functools import cache\n",
    "from typing import List\n",
    "\n",
    "class Solution:\n",
    "    def canJumpRecursive(self, nums: List[int]) -> bool:\n",
    "        n = len(nums)\n",
    "        @cache\n",
    "        def helper(idx: int) -> bool:\n",
    "            if idx >= n-1:\n",
    "                return True\n",
    "            else:\n",
    "                # for i in range(1, nums[idx]+1):\n",
    "                for i in range(nums[idx], 0, -1):\n",
    "                    if helper(idx + i):\n",
    "                        return True\n",
    "                return False\n",
    "\n",
    "        return helper(0)\n",
    "    \n",
    "    def canJumpOptimizedRecursive(self, nums: List[int]) -> bool:\n",
    "        n = len(nums)\n",
    "        @cache\n",
    "        def helper(idx: int, furthest: int) -> bool:\n",
    "            # we are outside the array or furthest is\n",
    "            if idx >= n-1 or furthest >= n-1:\n",
    "                return furthest >= n-1\n",
    "            # unreachable\n",
    "            if idx > furthest:\n",
    "                return False\n",
    "            \n",
    "            furthest = max(furthest, idx + nums[idx])\n",
    "            return helper(idx+1, furthest);\n",
    "\n",
    "        return helper(0,0)\n",
    "    \n",
    "    def canJump(self, nums: List[int]) -> bool:\n",
    "        n = len(nums)\n",
    "        remaining = nums[0]\n",
    "\n",
    "        for i in range(n):\n",
    "            if i == n-1:\n",
    "                return True\n",
    "            \n",
    "            if nums[i] > remaining:\n",
    "                remaining = nums[i]\n",
    "\n",
    "            if remaining <= 0:\n",
    "                return False\n",
    "            remaining -= 1"
   ]
  },
  {
   "cell_type": "code",
   "execution_count": 12,
   "id": "38f3a84c",
   "metadata": {},
   "outputs": [
    {
     "name": "stdout",
     "output_type": "stream",
     "text": [
      "expected: True, result: True\n",
      "expected: False, result: False\n"
     ]
    }
   ],
   "source": [
    "soln = Solution()\n",
    "\n",
    "nums = [2,3,1,1,4]\n",
    "expected = True\n",
    "print(f\"expected: {expected}, result: {soln.canJump(nums)}\")\n",
    "\n",
    "nums = [3,2,1,0,4]\n",
    "expected = False\n",
    "print(f\"expected: {expected}, result: {soln.canJump(nums)}\")"
   ]
  },
  {
   "cell_type": "code",
   "execution_count": null,
   "id": "db804336",
   "metadata": {},
   "outputs": [],
   "source": []
  }
 ],
 "metadata": {
  "kernelspec": {
   "display_name": "python_dev",
   "language": "python",
   "name": "python3"
  },
  "language_info": {
   "codemirror_mode": {
    "name": "ipython",
    "version": 3
   },
   "file_extension": ".py",
   "mimetype": "text/x-python",
   "name": "python",
   "nbconvert_exporter": "python",
   "pygments_lexer": "ipython3",
   "version": "3.13.2"
  }
 },
 "nbformat": 4,
 "nbformat_minor": 5
}
