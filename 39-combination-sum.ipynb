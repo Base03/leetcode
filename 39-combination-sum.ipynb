{
 "cells": [
  {
   "cell_type": "code",
   "execution_count": 35,
   "metadata": {},
   "outputs": [],
   "source": [
    "from typing import List\n",
    "\n",
    "class Solution:\n",
    "    def combinationSum(self, candidates: List[int], target: int) -> List[List[int]]:\n",
    "\n",
    "        candidates.sort()\n",
    "        combinations = {(0,)}\n",
    "        for i in range(len(candidates)):\n",
    "            n = target // candidates[i]\n",
    "            new_combinations = set()\n",
    "            for j in range(n+1):\n",
    "                for tuple in combinations:\n",
    "                    val = j * candidates[i]\n",
    "                    if tuple[0] + val == target or (i < len(candidates) - 1 and tuple[0] + val + candidates[i+1] <= target):\n",
    "                        new_tuple = (tuple[0] + val,) + tuple[1:] + (j,)\n",
    "                        new_combinations.add(new_tuple)\n",
    "            combinations = new_combinations\n",
    "\n",
    "        list_combinations = []\n",
    "        for tuple in combinations:\n",
    "            combination = []\n",
    "            for i in range(1, len(tuple)):\n",
    "                if tuple[i] != 0:\n",
    "                    combination += [candidates[i-1]] * tuple[i]\n",
    "            list_combinations.append(combination)\n",
    "        \n",
    "        return list_combinations"
   ]
  },
  {
   "cell_type": "code",
   "execution_count": 41,
   "metadata": {},
   "outputs": [],
   "source": [
    "from typing import List\n",
    "\n",
    "class Solution:\n",
    "    def combinationSum(self, candidates: List[int], target: int) -> List[List[int]]:\n",
    "        result = []\n",
    "        combination = []\n",
    "\n",
    "        def backtrack(start, current_sum):\n",
    "            if current_sum == target:\n",
    "                result.append(combination[:])\n",
    "                return\n",
    "            \n",
    "            if current_sum > target:\n",
    "                return\n",
    "\n",
    "            for i in range(start, len(candidates)):\n",
    "                combination.append(candidates[i])\n",
    "                backtrack(i, current_sum + candidates[i])\n",
    "                combination.pop()\n",
    "\n",
    "        backtrack(0, 0)\n",
    "        return result"
   ]
  },
  {
   "cell_type": "code",
   "execution_count": 44,
   "metadata": {},
   "outputs": [],
   "source": [
    "from typing import List\n",
    "\n",
    "class Solution:\n",
    "    def combinationSum(self, candidates: List[int], target: int) -> List[List[int]]:\n",
    "        result = []\n",
    "        combination = []\n",
    "\n",
    "        def dfs(idx, current_sum):\n",
    "            if current_sum == target:\n",
    "                result.append(combination.copy())\n",
    "                return\n",
    "            \n",
    "            if current_sum > target:\n",
    "                return\n",
    "            \n",
    "            for j in range(idx, len(candidates)):\n",
    "                combination.append(candidates[j])\n",
    "                dfs(j, current_sum + candidates[j])\n",
    "                combination.pop()\n",
    "\n",
    "        dfs(0, 0)\n",
    "        return result"
   ]
  },
  {
   "cell_type": "code",
   "execution_count": 45,
   "metadata": {},
   "outputs": [
    {
     "name": "stdout",
     "output_type": "stream",
     "text": [
      "output:  [[2, 2, 3], [7]] expected:  [[2, 2, 3], [7]]\n"
     ]
    }
   ],
   "source": [
    "candidates = [2,3,6,7]\n",
    "target = 7\n",
    "output = Solution()\n",
    "expected = [[2,2,3],[7]]\n",
    "print(\"output: \", output.combinationSum(candidates, target), \"expected: \", expected)"
   ]
  },
  {
   "cell_type": "code",
   "execution_count": null,
   "metadata": {},
   "outputs": [],
   "source": []
  }
 ],
 "metadata": {
  "kernelspec": {
   "display_name": ".venv",
   "language": "python",
   "name": "python3"
  },
  "language_info": {
   "codemirror_mode": {
    "name": "ipython",
    "version": 3
   },
   "file_extension": ".py",
   "mimetype": "text/x-python",
   "name": "python",
   "nbconvert_exporter": "python",
   "pygments_lexer": "ipython3",
   "version": "3.12.3"
  }
 },
 "nbformat": 4,
 "nbformat_minor": 2
}
