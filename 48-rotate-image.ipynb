{
 "cells": [
  {
   "cell_type": "code",
   "execution_count": null,
   "id": "27ac66d7",
   "metadata": {},
   "outputs": [],
   "source": [
    "from typing import List\n",
    "\n",
    "class Solution:\n",
    "    def rotate(self, matrix: List[List[int]]) -> None:\n",
    "        \"\"\"\n",
    "        Do a vertical flip followed by a transpose\n",
    "        (sequential Householder transforms for the win)\n",
    "        \"\"\"\n",
    "        n = len(matrix)\n",
    "        # vertical mirror/flip\n",
    "        for i in range(n//2):\n",
    "            for j in range(n):\n",
    "                matrix[i][j], matrix[n-1-i][j] = matrix[n-1-i][j], matrix[i][j]\n",
    "\n",
    "        # transpose (diagonal mirror/flip)\n",
    "        for i in range(n):\n",
    "            for j in range(i+1, n):\n",
    "                matrix[i][j], matrix[j][i] = matrix[j][i], matrix[i][j]\n",
    "    \n",
    "        return matrix\n",
    "            "
   ]
  },
  {
   "cell_type": "code",
   "execution_count": null,
   "id": "3a70f82a",
   "metadata": {},
   "outputs": [],
   "source": [
    "sol = Solution()\n",
    "\n",
    "matrix = [[1,2,3],[4,5,6],[7,8,9]]\n",
    "sol.rotate(matrix)\n",
    "print(matrix)  # [[7,4,1],[8,5,2],[9,6,3]]\n",
    "\n",
    "matrix = [[5,1,9,11],[2,4,8,10],[13,3,6,7],[15,14,12,16]]\n",
    "sol.rotate(matrix)\n",
    "print(matrix)  # [[15,13,2,5],[14,3,4,1],[12,6,8,9],[16,7,10,11]]"
   ]
  },
  {
   "cell_type": "code",
   "execution_count": 1,
   "id": "562df39e",
   "metadata": {},
   "outputs": [],
   "source": [
    "# using just-in-time compiler, need to use numpy because numba doesn't like List[List[int]]\n",
    "\n",
    "import numpy as np\n",
    "from numba import njit\n",
    "from typing import List\n",
    "\n",
    "@njit\n",
    "def rotate_matrix_numpy(matrix: np.ndarray) -> None:\n",
    "    \"\"\"\n",
    "    Rotate matrix 90 degrees clockwise using NumPy array\n",
    "    Do a vertical flip followed by a transpose\n",
    "    \"\"\"\n",
    "    n = matrix.shape[0]\n",
    "    # vertical mirror/flip\n",
    "    for i in range(n//2):\n",
    "        for j in range(n):\n",
    "            matrix[i][j], matrix[n-1-i][j] = matrix[n-1-i][j], matrix[i][j]\n",
    "\n",
    "    # transpose (diagonal mirror/flip)\n",
    "    for i in range(n):\n",
    "        for j in range(i+1, n):\n",
    "            matrix[i][j], matrix[j][i] = matrix[j][i], matrix[i][j]\n",
    "\n",
    "class Solution:\n",
    "    def rotate(self, matrix: np.ndarray) -> None:\n",
    "        rotate_matrix_numpy(matrix)\n",
    "        return matrix"
   ]
  },
  {
   "cell_type": "code",
   "execution_count": 2,
   "id": "66d9bd8d",
   "metadata": {},
   "outputs": [
    {
     "name": "stdout",
     "output_type": "stream",
     "text": [
      "[[7 4 1]\n",
      " [8 5 2]\n",
      " [9 6 3]]\n",
      "[[15 13  2  5]\n",
      " [14  3  4  1]\n",
      " [12  6  8  9]\n",
      " [16  7 10 11]]\n"
     ]
    }
   ],
   "source": [
    "sol = Solution()\n",
    "\n",
    "matrix = np.array([[1,2,3],[4,5,6],[7,8,9]], dtype=np.int64)\n",
    "sol.rotate(matrix)\n",
    "print(matrix)  # [[7,4,1],[8,5,2],[9,6,3]]\n",
    "\n",
    "matrix = np.array([[5,1,9,11],[2,4,8,10],[13,3,6,7],[15,14,12,16]], dtype=np.int64)\n",
    "sol.rotate(matrix)\n",
    "print(matrix)  # [[15,13,2,5],[14,3,4,1],[12,6,8,9],[16,7,10,11]]"
   ]
  },
  {
   "cell_type": "code",
   "execution_count": null,
   "id": "c5783c5c",
   "metadata": {},
   "outputs": [],
   "source": [
    "import sys\n",
    "print(f\"Python executable: {sys.executable}\")\n",
    "print(f\"Python version: {sys.version}\")"
   ]
  },
  {
   "cell_type": "code",
   "execution_count": null,
   "id": "ea5e5eda",
   "metadata": {},
   "outputs": [],
   "source": []
  }
 ],
 "metadata": {
  "kernelspec": {
   "display_name": "base",
   "language": "python",
   "name": "python3"
  },
  "language_info": {
   "codemirror_mode": {
    "name": "ipython",
    "version": 3
   },
   "file_extension": ".py",
   "mimetype": "text/x-python",
   "name": "python",
   "nbconvert_exporter": "python",
   "pygments_lexer": "ipython3",
   "version": "3.12.9"
  }
 },
 "nbformat": 4,
 "nbformat_minor": 5
}
