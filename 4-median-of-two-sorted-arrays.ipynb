{
 "cells": [
  {
   "cell_type": "code",
   "execution_count": 1,
   "id": "7d34709d",
   "metadata": {},
   "outputs": [],
   "source": [
    "from typing import List\n",
    "\n",
    "class Solution:\n",
    "    def findMedianSortedArrays(self, nums1: List[int], nums2: List[int]) -> float:\n",
    "        if len(nums1) > len(nums2):\n",
    "            nums1, nums2 = nums2, nums1\n",
    "\n",
    "        len1, len2 = len(nums1), len(nums2)\n",
    "        left, right = 0, len1\n",
    "\n",
    "        while left <= right:\n",
    "            partition1 = (left + right) // 2\n",
    "            partition2 = (len1 + len2 + 1) // 2 - partition1\n",
    "\n",
    "            max_left1 = nums1[partition1 - 1] if partition1 > 0 else float('-inf')\n",
    "            max_left2 = nums2[partition2 - 1] if partition2 > 0 else float('-inf')\n",
    "            max_left = max(max_left1, max_left2)\n",
    "\n",
    "            min_right1 = nums1[partition1] if partition1 < len1 else float('inf')\n",
    "            min_right2 = nums2[partition2] if partition2 < len2 else float('inf')\n",
    "            min_right = min(min_right1, min_right2)\n",
    "\n",
    "            if max_left <= min_right:\n",
    "                if (len1 + len2) % 2 == 0:\n",
    "                    return (max_left + min_right) / 2\n",
    "                else:\n",
    "                    return max_left\n",
    "            elif max_left1 > min_right2:\n",
    "                right = partition1 - 1\n",
    "            else:\n",
    "                left = partition1 + 1\n",
    "\n",
    "        return 0.0"
   ]
  },
  {
   "cell_type": "code",
   "execution_count": null,
   "id": "8343222f",
   "metadata": {},
   "outputs": [],
   "source": []
  }
 ],
 "metadata": {
  "kernelspec": {
   "display_name": "python_dev",
   "language": "python",
   "name": "python3"
  },
  "language_info": {
   "codemirror_mode": {
    "name": "ipython",
    "version": 3
   },
   "file_extension": ".py",
   "mimetype": "text/x-python",
   "name": "python",
   "nbconvert_exporter": "python",
   "pygments_lexer": "ipython3",
   "version": "3.13.2"
  }
 },
 "nbformat": 4,
 "nbformat_minor": 5
}
