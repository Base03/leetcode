{
 "cells": [
  {
   "cell_type": "code",
   "execution_count": 13,
   "id": "106ce555",
   "metadata": {},
   "outputs": [],
   "source": [
    "from typing import List\n",
    "\n",
    "class Solution:\n",
    "    def plusOne(self, digits: List[int]) -> List[int]:\n",
    "        n = 0\n",
    "        fac = 1\n",
    "        for digit in reversed(digits):\n",
    "            n += digit * fac\n",
    "            fac *= 10\n",
    "\n",
    "        n = n + 1\n",
    "        print(f\"n+1: {n}\")\n",
    "        result = []\n",
    "        while n:\n",
    "            digit = n%10\n",
    "            result.append(digit)\n",
    "            n -= digit\n",
    "            n = n//10\n",
    "        \n",
    "        return list(reversed(result))\n",
    "        "
   ]
  },
  {
   "cell_type": "code",
   "execution_count": 14,
   "id": "694b4c23",
   "metadata": {},
   "outputs": [
    {
     "name": "stdout",
     "output_type": "stream",
     "text": [
      "n+1: 124\n",
      "expected: [1, 2, 4], result: [1, 2, 4]\n"
     ]
    }
   ],
   "source": [
    "soln = Solution()\n",
    "array = [1,2,3]\n",
    "expected = [1,2,4]\n",
    "print(f\"expected: {expected}, result: {soln.plusOne(array)}\")"
   ]
  },
  {
   "cell_type": "code",
   "execution_count": null,
   "id": "bf949b03",
   "metadata": {},
   "outputs": [],
   "source": []
  }
 ],
 "metadata": {
  "kernelspec": {
   "display_name": "python_dev",
   "language": "python",
   "name": "python3"
  },
  "language_info": {
   "codemirror_mode": {
    "name": "ipython",
    "version": 3
   },
   "file_extension": ".py",
   "mimetype": "text/x-python",
   "name": "python",
   "nbconvert_exporter": "python",
   "pygments_lexer": "ipython3",
   "version": "3.13.2"
  }
 },
 "nbformat": 4,
 "nbformat_minor": 5
}
