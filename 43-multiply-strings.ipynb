{
 "cells": [
  {
   "cell_type": "code",
   "execution_count": null,
   "metadata": {},
   "outputs": [],
   "source": [
    "#from itertools import dropwhile\n",
    "\n",
    "class Solution:\n",
    "\n",
    "    def multiply_cheating(self, num1: str, num2: str) -> str:\n",
    "        return str(int(num1) * int(num2))  # 😈\n",
    "\n",
    "    def multiply_inefficient(self, num1: str, num2: str) -> str:\n",
    "        # python has arbitrary length integers, so we can just multiply the numbers and be done with it,\n",
    "        # but that's CHEATING\n",
    "        #check = str(int(num1) * int(num2))\n",
    "        # reverse the strings to make the math less annoying because humans are stupid and decided to\n",
    "        # write numbers backwards to that the MSD is to the left?!\n",
    "        num1 = list(num1)[::-1]\n",
    "        num2 = list(num2)[::-1]\n",
    "        result = [0] * (len(num1) + len(num2))\n",
    "        for i in range(len(num1)):\n",
    "            for j in range(len(num2)):\n",
    "                # multiply the digits and add them to the correct place in the result\n",
    "                result[i+j] = result[i+j] + int(num1[i]) * int(num2[j])\n",
    "                result[i+j+1] = result[i+j+1] + result[i+j] // 10\n",
    "                result[i+j] = result[i+j] % 10\n",
    "\n",
    "        result = result[::-1]\n",
    "        #trim leading zeros\n",
    "        idx = 0\n",
    "        while idx < (len(result) - 1) and result[idx] == 0:\n",
    "            idx += 1\n",
    "        result = result[idx:]\n",
    "        result = \"\".join([str(x) for x in result])\n",
    "        #print(f\"result: {result}, check: {check}\")\n",
    "\n",
    "        return str(result)\n",
    "\n",
    "    def multiply_better(self, num1: str, num2: str) -> str:\n",
    "        # same as above, but this time we don't reverse the strings\n",
    "        result = [0] * (len(num1) + len(num2))\n",
    "        for i in range(len(num1)-1, -1, -1):\n",
    "            for j in range(len(num2)-1, -1, -1):\n",
    "                # multiply the digits and add them to the correct place in the result\n",
    "                result[i+j+1] = result[i+j+1] + int(num1[i]) * int(num2[j])\n",
    "                result[i+j] = result[i+j] + result[i+j+1] // 10\n",
    "                result[i+j+1] = result[i+j+1] % 10\n",
    "        \n",
    "        #trim leading zeros \n",
    "        # without using a while loop, but then you need to treat the 0 case separately\n",
    "        #result = \"\".join(str(x) for x in dropwhile(lambda x: x == 0, result))\n",
    "        idx = 0\n",
    "        while idx < (len(result) - 1) and result[idx] == 0:\n",
    "            idx += 1\n",
    "        result = result[idx:]\n",
    "        return \"\".join([str(x) for x in result])\n",
    "    \n",
    "    def multiply(self, num1: str, num2: str) -> str:\n",
    "        # Handle edge cases\n",
    "        if num1 == \"0\" or num2 == \"0\":\n",
    "            return \"0\"\n",
    "            \n",
    "        # Use array to store digits directly\n",
    "        n1, n2 = len(num1), len(num2)\n",
    "        result = [0] * (n1 + n2)\n",
    "        \n",
    "        # Work directly with integer values\n",
    "        for i in range(n1 - 1, -1, -1):\n",
    "            digit1 = ord(num1[i]) - ord('0')  # faster than int()\n",
    "            for j in range(n2 - 1, -1, -1):\n",
    "                digit2 = ord(num2[j]) - ord('0')\n",
    "                pos = i + j + 1\n",
    "                curr = digit1 * digit2 + result[pos]\n",
    "                result[pos] = curr % 10\n",
    "                result[pos-1] += curr // 10\n",
    "        \n",
    "        # Convert to string efficiently\n",
    "        if result[0] == 0:\n",
    "            result = result[1:]\n",
    "        return ''.join(map(str, result))\n"
   ]
  },
  {
   "cell_type": "code",
   "execution_count": 43,
   "metadata": {},
   "outputs": [
    {
     "data": {
      "text/plain": [
       "'56088'"
      ]
     },
     "execution_count": 43,
     "metadata": {},
     "output_type": "execute_result"
    }
   ],
   "source": [
    "Solution().multiply(\"123\", \"456\")"
   ]
  },
  {
   "cell_type": "code",
   "execution_count": null,
   "metadata": {},
   "outputs": [],
   "source": []
  }
 ],
 "metadata": {
  "kernelspec": {
   "display_name": ".venv",
   "language": "python",
   "name": "python3"
  },
  "language_info": {
   "codemirror_mode": {
    "name": "ipython",
    "version": 3
   },
   "file_extension": ".py",
   "mimetype": "text/x-python",
   "name": "python",
   "nbconvert_exporter": "python",
   "pygments_lexer": "ipython3",
   "version": "3.12.3"
  }
 },
 "nbformat": 4,
 "nbformat_minor": 2
}
