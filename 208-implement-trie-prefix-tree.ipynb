{
 "cells": [
  {
   "cell_type": "code",
   "execution_count": 1,
   "metadata": {},
   "outputs": [],
   "source": [
    "class TrieNode:\n",
    "    def __init__(self):\n",
    "        self.children = {}\n",
    "        self.isEnd = False\n",
    "\n",
    "class Trie:\n",
    "\n",
    "    def __init__(self):\n",
    "        self.root = TrieNode()\n",
    "        \n",
    "    def insert(self, word: str) -> None:\n",
    "        node = self.root\n",
    "        for i in range(len(word)):\n",
    "            if word[i] not in node.children:\n",
    "                node.children[word[i]] = TrieNode()\n",
    "            node = node.children[word[i]]\n",
    "        node.isEnd = True\n",
    "        \n",
    "    def search(self, word: str) -> bool:\n",
    "        node = self.root\n",
    "        for i in range(len(word)):\n",
    "            if word[i] not in node.children:\n",
    "                return False\n",
    "            node = node.children[word[i]]\n",
    "        return node.isEnd\n",
    "        \n",
    "\n",
    "    def startsWith(self, prefix: str) -> bool:\n",
    "        node = self.root\n",
    "        for i in range(len(prefix)):\n",
    "            if prefix[i] not in node.children:\n",
    "                return False\n",
    "            node = node.children[prefix[i]]\n",
    "        return True\n",
    "        \n",
    "\n",
    "# Your Trie object will be instantiated and called as such:\n",
    "# obj = Trie()\n",
    "# obj.insert(word)\n",
    "# param_2 = obj.search(word)\n",
    "# param_3 = obj.startsWith(prefix)"
   ]
  },
  {
   "cell_type": "code",
   "execution_count": 2,
   "metadata": {},
   "outputs": [
    {
     "name": "stdout",
     "output_type": "stream",
     "text": [
      "True True\n",
      "False False\n",
      "True True\n",
      "True True\n"
     ]
    }
   ],
   "source": [
    "# test 1\n",
    "trie: Trie = Trie()\n",
    "trie.insert(\"apple\")\n",
    "print(trie.search(\"apple\"), True) # return True\n",
    "print(trie.search(\"app\"), False) # return False\n",
    "print(trie.startsWith(\"app\"), True) # return True\n",
    "trie.insert(\"app\")\n",
    "print(trie.search(\"app\"), True) # return True\n"
   ]
  },
  {
   "cell_type": "code",
   "execution_count": null,
   "metadata": {},
   "outputs": [],
   "source": []
  }
 ],
 "metadata": {
  "kernelspec": {
   "display_name": ".venv",
   "language": "python",
   "name": "python3"
  },
  "language_info": {
   "codemirror_mode": {
    "name": "ipython",
    "version": 3
   },
   "file_extension": ".py",
   "mimetype": "text/x-python",
   "name": "python",
   "nbconvert_exporter": "python",
   "pygments_lexer": "ipython3",
   "version": "3.12.3"
  }
 },
 "nbformat": 4,
 "nbformat_minor": 2
}
