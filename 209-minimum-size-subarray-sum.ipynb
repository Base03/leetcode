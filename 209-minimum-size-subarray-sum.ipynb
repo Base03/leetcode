{
 "cells": [
  {
   "cell_type": "code",
   "execution_count": 12,
   "metadata": {},
   "outputs": [],
   "source": [
    "from typing import List\n",
    "\n",
    "class Solution:\n",
    "    def minSubArrayLen(self, target: int, nums: List[int]) -> int:\n",
    "        a, b = 0, 0\n",
    "        running_sum = 0\n",
    "        min_len = len(nums) + 1\n",
    "        while b < len(nums):\n",
    "            #print(f\"outer loop: a={a}, b={b}, running_sum={running_sum}\")\n",
    "            running_sum += nums[b]\n",
    "            b += 1\n",
    "            if running_sum >= target:\n",
    "                while running_sum - nums[a] >= target:\n",
    "                    running_sum -= nums[a]\n",
    "                    a += 1\n",
    "                min_len = min(min_len, b - a)\n",
    "\n",
    "        if min_len == len(nums) + 1:\n",
    "            return 0\n",
    "        return min_len\n",
    "        "
   ]
  },
  {
   "cell_type": "code",
   "execution_count": 16,
   "metadata": {},
   "outputs": [],
   "source": [
    "from typing import List\n",
    "\n",
    "class Solution:\n",
    "    def minSubArrayLen(self, target: int, nums: List[int]) -> int:\n",
    "        a, b = 0, 0\n",
    "        running_sum = 0\n",
    "        min_len = len(nums) + 1\n",
    "        for b in range(len(nums)):\n",
    "            #print(f\"outer loop: a={a}, b={b}, running_sum={running_sum}\")\n",
    "            running_sum += nums[b]\n",
    "            if running_sum >= target:\n",
    "                while running_sum - nums[a] >= target:\n",
    "                    running_sum -= nums[a]\n",
    "                    a += 1\n",
    "                min_len = min(min_len, 1 + b - a)\n",
    "\n",
    "        if min_len == len(nums) + 1:\n",
    "            return 0\n",
    "        return min_len\n",
    "        "
   ]
  },
  {
   "cell_type": "code",
   "execution_count": 17,
   "metadata": {},
   "outputs": [
    {
     "name": "stdout",
     "output_type": "stream",
     "text": [
      "output: 2 expected: 2\n",
      "output: 1 expected: 1\n",
      "output: 0 expected: 0\n"
     ]
    }
   ],
   "source": [
    "# test 1:\n",
    "target = 7\n",
    "nums = [2,3,1,2,4,3]\n",
    "expected = 2\n",
    "output = Solution().minSubArrayLen(target, nums)\n",
    "print(\"output:\", output, \"expected:\", expected)\n",
    "\n",
    "# test 2:\n",
    "target = 4\n",
    "nums = [1,4,4]\n",
    "expected = 1\n",
    "output = Solution().minSubArrayLen(target, nums)\n",
    "print(\"output:\", output, \"expected:\", expected)\n",
    "\n",
    "# test 3:\n",
    "target = 11\n",
    "nums = [1,1,1,1,1,1,1,1]\n",
    "expected = 0\n",
    "output = Solution().minSubArrayLen(target, nums)\n",
    "print(\"output:\", output, \"expected:\", expected)"
   ]
  },
  {
   "cell_type": "code",
   "execution_count": null,
   "metadata": {},
   "outputs": [],
   "source": []
  }
 ],
 "metadata": {
  "kernelspec": {
   "display_name": ".venv",
   "language": "python",
   "name": "python3"
  },
  "language_info": {
   "codemirror_mode": {
    "name": "ipython",
    "version": 3
   },
   "file_extension": ".py",
   "mimetype": "text/x-python",
   "name": "python",
   "nbconvert_exporter": "python",
   "pygments_lexer": "ipython3",
   "version": "3.12.3"
  }
 },
 "nbformat": 4,
 "nbformat_minor": 2
}
