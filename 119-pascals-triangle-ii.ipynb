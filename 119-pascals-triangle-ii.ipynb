{
 "cells": [
  {
   "cell_type": "code",
   "execution_count": 8,
   "metadata": {},
   "outputs": [],
   "source": [
    "from typing import List\n",
    "\n",
    "class Solution:\n",
    "    def getRow(self, rowIndex: int) -> List[int]:\n",
    "        if rowIndex == 0:\n",
    "            return [1]\n",
    "        \n",
    "        prev_row = self.getRow(rowIndex - 1)\n",
    "        row = [1]*(rowIndex+1)\n",
    "        for i in range(1, rowIndex):\n",
    "            row[i] = prev_row[i-1] + prev_row[i]\n",
    "        \n",
    "        return row"
   ]
  },
  {
   "cell_type": "code",
   "execution_count": 9,
   "metadata": {},
   "outputs": [
    {
     "name": "stdout",
     "output_type": "stream",
     "text": [
      "trial:  [1] expected:  [1] pass:  True\n",
      "trial:  [1, 1] expected:  [1, 1] pass:  True\n",
      "trial:  [1, 2, 1] expected:  [1, 2, 1] pass:  True\n",
      "trial:  [1, 3, 3, 1] expected:  [1, 3, 3, 1] pass:  True\n",
      "trial:  [1, 4, 6, 4, 1] expected:  [1, 4, 6, 4, 1] pass:  True\n"
     ]
    }
   ],
   "source": [
    "# test\n",
    "trial = Solution().getRow(0)\n",
    "expected = [1]\n",
    "print(\"trial: \", trial, \"expected: \", expected, \"pass: \", trial == expected)\n",
    "\n",
    "# test\n",
    "trial = Solution().getRow(1)\n",
    "expected = [1,1]\n",
    "print(\"trial: \", trial, \"expected: \", expected, \"pass: \", trial == expected)\n",
    "\n",
    "# test\n",
    "trial = Solution().getRow(2)\n",
    "expected = [1,2,1]\n",
    "print(\"trial: \", trial, \"expected: \", expected, \"pass: \", trial == expected)\n",
    "\n",
    "# test\n",
    "trial = Solution().getRow(3)\n",
    "expected = [1,3,3,1]\n",
    "print(\"trial: \", trial, \"expected: \", expected, \"pass: \", trial == expected)\n",
    "\n",
    "# test\n",
    "trial = Solution().getRow(4)\n",
    "expected = [1,4,6,4,1]\n",
    "print(\"trial: \", trial, \"expected: \", expected, \"pass: \", trial == expected)"
   ]
  },
  {
   "cell_type": "code",
   "execution_count": null,
   "metadata": {},
   "outputs": [],
   "source": []
  }
 ],
 "metadata": {
  "kernelspec": {
   "display_name": ".venv",
   "language": "python",
   "name": "python3"
  },
  "language_info": {
   "codemirror_mode": {
    "name": "ipython",
    "version": 3
   },
   "file_extension": ".py",
   "mimetype": "text/x-python",
   "name": "python",
   "nbconvert_exporter": "python",
   "pygments_lexer": "ipython3",
   "version": "3.12.3"
  }
 },
 "nbformat": 4,
 "nbformat_minor": 2
}
