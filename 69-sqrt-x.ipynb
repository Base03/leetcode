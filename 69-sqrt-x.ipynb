{
 "cells": [
  {
   "cell_type": "code",
   "execution_count": 43,
   "id": "c962c38c",
   "metadata": {},
   "outputs": [],
   "source": [
    "from math import inf\n",
    "\n",
    "\n",
    "class Solution:\n",
    "    def mySqrt(self, x: int) -> int:\n",
    "        left = 1\n",
    "        right = x \n",
    "        old_left = -inf\n",
    "        old_right = inf\n",
    "\n",
    "        while old_left != left or old_right != right:\n",
    "            mid = (left + right) // 2\n",
    "            old_right = right\n",
    "            old_left = left\n",
    "            if mid*mid > x:\n",
    "                right = mid\n",
    "            else:\n",
    "                left = mid\n",
    "\n",
    "        #print(f\"left: {left}, right: {right}\")\n",
    "        return left"
   ]
  },
  {
   "cell_type": "code",
   "execution_count": 44,
   "id": "50a2ec0c",
   "metadata": {},
   "outputs": [
    {
     "name": "stdout",
     "output_type": "stream",
     "text": [
      "sqrt(1): 1 expected: 1\n",
      "sqrt(2): 1 expected: 1\n",
      "sqrt(3): 1 expected: 1\n",
      "sqrt(4): 2 expected: 2\n",
      "sqrt(5): 2 expected: 2\n",
      "sqrt(6): 2 expected: 2\n",
      "sqrt(7): 2 expected: 2\n",
      "sqrt(8): 2 expected: 2\n",
      "sqrt(9): 3 expected: 3\n",
      "sqrt(10): 3 expected: 3\n"
     ]
    }
   ],
   "source": [
    "soln = Solution()\n",
    "print(f\"sqrt(1): {soln.mySqrt(1)} expected: 1\")\n",
    "print(f\"sqrt(2): {soln.mySqrt(2)} expected: 1\")\n",
    "print(f\"sqrt(3): {soln.mySqrt(3)} expected: 1\")\n",
    "print(f\"sqrt(4): {soln.mySqrt(4)} expected: 2\")\n",
    "print(f\"sqrt(5): {soln.mySqrt(5)} expected: 2\")\n",
    "print(f\"sqrt(6): {soln.mySqrt(6)} expected: 2\")\n",
    "print(f\"sqrt(7): {soln.mySqrt(7)} expected: 2\")\n",
    "print(f\"sqrt(8): {soln.mySqrt(8)} expected: 2\")\n",
    "print(f\"sqrt(9): {soln.mySqrt(9)} expected: 3\")\n",
    "print(f\"sqrt(10): {soln.mySqrt(10)} expected: 3\")"
   ]
  },
  {
   "cell_type": "code",
   "execution_count": null,
   "id": "f001d5ec",
   "metadata": {},
   "outputs": [],
   "source": []
  }
 ],
 "metadata": {
  "kernelspec": {
   "display_name": "python_dev",
   "language": "python",
   "name": "python3"
  },
  "language_info": {
   "codemirror_mode": {
    "name": "ipython",
    "version": 3
   },
   "file_extension": ".py",
   "mimetype": "text/x-python",
   "name": "python",
   "nbconvert_exporter": "python",
   "pygments_lexer": "ipython3",
   "version": "3.13.2"
  }
 },
 "nbformat": 4,
 "nbformat_minor": 5
}
