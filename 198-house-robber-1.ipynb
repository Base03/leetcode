{
 "cells": [
  {
   "cell_type": "code",
   "execution_count": null,
   "metadata": {},
   "outputs": [],
   "source": [
    "from typing import List\n",
    "\n",
    "class Solution:\n",
    "    # recursive\n",
    "    def rob(self, nums: List[int]) -> int:\n",
    "        memo = dict()\n",
    "        def helper(start) -> int:\n",
    "            if start >= len(nums):\n",
    "                return 0\n",
    "            if start in memo:\n",
    "                return memo[start]\n",
    "            memo[start] = max(helper(start+1), helper(start+2) + nums[start])\n",
    "            return memo[start]\n",
    "        return helper(0)\n",
    "    \n",
    "    # dynamic programming\n",
    "    def rob(self, nums: List[int]) -> int:\n",
    "        if len(nums) == 1:\n",
    "            return nums[0]\n",
    "        if len(nums) == 0:\n",
    "            return 0\n",
    "            \n",
    "        dp = [0]*(len(nums))\n",
    "        dp[0] = nums[0]\n",
    "        dp[1] = max(nums[0], nums[1])\n",
    "        for i in range(2, len(nums)):\n",
    "            dp[i] = max(dp[i-1], dp[i-2] + nums[i])\n",
    "        return dp[-1]\n",
    "    "
   ]
  },
  {
   "cell_type": "code",
   "execution_count": 13,
   "metadata": {},
   "outputs": [
    {
     "name": "stdout",
     "output_type": "stream",
     "text": [
      "output:  4  expected:  4\n",
      "output:  12  expected:  12\n",
      "output:  4  expected:  4\n"
     ]
    }
   ],
   "source": [
    "# test 1:\n",
    "nums = [1,2,3,1]\n",
    "expected = 4\n",
    "output = Solution().rob(nums)\n",
    "print(\"output: \", output, \" expected: \", expected)\n",
    "\n",
    "# test 2:\n",
    "nums = [2,7,9,3,1]\n",
    "expected = 12\n",
    "output = Solution().rob(nums)\n",
    "print(\"output: \", output, \" expected: \", expected)\n",
    "\n",
    "# test 3:\n",
    "nums = [2,1,1,2]\n",
    "expected = 4\n",
    "output = Solution().rob(nums)\n",
    "print(\"output: \", output, \" expected: \", expected)"
   ]
  },
  {
   "cell_type": "code",
   "execution_count": null,
   "metadata": {},
   "outputs": [],
   "source": []
  }
 ],
 "metadata": {
  "kernelspec": {
   "display_name": ".venv",
   "language": "python",
   "name": "python3"
  },
  "language_info": {
   "codemirror_mode": {
    "name": "ipython",
    "version": 3
   },
   "file_extension": ".py",
   "mimetype": "text/x-python",
   "name": "python",
   "nbconvert_exporter": "python",
   "pygments_lexer": "ipython3",
   "version": "3.12.3"
  }
 },
 "nbformat": 4,
 "nbformat_minor": 2
}
