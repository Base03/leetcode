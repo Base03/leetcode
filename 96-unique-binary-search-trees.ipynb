{
 "cells": [
  {
   "cell_type": "code",
   "execution_count": 32,
   "metadata": {},
   "outputs": [],
   "source": [
    "# Definition for a binary tree node.\n",
    "from typing import List, Optional\n",
    "from collections import deque\n",
    "\n",
    "\n",
    "class TreeNode:\n",
    "    def __init__(self, val=0, left=None, right=None):\n",
    "        self.val = val\n",
    "        self.left = left\n",
    "        self.right = right\n",
    "\n",
    "    def __str__(self):\n",
    "        return '{}({})({})'.format(self.val, self.left, self.right)\n",
    "    \n",
    "    def __repr__(self):\n",
    "        return self.__str__()\n",
    "\n",
    "\n",
    "class Solution:\n",
    "    # binary tress have a representation where everything to the left of a node is \n",
    "    # less than the node and everything to the right is greater than the node\n",
    "    def numTrees(self, n: int) -> int:\n",
    "        return len(self.generateTrees(n))\n",
    "    \n",
    "    def generateTrees(self, n: int) -> List[Optional[TreeNode]]:\n",
    "        def generate_trees(start, end) -> List[Optional[TreeNode]]:\n",
    "            if start > end:\n",
    "                return [None,]\n",
    "            \n",
    "            all_trees = []\n",
    "            for i in range(start, end + 1):\n",
    "                left_trees = generate_trees(start, i - 1)\n",
    "                right_trees = generate_trees(i + 1, end)\n",
    "                \n",
    "                for left_branch in left_trees:\n",
    "                    for right_branch in right_trees:\n",
    "                        current_tree = TreeNode(i)\n",
    "                        current_tree.left = left_branch\n",
    "                        current_tree.right = right_branch\n",
    "                        all_trees.append(current_tree)\n",
    "            \n",
    "            return all_trees\n",
    "        \n",
    "        return generate_trees(1, n) if n > 0 else []\n",
    "    \n",
    "    "
   ]
  },
  {
   "cell_type": "code",
   "execution_count": 36,
   "metadata": {},
   "outputs": [
    {
     "name": "stdout",
     "output_type": "stream",
     "text": [
      "num: 14\n"
     ]
    }
   ],
   "source": [
    "# test 1\n",
    "n = 4\n",
    "print(\"num:\", Solution().numTrees(n)) # 14"
   ]
  },
  {
   "cell_type": "code",
   "execution_count": null,
   "metadata": {},
   "outputs": [],
   "source": []
  },
  {
   "cell_type": "code",
   "execution_count": null,
   "metadata": {},
   "outputs": [],
   "source": []
  }
 ],
 "metadata": {
  "kernelspec": {
   "display_name": ".venv",
   "language": "python",
   "name": "python3"
  },
  "language_info": {
   "codemirror_mode": {
    "name": "ipython",
    "version": 3
   },
   "file_extension": ".py",
   "mimetype": "text/x-python",
   "name": "python",
   "nbconvert_exporter": "python",
   "pygments_lexer": "ipython3",
   "version": "3.12.3"
  }
 },
 "nbformat": 4,
 "nbformat_minor": 2
}
