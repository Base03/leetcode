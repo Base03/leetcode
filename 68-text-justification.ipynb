{
 "cells": [
  {
   "cell_type": "code",
   "execution_count": 32,
   "metadata": {},
   "outputs": [],
   "source": [
    "from typing import List, Tuple\n",
    "\n",
    "class Solution:\n",
    "    def leftJustify(self, line: List[Tuple[str, int]], maxWidth: int) -> str:\n",
    "        result = ''\n",
    "\n",
    "        for i in range(len(line)-1):\n",
    "            result += line[i][0] + ' '\n",
    "        result += line[-1][0]\n",
    "        result += ' ' * (maxWidth - len(result))\n",
    "\n",
    "        return result\n",
    "    \n",
    "    def justifyEqual(self, line: List[Tuple[str, int]], maxWidth: int) -> str:\n",
    "        if len(line) == 1:\n",
    "            return self.leftJustify(line, maxWidth)\n",
    "        \n",
    "        result = ''\n",
    "        line_length = line[-1][1]\n",
    "        extra_spaces = maxWidth - line_length\n",
    "        extra_spaces_per_word = extra_spaces // (len(line)-1)\n",
    "        remaining_spaces = extra_spaces % (len(line)-1)\n",
    "\n",
    "        for i in range(len(line)-1):\n",
    "            result += line[i][0] + ' ' * (extra_spaces_per_word + 1)\n",
    "            result += ' ' if remaining_spaces > 0 else ''\n",
    "            remaining_spaces -= 1\n",
    "        result += line[-1][0]\n",
    "\n",
    "        return result\n",
    "    \n",
    "    def preProcess(self, words: List[str], maxWidth: int) -> List[Tuple[str, int]]:\n",
    "        partial_results = []\n",
    "        line = []\n",
    "        count = 0\n",
    "        for word in words:\n",
    "            if count + len(word) > maxWidth:\n",
    "                partial_results.append(line)\n",
    "                line = []\n",
    "                count = 0\n",
    "            count += len(word) + 1\n",
    "            line.append((word, count-1))\n",
    "        if line:\n",
    "            partial_results.append(line)\n",
    "        \n",
    "        return partial_results\n",
    "\n",
    "\n",
    "    def fullJustify(self, words: List[str], maxWidth: int) -> List[str]:\n",
    "        partial_results = self.preProcess(words, maxWidth)\n",
    "        result = []\n",
    "        for i in range(len(partial_results)):\n",
    "            if i < len(partial_results) - 1:\n",
    "                result.append(self.justifyEqual(partial_results[i], maxWidth))\n",
    "            else:\n",
    "                result.append(self.leftJustify(partial_results[i], maxWidth))\n",
    "            \n",
    "        return result\n",
    "        "
   ]
  },
  {
   "cell_type": "code",
   "execution_count": 33,
   "metadata": {},
   "outputs": [
    {
     "name": "stdout",
     "output_type": "stream",
     "text": [
      "result:\n",
      " ['This    is    an', 'example  of text', 'justification.  '] \n",
      "expected:\n",
      " ['This    is    an', 'example  of text', 'justification.  ']\n",
      "\n",
      "result:\n",
      " ['What   must   be', 'acknowledgment  ', 'shall be        '] \n",
      "expected:\n",
      " ['What   must   be', 'acknowledgment  ', 'shall be        ']\n",
      "result:\n",
      " ['Science  is  what we', 'understand      well', 'enough to explain to', 'a  computer.  Art is', 'everything  else  we', 'do                  '] \n",
      "expected:\n",
      " ['Science  is  what we', 'understand      well', 'enough to explain to', 'a  computer.  Art is', 'everything  else  we', 'do                  ']\n"
     ]
    }
   ],
   "source": [
    "# test 1:\n",
    "words = [\"This\", \"is\", \"an\", \"example\", \"of\", \"text\", \"justification.\"]\n",
    "maxWidth = 16\n",
    "expected = [\"This    is    an\", \"example  of text\", \"justification.  \"]\n",
    "print(\"result:\\n\", Solution().fullJustify(words, maxWidth), \"\\nexpected:\\n\", expected)\n",
    "print()\n",
    "\n",
    "# test 2:\n",
    "words = [\"What\",\"must\",\"be\",\"acknowledgment\",\"shall\",\"be\"]\n",
    "maxWidth = 16\n",
    "expected = [\"What   must   be\", \"acknowledgment  \", \"shall be        \"]\n",
    "print(\"result:\\n\", Solution().fullJustify(words, maxWidth), \"\\nexpected:\\n\", expected)\n",
    "\n",
    "# test 3:\n",
    "words = [\"Science\", \"is\", \"what\", \"we\", \"understand\", \"well\", \"enough\", \"to\", \"explain\", \"to\", \"a\", \"computer.\", \"Art\", \"is\", \"everything\", \"else\", \"we\", \"do\"]\n",
    "maxWidth = 20\n",
    "expected = [\"Science  is  what we\", \"understand      well\", \"enough to explain to\", \"a  computer.  Art is\", \"everything  else  we\", \"do                  \"]\n",
    "print(\"result:\\n\", Solution().fullJustify(words, maxWidth), \"\\nexpected:\\n\", expected)"
   ]
  },
  {
   "cell_type": "code",
   "execution_count": null,
   "metadata": {},
   "outputs": [],
   "source": []
  }
 ],
 "metadata": {
  "kernelspec": {
   "display_name": ".venv",
   "language": "python",
   "name": "python3"
  },
  "language_info": {
   "codemirror_mode": {
    "name": "ipython",
    "version": 3
   },
   "file_extension": ".py",
   "mimetype": "text/x-python",
   "name": "python",
   "nbconvert_exporter": "python",
   "pygments_lexer": "ipython3",
   "version": "3.12.3"
  }
 },
 "nbformat": 4,
 "nbformat_minor": 2
}
