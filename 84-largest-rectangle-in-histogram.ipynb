{
 "cells": [
  {
   "cell_type": "code",
   "execution_count": 18,
   "metadata": {},
   "outputs": [],
   "source": [
    "from typing import List\n",
    "\n",
    "class Solution:\n",
    "    def largestRectangleArea(self, heights: List[int]) -> int:\n",
    "        max_area = 0\n",
    "        start_stack = []\n",
    "\n",
    "        # any future height will be limited by the current height so we can remove \n",
    "        # all possible start heights greater than it from the stack because they\n",
    "        # won't be able to include the current position with their height\n",
    "        def poppers(i: int, h: int) -> int:\n",
    "            area = 0\n",
    "            while start_stack and heights[start_stack[-1]] > h:\n",
    "                # we are considering rectangles formed BEFORE the current height\n",
    "                # so the start index is i-1. The \"i if not start_stack\" is \n",
    "                # because we are zero indexed and comparing things before the\n",
    "                # current position\n",
    "                height = heights[start_stack.pop()]\n",
    "                width = i if not start_stack else (i-1) - start_stack[-1]\n",
    "                area = max(area, height * width)\n",
    "            return area\n",
    "\n",
    "        for i in range(len(heights)):\n",
    "            max_area = max(max_area, poppers(i, heights[i]))\n",
    "            start_stack.append(i)\n",
    "        # we have to clear the stack after the loop because there are no future\n",
    "        # heights to limit the current heights. We could just append a 0 to the \n",
    "        # heights, but causing side effects isn't a good idea\n",
    "        i = len(heights)\n",
    "        max_area = max(max_area, poppers(i, 0))\n",
    "        return max_area"
   ]
  },
  {
   "cell_type": "code",
   "execution_count": 19,
   "metadata": {},
   "outputs": [
    {
     "name": "stdout",
     "output_type": "stream",
     "text": [
      "max area: 10 expected: 10\n",
      "max area: 4 expected: 4\n"
     ]
    }
   ],
   "source": [
    "# test 1\n",
    "heights = [2,1,5,6,2,3]\n",
    "expected = 10\n",
    "print(\"max area:\", Solution().largestRectangleArea(heights), \"expected:\", expected)\n",
    "\n",
    "# test 2\n",
    "heights = [2,4]\n",
    "expected = 4\n",
    "print(\"max area:\", Solution().largestRectangleArea(heights), \"expected:\", expected)"
   ]
  },
  {
   "cell_type": "code",
   "execution_count": null,
   "metadata": {},
   "outputs": [],
   "source": []
  }
 ],
 "metadata": {
  "kernelspec": {
   "display_name": ".venv",
   "language": "python",
   "name": "python3"
  },
  "language_info": {
   "codemirror_mode": {
    "name": "ipython",
    "version": 3
   },
   "file_extension": ".py",
   "mimetype": "text/x-python",
   "name": "python",
   "nbconvert_exporter": "python",
   "pygments_lexer": "ipython3",
   "version": "3.12.3"
  }
 },
 "nbformat": 4,
 "nbformat_minor": 2
}
