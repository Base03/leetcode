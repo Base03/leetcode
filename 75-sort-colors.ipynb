{
 "cells": [
  {
   "cell_type": "code",
   "execution_count": null,
   "metadata": {},
   "outputs": [],
   "source": [
    "from typing import List\n",
    "\n",
    "class Solution:\n",
    "    def sortColors(self, nums: List[int]) -> None:\n",
    "        \"\"\"\n",
    "        Do not return anything, modify nums in-place instead.\n",
    "        Solution without sorting\n",
    "        \"\"\"\n",
    "\n",
    "        n = len(nums)\n",
    "        colors = [0,0,0]\n",
    "        for elem in nums:\n",
    "            colors[elem] += 1\n",
    "        \n",
    "        idx = 0\n",
    "        for color in range(len(colors)):\n",
    "            nums[idx:idx + colors[color]] = [color] * colors[color]\n",
    "            idx += colors[color]"
   ]
  },
  {
   "cell_type": "code",
   "execution_count": null,
   "metadata": {},
   "outputs": [],
   "source": [
    "from typing import List\n",
    "\n",
    "class Solution:\n",
    "    def sortColors(self, nums: List[int]) -> None:\n",
    "        \"\"\"\n",
    "        pointer method\n",
    "        \"\"\"\n",
    "\n",
    "        ptr_0 = 0\n",
    "        ptr_1 = 0\n",
    "        ptr_2 = len(nums) - 1\n",
    "\n",
    "        while ptr_1 <= ptr_2:\n",
    "            if nums[ptr_1] == 0: # swap with ptr_0\n",
    "                nums[ptr_0], nums[ptr_1] = nums[ptr_1], nums[ptr_0]\n",
    "                ptr_0 += 1\n",
    "                ptr_1 += 1\n",
    "            elif nums[ptr_1] == 1: #correct, so increment\n",
    "                ptr_1 += 1\n",
    "            else:\n",
    "                nums[ptr_1], nums[ptr_2] = nums[ptr_2], nums[ptr_1]\n",
    "                ptr_2 -= 1"
   ]
  },
  {
   "cell_type": "code",
   "execution_count": null,
   "metadata": {},
   "outputs": [],
   "source": []
  }
 ],
 "metadata": {
  "kernelspec": {
   "display_name": ".venv",
   "language": "python",
   "name": "python3"
  },
  "language_info": {
   "name": "python",
   "version": "3.12.3"
  }
 },
 "nbformat": 4,
 "nbformat_minor": 2
}
