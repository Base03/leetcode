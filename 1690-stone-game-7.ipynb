{
 "cells": [
  {
   "cell_type": "code",
   "execution_count": 33,
   "metadata": {},
   "outputs": [],
   "source": [
    "from typing import List\n",
    "\n",
    "class Solution:\n",
    "    def stoneGameVIIMemo(self, stones: List[int]) -> int:\n",
    "        n = len(stones)\n",
    "        memo = {}\n",
    "        pfs = [0] * (n+1)\n",
    "        for i in range(n):\n",
    "            pfs[i+1] = pfs[i] + stones[i]\n",
    "        \n",
    "        #print(stones)\n",
    "        #print(pfs)\n",
    "\n",
    "        def helper(i: int, j: int, turn: bool) -> int:\n",
    "            if i == j:\n",
    "                return 0\n",
    "            if (i, j, turn) in memo:\n",
    "                return memo[(i,j,turn)]\n",
    "            \n",
    "            res = 0\n",
    "            if turn:\n",
    "                # maximizing player wants to maximize the difference (score + recursive calls)\n",
    "                res = max((pfs[j+1] - pfs[i+1]) + helper(i+1, j, not turn), (pfs[j] - pfs[i]) + helper(i, j-1, not turn))\n",
    "            else:\n",
    "                # minimizing player wants to minimize the difference between the score (pfs) and recursive calls\n",
    "                # to the maximizing player.\n",
    "                res = min(-(pfs[j+1] - pfs[i+1]) + helper(i+1, j, not turn), -(pfs[j] - pfs[i]) + helper(i, j-1, not turn))\n",
    "            memo[(i,j,turn)] = res\n",
    "            return res\n",
    "        \n",
    "        return helper(0, n-1, True) \n",
    "    \n",
    "    def stoneGameVIIDP(self, stones: List[int]) -> int:\n",
    "        n = len(stones)\n",
    "        dp = [[0] * n for _ in range(n)] # best score for player 1 at i, j\n",
    "        pfs = [0] * (n+1)\n",
    "        for i in range(n):\n",
    "            pfs[i+1] = pfs[i] + stones[i]\n",
    "        \n",
    "        # who gets the last turn?\n",
    "        # we are building the dp table from the bottom up, not the top down.\n",
    "        turn = (n) % 2 == 1\n",
    "\n",
    "        # always remove a stone, so if we only have one stone, we can't remove it.\n",
    "        # everything is already 0.\n",
    "        # for i in range(n):\n",
    "        #     dp[i][i] = 0 \n",
    "        \n",
    "        for l in range(1, n):\n",
    "            turn = not turn\n",
    "            # print(\"l:\", l, \"turn:\", turn)\n",
    "            for i in range(n-l):\n",
    "                j = i + l\n",
    "                # print(\"i:\", i, \"j:\", j)\n",
    "                #dp[i][j] = l\n",
    "                if turn:\n",
    "                    # maximizing player wants to maximize the difference (score + later calls)\n",
    "                    s1 = (pfs[j] - pfs[i]) + dp[i][j-1]\n",
    "                    s2 = (pfs[j+1] - pfs[i+1]) + dp[i+1][j]\n",
    "                    dp[i][j] = max(s1, s2)\n",
    "                else:\n",
    "                    # minimizing player wants to minimize the difference between the score (pfs) \n",
    "                    # and calls to the maximizing player.\n",
    "                    s1 = -(pfs[j] - pfs[i]) + dp[i][j-1]\n",
    "                    s2 = -(pfs[j+1] - pfs[i+1]) + dp[i+1][j]\n",
    "                    dp[i][j] = min(s1, s2)\n",
    "        \n",
    "        # for row in dp:\n",
    "        #     print(row)\n",
    "        return dp[0][n-1]"
   ]
  },
  {
   "cell_type": "code",
   "execution_count": 34,
   "metadata": {},
   "outputs": [
    {
     "name": "stdout",
     "output_type": "stream",
     "text": [
      "result: 6 expected: 6\n",
      "result: 122 expected: 122\n",
      "result: 0 expected: 0\n"
     ]
    }
   ],
   "source": [
    "soln = Solution()\n",
    "f = soln.stoneGameVIIDP\n",
    "\n",
    "# test 1\n",
    "stones = [5,3,1,4,2]\n",
    "expected = 6\n",
    "print(\"result:\", f(stones), \"expected:\", expected)\n",
    "# print()\n",
    "\n",
    "# test 2\n",
    "stones = [7,90,5,1,100,10,10,2]\n",
    "expected = 122\n",
    "print(\"result:\", f(stones), \"expected:\", expected)\n",
    "# print()\n",
    "\n",
    "# test 3\n",
    "stones = [2]\n",
    "expected = 0\n",
    "print(\"result:\", f(stones), \"expected:\", expected)\n",
    "# print()\n"
   ]
  },
  {
   "cell_type": "code",
   "execution_count": null,
   "metadata": {},
   "outputs": [],
   "source": []
  }
 ],
 "metadata": {
  "kernelspec": {
   "display_name": ".venv",
   "language": "python",
   "name": "python3"
  },
  "language_info": {
   "codemirror_mode": {
    "name": "ipython",
    "version": 3
   },
   "file_extension": ".py",
   "mimetype": "text/x-python",
   "name": "python",
   "nbconvert_exporter": "python",
   "pygments_lexer": "ipython3",
   "version": "3.12.3"
  }
 },
 "nbformat": 4,
 "nbformat_minor": 2
}
