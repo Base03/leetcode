{
 "cells": [
  {
   "cell_type": "code",
   "execution_count": 16,
   "id": "233e5db1",
   "metadata": {},
   "outputs": [],
   "source": [
    "from typing import List\n",
    "\n",
    "class Solution:\n",
    "    def majorityElement(self, nums: List[int]) -> int:\n",
    "        counts = {}\n",
    "        for num in nums:\n",
    "            if counts.get(num):\n",
    "                counts[num] = counts[num] + 1\n",
    "            else:\n",
    "                counts[num] = 1\n",
    "        \n",
    "        reverse_counts = dict((v, k) for k, v in counts.items())\n",
    "        max_count = max(reverse_counts)\n",
    "\n",
    "        return reverse_counts[max_count]"
   ]
  },
  {
   "cell_type": "code",
   "execution_count": 18,
   "id": "822ab6f6",
   "metadata": {},
   "outputs": [],
   "source": [
    "class Solution:\n",
    "    def majorityElement(self, nums: List[int]) -> int:\n",
    "        nums.sort()\n",
    "        return nums[len(nums)//2]"
   ]
  },
  {
   "cell_type": "code",
   "execution_count": 20,
   "id": "009deeaa",
   "metadata": {},
   "outputs": [],
   "source": [
    "class Solution:\n",
    "    def majorityElement(self, nums: List[int]) -> int:\n",
    "        count = 0\n",
    "        candidate = 0\n",
    "\n",
    "        for num in nums:\n",
    "            if count == 0:\n",
    "                candidate = num\n",
    "            \n",
    "            if num == candidate:\n",
    "                count += 1\n",
    "            else:\n",
    "                count -= 1\n",
    "\n",
    "        return candidate"
   ]
  },
  {
   "cell_type": "code",
   "execution_count": 21,
   "id": "3238c85b",
   "metadata": {},
   "outputs": [
    {
     "name": "stdout",
     "output_type": "stream",
     "text": [
      "3\n"
     ]
    }
   ],
   "source": [
    "soln = Solution()\n",
    "print(soln.majorityElement([3,2,3]))"
   ]
  },
  {
   "cell_type": "code",
   "execution_count": null,
   "id": "4b403873",
   "metadata": {},
   "outputs": [],
   "source": []
  }
 ],
 "metadata": {
  "kernelspec": {
   "display_name": "python_dev",
   "language": "python",
   "name": "python3"
  },
  "language_info": {
   "codemirror_mode": {
    "name": "ipython",
    "version": 3
   },
   "file_extension": ".py",
   "mimetype": "text/x-python",
   "name": "python",
   "nbconvert_exporter": "python",
   "pygments_lexer": "ipython3",
   "version": "3.13.2"
  }
 },
 "nbformat": 4,
 "nbformat_minor": 5
}
