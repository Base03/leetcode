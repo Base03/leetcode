{
 "cells": [
  {
   "cell_type": "code",
   "execution_count": 50,
   "metadata": {},
   "outputs": [],
   "source": [
    "from sortedcontainers import SortedList\n",
    "# set recursion limit\n",
    "import sys\n",
    "sys.setrecursionlimit(10**6)\n",
    "\n",
    "class Solution:\n",
    "    # state is (steps, current, copied)\n",
    "    # at each step, we can either copy or paste.\n",
    "    def minSteps(self, n: int) -> int:\n",
    "        if n == 1:\n",
    "            return 0\n",
    "        \n",
    "        def stepStack(stack, n) -> int:\n",
    "            # print(\"stack\", stack)\n",
    "            if not stack:\n",
    "                return -1\n",
    "\n",
    "            steps, current, copied = stack.pop()\n",
    "            if current == n:\n",
    "                return steps\n",
    "            elif current < n:\n",
    "                if (n - current) % copied == 0:\n",
    "                    stack.add((steps+1, current+copied, copied))\n",
    "                if (n - current) % current == 0:\n",
    "                    stack.add((steps+1, current, current))\n",
    "            \n",
    "            return stepStack(stack, n)\n",
    "\n",
    "        stack = SortedList([(1, 1, 1)], key=lambda x: (-x[0], x[1], x[2]))\n",
    "        return stepStack(stack, n)\n",
    "    \n",
    "    def minSteps(self, n: int) -> int:\n",
    "        if n == 1:\n",
    "            return 0\n",
    "        stack = SortedList([(1, 1, 1)], key=lambda x: (-x[0], x[1], x[2]))\n",
    "        while stack[-1][1] < n:\n",
    "            steps, current, copied = stack.pop()\n",
    "            if (n - current) % copied == 0 and current + copied <= n:\n",
    "                stack.add((steps+1, current+copied, copied))\n",
    "            if (n - current) % current == 0 and current + current <= n:\n",
    "                stack.add((steps+1, current, current))\n",
    "        return stack[-1][0]\n",
    "    \n",
    "    # O(n) solution\n",
    "    # at each step we can either copy or paste\n",
    "    # we want to find the minimum number of steps to reach n\n",
    "    # for n >= 4, it is always better to copy and paste a factor of n\n",
    "    def minSteps(self, n: int) -> int:\n",
    "        current: int = 1\n",
    "        copied: int = 0\n",
    "        count: int = 0\n",
    "\n",
    "        while current < n:\n",
    "            if (n % current) == 0:\n",
    "                copied = current\n",
    "                count += 1\n",
    "            current += copied\n",
    "            count += 1\n",
    "        return count"
   ]
  },
  {
   "cell_type": "code",
   "execution_count": 51,
   "metadata": {},
   "outputs": [
    {
     "name": "stdout",
     "output_type": "stream",
     "text": [
      "n: 1 steps: 0 expected: 0\n",
      "n: 2 steps: 2 expected: 2\n",
      "n: 3 steps: 3 expected: 3\n",
      "n: 4 steps: 4 expected: 4\n",
      "n: 16 steps: 8 expected: 8\n",
      "n: 256 steps: 16 expected: 16\n",
      "n: 512 steps: 18 expected: 18\n",
      "n: 1024 steps: 20 expected: 20\n",
      "n: 999 steps: 46 expected: 46\n"
     ]
    }
   ],
   "source": [
    "n = 1\n",
    "print(\"n:\", n, \"steps:\", Solution().minSteps(n), \"expected:\", 0)\n",
    "\n",
    "n = 2\n",
    "print(\"n:\", n, \"steps:\", Solution().minSteps(n), \"expected:\", 2)\n",
    "\n",
    "n = 3\n",
    "print(\"n:\", n, \"steps:\", Solution().minSteps(n), \"expected:\", 3)\n",
    "\n",
    "n = 4\n",
    "print(\"n:\", n, \"steps:\", Solution().minSteps(n), \"expected:\", 4)\n",
    "\n",
    "n = 16\n",
    "print(\"n:\", n, \"steps:\", Solution().minSteps(n), \"expected:\", 8)\n",
    "\n",
    "n = 256\n",
    "print(\"n:\", n, \"steps:\", Solution().minSteps(n), \"expected:\", 16)\n",
    "\n",
    "n = 512\n",
    "print(\"n:\", n, \"steps:\", Solution().minSteps(n), \"expected:\", 18)\n",
    "\n",
    "n = 1024\n",
    "print(\"n:\", n, \"steps:\", Solution().minSteps(n), \"expected:\", 20)\n",
    "\n",
    "n = 999\n",
    "print(\"n:\", n, \"steps:\", Solution().minSteps(n), \"expected:\", 46)\n"
   ]
  },
  {
   "cell_type": "code",
   "execution_count": null,
   "metadata": {},
   "outputs": [],
   "source": []
  }
 ],
 "metadata": {
  "kernelspec": {
   "display_name": ".venv",
   "language": "python",
   "name": "python3"
  },
  "language_info": {
   "codemirror_mode": {
    "name": "ipython",
    "version": 3
   },
   "file_extension": ".py",
   "mimetype": "text/x-python",
   "name": "python",
   "nbconvert_exporter": "python",
   "pygments_lexer": "ipython3",
   "version": "3.12.3"
  }
 },
 "nbformat": 4,
 "nbformat_minor": 2
}
