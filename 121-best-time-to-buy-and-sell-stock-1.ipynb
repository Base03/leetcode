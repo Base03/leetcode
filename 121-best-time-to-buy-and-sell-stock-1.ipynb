{
 "cells": [
  {
   "cell_type": "code",
   "execution_count": 5,
   "metadata": {},
   "outputs": [],
   "source": [
    "from typing import List\n",
    "\n",
    "class Solution:\n",
    "    def maxProfit(self, prices: List[int]) -> int:\n",
    "        if not prices:\n",
    "            return 0\n",
    "        min_price: int = prices[0]\n",
    "        max_profit: int = 0\n",
    "\n",
    "        for i in range(1, len(prices)):\n",
    "            min_price = min(min_price, prices[i])\n",
    "            max_profit = max(max_profit, prices[i] - min_price)\n",
    "        return max_profit"
   ]
  },
  {
   "cell_type": "code",
   "execution_count": 6,
   "metadata": {},
   "outputs": [
    {
     "name": "stdout",
     "output_type": "stream",
     "text": [
      "profit: 5 expected: 5\n",
      "profit: 0 expected: 0\n"
     ]
    }
   ],
   "source": [
    "# test 1\n",
    "prices = [7,1,5,3,6,4]\n",
    "print(\"profit:\", Solution().maxProfit(prices), \"expected:\", 5) \n",
    "\n",
    "# test 2\n",
    "prices = [7,6,4,3,1]\n",
    "print(\"profit:\", Solution().maxProfit(prices), \"expected:\", 0)"
   ]
  },
  {
   "cell_type": "code",
   "execution_count": null,
   "metadata": {},
   "outputs": [],
   "source": []
  }
 ],
 "metadata": {
  "kernelspec": {
   "display_name": ".venv",
   "language": "python",
   "name": "python3"
  },
  "language_info": {
   "codemirror_mode": {
    "name": "ipython",
    "version": 3
   },
   "file_extension": ".py",
   "mimetype": "text/x-python",
   "name": "python",
   "nbconvert_exporter": "python",
   "pygments_lexer": "ipython3",
   "version": "3.12.3"
  }
 },
 "nbformat": 4,
 "nbformat_minor": 2
}
