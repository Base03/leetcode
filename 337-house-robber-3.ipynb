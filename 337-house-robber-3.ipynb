{
 "cells": [
  {
   "cell_type": "code",
   "execution_count": 78,
   "metadata": {},
   "outputs": [],
   "source": [
    "# Definition for a binary tree node.\n",
    "from typing import List, Optional\n",
    "\n",
    "class TreeNode:\n",
    "    def __init__(self, val=0, left=None, right=None):\n",
    "        self.val = val\n",
    "        self.left = left\n",
    "        self.right = right\n",
    "\n",
    "class Solution:\n",
    "   def rob(self, root: Optional[TreeNode]) -> int:\n",
    "        def traverse(node):\n",
    "            if not node:\n",
    "                return (0, 0)\n",
    "            \n",
    "            if (not node.left and not node.right):\n",
    "                return (node.val, 0)\n",
    "            \n",
    "            l_val_1, l_val_2 = traverse(node.left)\n",
    "            r_val_1, r_val_2 = traverse(node.right)\n",
    "\n",
    "            val_1 = l_val_2 + r_val_2 + node.val\n",
    "            val_2 = l_val_1 + r_val_1\n",
    "            max_val = max(val_1, val_2)\n",
    "            return (max_val, l_val_1 + r_val_1)\n",
    "        \n",
    "        return max(traverse(root))\n",
    "\n",
    "\n"
   ]
  },
  {
   "cell_type": "code",
   "execution_count": 79,
   "metadata": {},
   "outputs": [
    {
     "name": "stdout",
     "output_type": "stream",
     "text": [
      "result:  7 expected:  7\n",
      "result:  9 expected:  9\n"
     ]
    }
   ],
   "source": [
    "# test 1\n",
    "root = TreeNode(3, TreeNode(2, None, TreeNode(3)), TreeNode(3, None, TreeNode(1)))\n",
    "expected = 7\n",
    "result = Solution().rob(root)\n",
    "print(\"result: \", result, \"expected: \", expected)\n",
    "\n",
    "# test 2\n",
    "root = TreeNode(3, TreeNode(4, TreeNode(1), TreeNode(3)), TreeNode(5, None, TreeNode(1)))\n",
    "expected = 9\n",
    "result = Solution().rob(root)\n",
    "print(\"result: \", result, \"expected: \", expected)\n"
   ]
  },
  {
   "cell_type": "code",
   "execution_count": null,
   "metadata": {},
   "outputs": [],
   "source": []
  }
 ],
 "metadata": {
  "kernelspec": {
   "display_name": ".venv",
   "language": "python",
   "name": "python3"
  },
  "language_info": {
   "codemirror_mode": {
    "name": "ipython",
    "version": 3
   },
   "file_extension": ".py",
   "mimetype": "text/x-python",
   "name": "python",
   "nbconvert_exporter": "python",
   "pygments_lexer": "ipython3",
   "version": "3.12.3"
  }
 },
 "nbformat": 4,
 "nbformat_minor": 2
}
