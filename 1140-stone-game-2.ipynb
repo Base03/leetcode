{
 "cells": [
  {
   "cell_type": "code",
   "execution_count": 60,
   "metadata": {},
   "outputs": [],
   "source": [
    "from typing import List\n",
    "\n",
    "class Solution:\n",
    "    def stoneGameII(self, piles: List[int]) -> int:\n",
    "        n = len(piles)\n",
    "        dp = {}\n",
    "\n",
    "        def maximizer(i, m):\n",
    "            if i >= n:\n",
    "                return 0\n",
    "            if (i, m) in dp:\n",
    "                return dp[(i, m)]\n",
    "            \n",
    "            res: int = None\n",
    "            pile_sum: int = 0\n",
    "            for j in range(i, min(i+2*m, n)):\n",
    "                pile_sum += piles[j]\n",
    "                current = pile_sum - maximizer(j+1, max(m, (j+1)-i))\n",
    "                if res is None or current > res:\n",
    "                    res = current\n",
    "            dp[(i, m)] = res\n",
    "            return dp[(i, m)]\n",
    "\n",
    "        score_diff = maximizer(0,1)\n",
    "        total = sum(piles)\n",
    "        return (total + score_diff) // 2"
   ]
  },
  {
   "cell_type": "code",
   "execution_count": 61,
   "metadata": {},
   "outputs": [
    {
     "name": "stdout",
     "output_type": "stream",
     "text": [
      "score: 10 expected: 10\n",
      "score: 104 expected: 104\n"
     ]
    }
   ],
   "source": [
    "import sys\n",
    "import time\n",
    "import random\n",
    "random.seed(0)\n",
    "\n",
    "soln = Solution()\n",
    "f = soln.stoneGameII\n",
    "\n",
    "# test 1\n",
    "piles = [2,7,9,4,4]\n",
    "expected = 10\n",
    "print(\"score:\", f(piles), \"expected:\", expected)\n",
    "\n",
    "# test 2\n",
    "piles = [1,2,3,4,5,100]\n",
    "expected = 104\n",
    "print(\"score:\", f(piles), \"expected:\", expected)"
   ]
  },
  {
   "cell_type": "code",
   "execution_count": null,
   "metadata": {},
   "outputs": [],
   "source": []
  }
 ],
 "metadata": {
  "kernelspec": {
   "display_name": ".venv",
   "language": "python",
   "name": "python3"
  },
  "language_info": {
   "codemirror_mode": {
    "name": "ipython",
    "version": 3
   },
   "file_extension": ".py",
   "mimetype": "text/x-python",
   "name": "python",
   "nbconvert_exporter": "python",
   "pygments_lexer": "ipython3",
   "version": "3.12.3"
  }
 },
 "nbformat": 4,
 "nbformat_minor": 2
}
