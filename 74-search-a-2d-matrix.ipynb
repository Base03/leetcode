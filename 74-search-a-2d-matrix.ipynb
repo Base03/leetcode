{
 "cells": [
  {
   "cell_type": "code",
   "execution_count": 1,
   "id": "8fdcbbab",
   "metadata": {},
   "outputs": [],
   "source": [
    "from typing import List\n",
    "\n",
    "class Solution:\n",
    "    def searchMatrix(self, matrix: List[List[int]], target: int) -> bool:\n",
    "        m = len(matrix)\n",
    "        n = len(matrix[0])\n",
    "\n",
    "        idx_min = 0;\n",
    "        idx_max = m*n-1\n",
    "        if target == matrix[idx_min//n][idx_min%n]:\n",
    "            return True\n",
    "        if target == matrix[idx_max//n][idx_max%n]:\n",
    "            return True\n",
    "        \n",
    "        while idx_max - idx_min > 1:\n",
    "            idx = (idx_min + idx_max) // 2\n",
    "            val = matrix[idx//n][idx%n]\n",
    "            if target == val:\n",
    "                return True\n",
    "            else:\n",
    "                if target > val:\n",
    "                    idx_min = idx\n",
    "                else:\n",
    "                    idx_max = idx\n",
    "        \n",
    "        return False\n"
   ]
  },
  {
   "cell_type": "code",
   "execution_count": 3,
   "id": "8379aa6c",
   "metadata": {},
   "outputs": [
    {
     "name": "stdout",
     "output_type": "stream",
     "text": [
      "result: True, expected: True\n",
      "result: False, expected: False\n"
     ]
    }
   ],
   "source": [
    "soln = Solution()\n",
    "\n",
    "matrix = [[1,3,5,7],[10,11,16,20],[23,30,34,60]]\n",
    "target = 3\n",
    "expected = True\n",
    "result = soln.searchMatrix(matrix, target)\n",
    "print(f\"result: {result}, expected: {expected}\")\n",
    "\n",
    "[[1,3,5,7],[10,11,16,20],[23,30,34,60]]\n",
    "target = 13\n",
    "expected = False\n",
    "result = soln.searchMatrix(matrix, target)\n",
    "print(f\"result: {result}, expected: {expected}\")"
   ]
  },
  {
   "cell_type": "code",
   "execution_count": null,
   "id": "62463e69",
   "metadata": {},
   "outputs": [],
   "source": []
  }
 ],
 "metadata": {
  "kernelspec": {
   "display_name": "python_dev",
   "language": "python",
   "name": "python3"
  },
  "language_info": {
   "codemirror_mode": {
    "name": "ipython",
    "version": 3
   },
   "file_extension": ".py",
   "mimetype": "text/x-python",
   "name": "python",
   "nbconvert_exporter": "python",
   "pygments_lexer": "ipython3",
   "version": "3.13.2"
  }
 },
 "nbformat": 4,
 "nbformat_minor": 5
}
