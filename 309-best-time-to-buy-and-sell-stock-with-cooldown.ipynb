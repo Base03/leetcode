{
 "cells": [
  {
   "cell_type": "code",
   "execution_count": 12,
   "metadata": {},
   "outputs": [],
   "source": [
    "from typing import List\n",
    "import sys\n",
    "sys.setrecursionlimit(10**6)\n",
    "\n",
    "class Solution:\n",
    "    def maxProfit(self, prices: List[int]) -> int:\n",
    "        memo = {}\n",
    "        def helper(i: int, stock: bool, cd: int) -> int:\n",
    "            if i >= len(prices):\n",
    "                return 0\n",
    "            if (i, stock) in memo:\n",
    "                return memo[(i, stock)]\n",
    "            \n",
    "            if stock:\n",
    "                # sell or hold, only cool-down after sell\n",
    "                memo[(i, stock)] = max(helper(i+1+cd, False, cd) + prices[i], helper(i+1, True, cd))\n",
    "                return memo[(i, stock)]\n",
    "            else:\n",
    "                # buy or skip, only cool-down after sell\n",
    "                memo[(i, stock)] = max(helper(i+1, True, cd) - prices[i], helper(i+1, False, cd))\n",
    "                return memo[(i, stock)]\n",
    "        return helper(0, False, 1)"
   ]
  },
  {
   "cell_type": "code",
   "execution_count": 13,
   "metadata": {},
   "outputs": [
    {
     "name": "stdout",
     "output_type": "stream",
     "text": [
      "profit: 3 expected: 3\n",
      "profit: 0 expected: 0\n"
     ]
    }
   ],
   "source": [
    "prices = [1,2,3,0,2]\n",
    "print(\"profit:\", Solution().maxProfit(prices), \"expected:\", 3) \n",
    "\n",
    "prices = [1]\n",
    "print(\"profit:\", Solution().maxProfit(prices), \"expected:\", 0)"
   ]
  },
  {
   "cell_type": "code",
   "execution_count": null,
   "metadata": {},
   "outputs": [],
   "source": []
  }
 ],
 "metadata": {
  "kernelspec": {
   "display_name": ".venv",
   "language": "python",
   "name": "python3"
  },
  "language_info": {
   "codemirror_mode": {
    "name": "ipython",
    "version": 3
   },
   "file_extension": ".py",
   "mimetype": "text/x-python",
   "name": "python",
   "nbconvert_exporter": "python",
   "pygments_lexer": "ipython3",
   "version": "3.12.3"
  }
 },
 "nbformat": 4,
 "nbformat_minor": 2
}
