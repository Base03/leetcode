{
 "cells": [
  {
   "cell_type": "code",
   "execution_count": 17,
   "metadata": {},
   "outputs": [],
   "source": [
    "from typing import List\n",
    "\n",
    "class Solution:\n",
    "    def generate(self, numRows: int) -> List[List[int]]:\n",
    "        if numRows == 0:\n",
    "            return [[]]\n",
    "        if numRows == 1:\n",
    "            return [[1]]\n",
    "        \n",
    "        prevRows = self.generate(numRows - 1)\n",
    "        newRow = [1] * numRows\n",
    "        \n",
    "        for i in range(1, numRows - 1):\n",
    "            newRow[i] = prevRows[-1][i - 1] + prevRows[-1][i]\n",
    "        \n",
    "        prevRows.append(newRow)\n",
    "        return prevRows"
   ]
  },
  {
   "cell_type": "code",
   "execution_count": 18,
   "metadata": {},
   "outputs": [
    {
     "name": "stdout",
     "output_type": "stream",
     "text": [
      "trial:  [[1]] expected:  [[1]] pass:  True\n",
      "trial:  [[1], [1, 1]] expected:  [[1], [1, 1]] pass:  True\n",
      "trial:  [[1], [1, 1], [1, 2, 1]] expected:  [[1], [1, 1], [1, 2, 1]] pass:  True\n",
      "trial:  [[1], [1, 1], [1, 2, 1], [1, 3, 3, 1]] expected:  [[1], [1, 1], [1, 2, 1], [1, 3, 3, 1]] pass:  True\n",
      "trial:  [[1], [1, 1], [1, 2, 1], [1, 3, 3, 1], [1, 4, 6, 4, 1]] expected:  [[1], [1, 1], [1, 2, 1], [1, 3, 3, 1], [1, 4, 6, 4, 1]] pass:  True\n"
     ]
    }
   ],
   "source": [
    "# test\n",
    "trial = Solution().generate(1)\n",
    "expected = [[1]]\n",
    "print(\"trial: \", trial, \"expected: \", expected, \"pass: \", trial == expected)\n",
    "\n",
    "# test\n",
    "trial = Solution().generate(2)\n",
    "expected = [[1], [1,1]]\n",
    "print(\"trial: \", trial, \"expected: \", expected, \"pass: \", trial == expected)\n",
    "\n",
    "# test\n",
    "trial = Solution().generate(3)\n",
    "expected = [[1],[1,1], [1,2,1]]\n",
    "print(\"trial: \", trial, \"expected: \", expected, \"pass: \", trial == expected)\n",
    "\n",
    "# test\n",
    "trial = Solution().generate(4)\n",
    "expected = [[1],[1,1], [1,2,1], [1,3,3,1]]\n",
    "print(\"trial: \", trial, \"expected: \", expected, \"pass: \", trial == expected)\n",
    "\n",
    "# test\n",
    "trial = Solution().generate(5)\n",
    "expected = [[1],[1,1],[1,2,1],[1,3,3,1],[1,4,6,4,1]]\n",
    "print(\"trial: \", trial, \"expected: \", expected, \"pass: \", trial == expected)"
   ]
  },
  {
   "cell_type": "code",
   "execution_count": null,
   "metadata": {},
   "outputs": [],
   "source": []
  }
 ],
 "metadata": {
  "kernelspec": {
   "display_name": ".venv",
   "language": "python",
   "name": "python3"
  },
  "language_info": {
   "codemirror_mode": {
    "name": "ipython",
    "version": 3
   },
   "file_extension": ".py",
   "mimetype": "text/x-python",
   "name": "python",
   "nbconvert_exporter": "python",
   "pygments_lexer": "ipython3",
   "version": "3.12.3"
  }
 },
 "nbformat": 4,
 "nbformat_minor": 2
}
