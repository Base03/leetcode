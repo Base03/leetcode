{
 "cells": [
  {
   "cell_type": "code",
   "execution_count": null,
   "id": "ba34a7ca",
   "metadata": {},
   "outputs": [],
   "source": [
    "from typing import List, Set, Tuple\n",
    "\n",
    "class Solution:\n",
    "    \"\"\"\n",
    "    Maintains the working data structure as a set of tuples instead of lists to insure uniqueness and prevent duplication of permutations during the construction phase.\n",
    "    \"\"\"\n",
    "    def permuteUnique(self, nums: List[int]) -> List[List[int]]:\n",
    "        def helper(n: int, result: Set[Tuple[int]]):\n",
    "            if len(result) == 0:\n",
    "                return {(n,)}\n",
    "            \n",
    "            working = set()\n",
    "            for seq in result:\n",
    "                for i in range(len(seq)):\n",
    "                    new_seq = tuple(seq[:i] + (n,) + seq[i:])\n",
    "                    working.add(new_seq)\n",
    "                working.add(seq + (n,))\n",
    "            return working\n",
    "        \n",
    "        if len(nums) == 0:\n",
    "            return [[]]\n",
    "        \n",
    "        result = set()\n",
    "        for n in nums:\n",
    "            result = helper(n, result)\n",
    "        \n",
    "        result = [list(seq) for seq in result]\n",
    "\n",
    "        return result\n",
    "\n",
    "    def permuteUniqueList(self, nums: List[int]) -> List[List[int]]:\n",
    "        def helper(n: int, result: List[List[int]]):\n",
    "            if len(result) == 0:\n",
    "                return [[n]]\n",
    "            \n",
    "            working = []\n",
    "            for seq in result:\n",
    "                for i in range(len(seq) + 1):\n",
    "                    new_seq = seq[:i] + [n] + seq[i:]\n",
    "                    working.append(new_seq)\n",
    "            return working\n",
    "        \n",
    "        if len(nums) == 0:\n",
    "            return [[]]\n",
    "        \n",
    "        result = []\n",
    "        for n in nums:\n",
    "            result = helper(n, result)\n",
    "        \n",
    "        temp = set()\n",
    "        for permutation in result:\n",
    "            temp.add(tuple(permutation))\n",
    "        \n",
    "        result = [list(seq) for seq in temp]\n",
    "\n",
    "        return result"
   ]
  },
  {
   "cell_type": "code",
   "execution_count": null,
   "id": "761a3328",
   "metadata": {},
   "outputs": [],
   "source": []
  }
 ],
 "metadata": {
  "kernelspec": {
   "display_name": ".venv",
   "language": "python",
   "name": "python3"
  },
  "language_info": {
   "codemirror_mode": {
    "name": "ipython",
    "version": 3
   },
   "file_extension": ".py",
   "mimetype": "text/x-python",
   "name": "python",
   "nbconvert_exporter": "python",
   "pygments_lexer": "ipython3",
   "version": "3.12.3"
  }
 },
 "nbformat": 4,
 "nbformat_minor": 5
}
