{
 "cells": [
  {
   "cell_type": "code",
   "execution_count": 9,
   "id": "c17ca6d3",
   "metadata": {},
   "outputs": [],
   "source": [
    "class Solution:\n",
    "    def addBinary(self, a: str, b: str) -> str:\n",
    "        max_len = max(len(a), len(b))\n",
    "        a = '0' * (max(len(b) - len(a), 0)) + a\n",
    "        b = '0' * (max(len(a) - len(b), 0)) + b\n",
    "\n",
    "        carry = 0\n",
    "        result = []\n",
    "\n",
    "        for i in range(max_len - 1, -1, -1):\n",
    "            total = carry\n",
    "            total += 1 if a[i] == '1' else 0\n",
    "            total += 1 if b[i] == '1' else 0\n",
    "\n",
    "            result.append('1' if total % 2 == 1 else '0')\n",
    "            carry = 1 if total > 1 else 0\n",
    "\n",
    "        if carry:\n",
    "            result.append('1')\n",
    "\n",
    "        return ''.join(reversed(result))"
   ]
  },
  {
   "cell_type": "code",
   "execution_count": 10,
   "id": "a618015c",
   "metadata": {},
   "outputs": [
    {
     "name": "stdout",
     "output_type": "stream",
     "text": [
      "10101\n",
      "100\n"
     ]
    }
   ],
   "source": [
    "soln = Solution()\n",
    "print(soln.addBinary(\"1010\", \"1011\"))\n",
    "print(soln.addBinary(\"11\", \"1\"))\n"
   ]
  },
  {
   "cell_type": "code",
   "execution_count": null,
   "id": "6d1729b9",
   "metadata": {},
   "outputs": [],
   "source": []
  }
 ],
 "metadata": {
  "kernelspec": {
   "display_name": "python_dev",
   "language": "python",
   "name": "python3"
  },
  "language_info": {
   "codemirror_mode": {
    "name": "ipython",
    "version": 3
   },
   "file_extension": ".py",
   "mimetype": "text/x-python",
   "name": "python",
   "nbconvert_exporter": "python",
   "pygments_lexer": "ipython3",
   "version": "3.13.2"
  }
 },
 "nbformat": 4,
 "nbformat_minor": 5
}
