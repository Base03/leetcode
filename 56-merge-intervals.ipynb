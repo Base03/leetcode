{
 "cells": [
  {
   "cell_type": "code",
   "execution_count": 4,
   "id": "83ace52e",
   "metadata": {},
   "outputs": [],
   "source": [
    "from typing import List\n",
    "\n",
    "class Solution:\n",
    "    def merge(self, intervals: List[List[int]]) -> List[List[int]]:\n",
    "        # sort the intervals on their first index\n",
    "        intervals.sort(key=lambda x: x[0])\n",
    "        merged = []\n",
    "        if intervals is None:\n",
    "            return merged\n",
    "        \n",
    "        start = intervals[0][0]\n",
    "        end = intervals[0][1]\n",
    "\n",
    "        for interval in intervals:\n",
    "            i_start = interval[0]\n",
    "            i_end = interval[1]\n",
    "            if i_start >= start and i_start <= end: # start is within current interval\n",
    "                end = max(end, i_end)\n",
    "            else:\n",
    "                merged.append([start, end])\n",
    "                start = i_start\n",
    "                end = i_end\n",
    "                \n",
    "        merged.append([start, end])\n",
    "        return merged\n",
    "        "
   ]
  },
  {
   "cell_type": "code",
   "execution_count": 5,
   "id": "e97bebe1",
   "metadata": {},
   "outputs": [
    {
     "name": "stdout",
     "output_type": "stream",
     "text": [
      "expected: [[1, 6], [8, 10], [15, 18]], merged: [[1, 6], [8, 10], [15, 18]]\n",
      "expected: [[1, 5]], merged: [[1, 5]]\n"
     ]
    }
   ],
   "source": [
    "soln = Solution()\n",
    "\n",
    "intervals = [[1,3],[2,6],[8,10],[15,18]]\n",
    "expected = [[1,6],[8,10],[15,18]]\n",
    "merged = soln.merge(intervals)\n",
    "print(f\"expected: {expected}, merged: {merged}\")\n",
    "\n",
    "intervals = [[1,4],[4,5]]\n",
    "expected = [[1,5]]\n",
    "merged = soln.merge(intervals)\n",
    "print(f\"expected: {expected}, merged: {merged}\")"
   ]
  },
  {
   "cell_type": "code",
   "execution_count": null,
   "id": "55f6a040",
   "metadata": {},
   "outputs": [],
   "source": []
  }
 ],
 "metadata": {
  "kernelspec": {
   "display_name": "python_dev",
   "language": "python",
   "name": "python3"
  },
  "language_info": {
   "codemirror_mode": {
    "name": "ipython",
    "version": 3
   },
   "file_extension": ".py",
   "mimetype": "text/x-python",
   "name": "python",
   "nbconvert_exporter": "python",
   "pygments_lexer": "ipython3",
   "version": "3.13.2"
  }
 },
 "nbformat": 4,
 "nbformat_minor": 5
}
