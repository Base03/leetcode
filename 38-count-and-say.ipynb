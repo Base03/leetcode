{
 "cells": [
  {
   "cell_type": "code",
   "execution_count": 6,
   "metadata": {},
   "outputs": [],
   "source": [
    "class Solution:\n",
    "    def rle(self, s):\n",
    "        rle = []\n",
    "        i = 0\n",
    "        while i < len(s):\n",
    "            j = i + 1\n",
    "            while j < len(s) and s[j] == s[i]:\n",
    "                j += 1\n",
    "            rle.append((j-i, s[i]))\n",
    "            i = j\n",
    "        # convert list elements to string and concatenate them\n",
    "        rle = \"\".join([str(x[0]) + x[1] for x in rle])\n",
    "        return rle\n",
    "    \n",
    "    def countAndSay(self, n: int) -> str:\n",
    "        s = \"1\"\n",
    "        for i in range(1, n):\n",
    "            s = self.rle(s)\n",
    "        return s"
   ]
  },
  {
   "cell_type": "code",
   "execution_count": 10,
   "metadata": {},
   "outputs": [],
   "source": [
    "class Solution:\n",
    "    def countAndSay(self, n: int) -> str:\n",
    "        j = 1\n",
    "        s = \"1\"\n",
    "        while(j<n):\n",
    "            count = 1\n",
    "            string = s\n",
    "            s = \"\"\n",
    "            for i in range(1,len(string)):\n",
    "                if string[i] == string[i-1]:\n",
    "                    count += 1\n",
    "                else:\n",
    "                    s += str(count)+string[i-1]\n",
    "                    count = 1\n",
    "            s += str(count)+string[-1]\n",
    "            j += 1\n",
    "        return s"
   ]
  },
  {
   "cell_type": "code",
   "execution_count": 11,
   "metadata": {},
   "outputs": [
    {
     "name": "stdout",
     "output_type": "stream",
     "text": [
      "output: 1 expected: 1\n",
      "output: 11 expected: 11\n",
      "output: 21 expected: 21\n",
      "output: 1211 expected: 1211\n"
     ]
    }
   ],
   "source": [
    "# test 1\n",
    "n = 1\n",
    "expected = \"1\"\n",
    "print(\"output:\", Solution().countAndSay(n), \"expected:\", expected)\n",
    "\n",
    "# test 2\n",
    "n = 2\n",
    "expected = \"11\"\n",
    "print(\"output:\", Solution().countAndSay(n), \"expected:\", expected)\n",
    "\n",
    "# test 3\n",
    "n = 3\n",
    "expected = \"21\"\n",
    "print(\"output:\", Solution().countAndSay(n), \"expected:\", expected)\n",
    "\n",
    "# test 4\n",
    "n = 4\n",
    "expected = \"1211\"\n",
    "print(\"output:\", Solution().countAndSay(n), \"expected:\", expected)"
   ]
  },
  {
   "cell_type": "code",
   "execution_count": null,
   "metadata": {},
   "outputs": [],
   "source": []
  }
 ],
 "metadata": {
  "kernelspec": {
   "display_name": ".venv",
   "language": "python",
   "name": "python3"
  },
  "language_info": {
   "codemirror_mode": {
    "name": "ipython",
    "version": 3
   },
   "file_extension": ".py",
   "mimetype": "text/x-python",
   "name": "python",
   "nbconvert_exporter": "python",
   "pygments_lexer": "ipython3",
   "version": "3.12.3"
  }
 },
 "nbformat": 4,
 "nbformat_minor": 2
}
