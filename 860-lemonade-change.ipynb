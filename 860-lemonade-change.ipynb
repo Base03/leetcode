{
 "cells": [
  {
   "cell_type": "code",
   "execution_count": 12,
   "metadata": {},
   "outputs": [],
   "source": [
    "from typing import List\n",
    "import sys\n",
    "sys.setrecursionlimit(10**6)\n",
    "\n",
    "class Solution:\n",
    "    # solution using recursion (generalizes better)\n",
    "    # uses dfs to check is a path exists\n",
    "    def lemonadeChange(self, bills: List[int]) -> bool:\n",
    "        def helper(n5: int, n10: int, n20: int, i:int) -> bool:\n",
    "            if i == len(bills):\n",
    "                return True\n",
    "            \n",
    "            if bills[i] == 5:\n",
    "                return helper(n5+1, n10, n20, i+1)\n",
    "            if bills[i] == 10:\n",
    "                if n5 == 0:\n",
    "                    return False\n",
    "                return helper(n5-1, n10+1, n20, i+1)\n",
    "            if bills[i] == 20:\n",
    "                path = False\n",
    "                if n10 > 0 and n5 > 0:\n",
    "                    path = path or helper(n5-1, n10-1, n20+1, i+1)\n",
    "                if n5 >= 3 and not path:\n",
    "                    path = path or helper(n5-3, n10, n20+1, i+1)\n",
    "                return path\n",
    "            return False\n",
    "        \n",
    "        return helper(0, 0, 0, 0)\n",
    "    \n",
    "    # optimized solution\n",
    "    def lemonadeChange(self, bills: List[int]) -> bool:\n",
    "        change = {5: 0, 10: 0, 20: 0}\n",
    "        for bill in bills:\n",
    "            if bill == 5:\n",
    "                change[5] += 1\n",
    "            \n",
    "            if bill == 10:\n",
    "                if change[5] == 0:\n",
    "                    return False\n",
    "                change[5] -= 1\n",
    "                change[10] += 1\n",
    "            \n",
    "            if bill == 20:\n",
    "                if change[10] > 0 and change[5] > 0:\n",
    "                    change[10] -= 1\n",
    "                    change[5] -= 1\n",
    "                elif change[5] >= 3:\n",
    "                    change[5] -= 3\n",
    "                else:\n",
    "                    return False\n",
    "                change[20] += 1\n",
    "        return True\n",
    "    "
   ]
  },
  {
   "cell_type": "code",
   "execution_count": 13,
   "metadata": {},
   "outputs": [
    {
     "name": "stdout",
     "output_type": "stream",
     "text": [
      "True expected: True\n",
      "False expected: False\n"
     ]
    }
   ],
   "source": [
    "# test 1\n",
    "bills = [5,5,5,10,20]\n",
    "expected = True\n",
    "print(Solution().lemonadeChange(bills), \"expected:\", expected)\n",
    "\n",
    "# test 2\n",
    "bills = [5,5,10,10,20]\n",
    "expected = False\n",
    "print(Solution().lemonadeChange(bills), \"expected:\", expected)"
   ]
  },
  {
   "cell_type": "code",
   "execution_count": null,
   "metadata": {},
   "outputs": [],
   "source": []
  }
 ],
 "metadata": {
  "kernelspec": {
   "display_name": ".venv",
   "language": "python",
   "name": "python3"
  },
  "language_info": {
   "codemirror_mode": {
    "name": "ipython",
    "version": 3
   },
   "file_extension": ".py",
   "mimetype": "text/x-python",
   "name": "python",
   "nbconvert_exporter": "python",
   "pygments_lexer": "ipython3",
   "version": "3.12.3"
  }
 },
 "nbformat": 4,
 "nbformat_minor": 2
}
