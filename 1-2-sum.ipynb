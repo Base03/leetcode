{
 "cells": [
  {
   "cell_type": "code",
   "execution_count": 19,
   "metadata": {},
   "outputs": [],
   "source": [
    "from typing import List\n",
    "\n",
    "class Solution:\n",
    "    def twoSum(self, nums: List[int], target: int) -> List[int]:\n",
    "        s_nums = [(nums[i], i) for i in range(len(nums))]\n",
    "        s_nums.sort()\n",
    "        \n",
    "        #print(\"new_nums:\", nums)\n",
    "        s_idx = 0\n",
    "        e_idx = len(nums) - 1\n",
    "        while s_idx < e_idx:\n",
    "            val = s_nums[s_idx][0] + s_nums[e_idx][0]\n",
    "            if val == target:\n",
    "                return [s_nums[s_idx][1], s_nums[e_idx][1]]\n",
    "            elif val < target:\n",
    "                s_idx += 1\n",
    "            else:\n",
    "                e_idx -= 1\n",
    "        return []"
   ]
  },
  {
   "cell_type": "code",
   "execution_count": 20,
   "metadata": {},
   "outputs": [
    {
     "name": "stdout",
     "output_type": "stream",
     "text": [
      "solution: [0, 1] expected: [0, 1]\n",
      "\n",
      "solution: [1, 2] expected: [1, 2]\n",
      "\n",
      "solution: [0, 1] expected: [0, 1]\n",
      "\n"
     ]
    }
   ],
   "source": [
    "# test 1\n",
    "nums = [2,7,11,15]\n",
    "target = 9\n",
    "print(\"solution:\", Solution().twoSum(nums, target), \"expected:\", [0, 1])\n",
    "print()\n",
    "\n",
    "# test 2\n",
    "nums = [3,2,4]\n",
    "target = 6\n",
    "print(\"solution:\", Solution().twoSum(nums, target), \"expected:\", [1, 2])\n",
    "print()\n",
    "\n",
    "# test 3\n",
    "nums = [3,3]\n",
    "target = 6\n",
    "print(\"solution:\", Solution().twoSum(nums, target), \"expected:\", [0, 1])\n",
    "print()"
   ]
  },
  {
   "cell_type": "code",
   "execution_count": null,
   "metadata": {},
   "outputs": [],
   "source": []
  }
 ],
 "metadata": {
  "kernelspec": {
   "display_name": ".venv",
   "language": "python",
   "name": "python3"
  },
  "language_info": {
   "codemirror_mode": {
    "name": "ipython",
    "version": 3
   },
   "file_extension": ".py",
   "mimetype": "text/x-python",
   "name": "python",
   "nbconvert_exporter": "python",
   "pygments_lexer": "ipython3",
   "version": "3.12.3"
  }
 },
 "nbformat": 4,
 "nbformat_minor": 2
}
