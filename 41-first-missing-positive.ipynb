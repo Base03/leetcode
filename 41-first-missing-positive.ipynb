{
 "cells": [
  {
   "cell_type": "code",
   "execution_count": 49,
   "metadata": {},
   "outputs": [],
   "source": [
    "# Given an unsorted integer array nums, return the smallest positive integer that is not present in nums. You must implement an algorithm that runs in O(n) time and uses O(1) auxiliary space.\n",
    "from typing import List\n",
    "\n",
    "\n",
    "class Solution:\n",
    "    # O(n) time and O(n) auxiliary space\n",
    "    def firstMissingPositive(self, nums: List[int]) -> int:\n",
    "        aux = [0] * len(nums)\n",
    "        for val in nums:\n",
    "           if val > 0 and val <= len(nums):\n",
    "               aux[val-1] = 1\n",
    "        \n",
    "        # print(\"nums:\", nums)\n",
    "        # print(\"aux:\", aux)\n",
    "        \n",
    "        for i in range(len(aux)):\n",
    "            if aux[i] == 0:\n",
    "                return i+1\n",
    "        return len(aux)+1\n",
    "    \n",
    "    # O(n) time and O(1) auxiliary space\n",
    "    def firstMissingPositive(self, nums: List[int]) -> int:\n",
    "        # print(\"nums 0:\", nums)\n",
    "        max_int = max(1, max(nums)+1)\n",
    "        # print(\"max_int:\", max_int)\n",
    "        for i in range(len(nums)):\n",
    "            if nums[i] <= 0:\n",
    "                nums[i] = max_int\n",
    "            else:\n",
    "                nums[i] += max_int\n",
    "        \n",
    "        # print(\"nums 1:\", nums)\n",
    "        for i in range(len(nums)):\n",
    "            val = abs(nums[i])\n",
    "            if val > max_int:\n",
    "                val = val - max_int\n",
    "                if val <= len(nums):\n",
    "                    nums[val-1] = -abs(nums[val-1])\n",
    "        \n",
    "        # print(\"nums 2:\", nums)\n",
    "        for i in range(len(nums)):\n",
    "            if nums[i] > 0:\n",
    "                return i+1\n",
    "        return len(nums)+1"
   ]
  },
  {
   "cell_type": "code",
   "execution_count": 50,
   "metadata": {},
   "outputs": [
    {
     "name": "stdout",
     "output_type": "stream",
     "text": [
      "first missing positive: 3 expected: 3\n",
      "first missing positive: 2 expected: 2\n",
      "first missing positive: 1 expected: 1\n",
      "first missing positive: 3 expected: 3\n"
     ]
    }
   ],
   "source": [
    "# test 1:\n",
    "nums = [1, 2, 0]\n",
    "sol = Solution().firstMissingPositive(nums)\n",
    "print(\"first missing positive:\", sol, \"expected:\", 3)\n",
    "\n",
    "# test 2:\n",
    "nums = [3,4,-1,1]\n",
    "sol = Solution().firstMissingPositive(nums)\n",
    "print(\"first missing positive:\", sol, \"expected:\", 2)\n",
    "\n",
    "# test 3:\n",
    "nums = [7,8,9,11,12,13,14,15,16,17,18,19,20]\n",
    "sol = Solution().firstMissingPositive(nums)\n",
    "print(\"first missing positive:\", sol, \"expected:\", 1)\n",
    "\n",
    "# test 4:\n",
    "nums = [0,1,2]\n",
    "sol = Solution().firstMissingPositive(nums)\n",
    "print(\"first missing positive:\", sol, \"expected:\", 3)"
   ]
  },
  {
   "cell_type": "code",
   "execution_count": null,
   "metadata": {},
   "outputs": [],
   "source": []
  }
 ],
 "metadata": {
  "kernelspec": {
   "display_name": ".venv",
   "language": "python",
   "name": "python3"
  },
  "language_info": {
   "codemirror_mode": {
    "name": "ipython",
    "version": 3
   },
   "file_extension": ".py",
   "mimetype": "text/x-python",
   "name": "python",
   "nbconvert_exporter": "python",
   "pygments_lexer": "ipython3",
   "version": "3.12.3"
  }
 },
 "nbformat": 4,
 "nbformat_minor": 2
}
