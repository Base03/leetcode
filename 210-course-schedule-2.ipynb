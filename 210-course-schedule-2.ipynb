{
 "cells": [
  {
   "cell_type": "code",
   "execution_count": 4,
   "metadata": {},
   "outputs": [],
   "source": [
    "from typing import List\n",
    "\n",
    "class Solution:\n",
    "    def findOrder(self, numCourses: int, prerequisites: List[List[int]]) -> List[int]:\n",
    "        graph = [[] for i in range(numCourses)]\n",
    "        indegree = [0 for i in range(numCourses)]\n",
    "\n",
    "        for course, prereq in prerequisites:\n",
    "            graph[prereq].append(course)\n",
    "            indegree[course] += 1\n",
    "\n",
    "        # start with courses that have no prerequisites\n",
    "        queue = []\n",
    "        for i in range(numCourses):\n",
    "            if indegree[i] == 0:\n",
    "                queue.append(i)\n",
    "\n",
    "        orderedList = []\n",
    "        while queue:\n",
    "            course = queue.pop(0)\n",
    "            orderedList.append(course)\n",
    "            for successor in graph[course]:\n",
    "                indegree[successor] -= 1\n",
    "                if indegree[successor] == 0:\n",
    "                    queue.append(successor)\n",
    "\n",
    "        return orderedList if len(orderedList) == numCourses else []"
   ]
  },
  {
   "cell_type": "code",
   "execution_count": 9,
   "metadata": {},
   "outputs": [
    {
     "name": "stdout",
     "output_type": "stream",
     "text": [
      "output:  [0, 1]  expected:  [0, 1]\n",
      "output:  [0, 1, 2, 3]  expected:  [0, 1, 2, 3]\n",
      "output:  [0]  expected:  [0]\n",
      "output:  []  expected:  []\n"
     ]
    }
   ],
   "source": [
    "# test 1:\n",
    "numCourses = 2\n",
    "prerequisites = [[1,0]]\n",
    "expected = [0,1]\n",
    "output = Solution().findOrder(numCourses, prerequisites)\n",
    "print(\"output: \", output, \" expected: \", expected)\n",
    "\n",
    "# test 2:\n",
    "numCourses = 4\n",
    "prerequisites = [[1,0],[2,0],[3,1],[3,2]]\n",
    "expected = [0,1,2,3]\n",
    "output = Solution().findOrder(numCourses, prerequisites)\n",
    "print(\"output: \", output, \" expected: \", expected)\n",
    "\n",
    "# test 3:\n",
    "numCourses = 1\n",
    "prerequisites = []\n",
    "expected = [0]\n",
    "output = Solution().findOrder(numCourses, prerequisites)\n",
    "print(\"output: \", output, \" expected: \", expected)\n",
    "\n",
    "# test 4:\n",
    "numCourses = 4\n",
    "prerequisites = [[0,3], [3,2], [2,1], [1,0]]\n",
    "expected = []\n",
    "output = Solution().findOrder(numCourses, prerequisites)\n",
    "print(\"output: \", output, \" expected: \", expected)"
   ]
  },
  {
   "cell_type": "code",
   "execution_count": null,
   "metadata": {},
   "outputs": [],
   "source": []
  }
 ],
 "metadata": {
  "kernelspec": {
   "display_name": ".venv",
   "language": "python",
   "name": "python3"
  },
  "language_info": {
   "codemirror_mode": {
    "name": "ipython",
    "version": 3
   },
   "file_extension": ".py",
   "mimetype": "text/x-python",
   "name": "python",
   "nbconvert_exporter": "python",
   "pygments_lexer": "ipython3",
   "version": "3.12.3"
  }
 },
 "nbformat": 4,
 "nbformat_minor": 2
}
