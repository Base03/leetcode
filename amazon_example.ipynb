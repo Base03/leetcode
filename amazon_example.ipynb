{
 "cells": [
  {
   "cell_type": "code",
   "execution_count": null,
   "id": "bb543289",
   "metadata": {},
   "outputs": [],
   "source": [
    "#!/bin/python3\n",
    "\n",
    "import math\n",
    "import os\n",
    "import random\n",
    "import re\n",
    "import sys\n",
    "\n",
    "\n",
    "\n",
    "#\n",
    "# Complete the 'minimalHeaviestSetA' function below.\n",
    "#\n",
    "# The function is expected to return an INTEGER_ARRAY.\n",
    "# The function accepts INTEGER_ARRAY arr as parameter.\n",
    "#\n",
    "\n",
    "def minimalHeaviestSetA(arr):\n",
    "    # Write your code here\n",
    "    arr = sorted(arr)\n",
    "    total = sum(arr)\n",
    "    subsetA = []\n",
    "    curr_sum = 0\n",
    "    for i in range(len(arr)-1, -1, -1):\n",
    "        curr_sum += arr[i]\n",
    "        subsetA.append(arr[i])\n",
    "        if curr_sum > total -curr_sum:\n",
    "            break;\n",
    "\n",
    "    return subsetA\n"
   ]
  },
  {
   "cell_type": "code",
   "execution_count": null,
   "id": "5c3b5f1b",
   "metadata": {},
   "outputs": [],
   "source": [
    "import math\n",
    "import os\n",
    "import random\n",
    "import re\n",
    "import sys\n",
    "\n",
    "\n",
    "\n",
    "#\n",
    "# Complete the 'countGroups' function below.\n",
    "#\n",
    "# The function is expected to return an INTEGER.\n",
    "# The function accepts STRING_ARRAY related as parameter.\n",
    "#\n",
    "\n",
    "def countGroups(related):\n",
    "    n = len(related)\n",
    "    visited = [False] * n\n",
    "    groups = 0\n",
    "\n",
    "    def dfs(person):\n",
    "        stack = [person]\n",
    "        while stack:\n",
    "            curr = stack.pop()\n",
    "            for i in range(n):\n",
    "                if related[curr][i] == 1 and not visited[i]:\n",
    "                    visited[i] = True\n",
    "                    stack.append(i)\n",
    "\n",
    "    for i in range(n):\n",
    "        if not visited[i]:\n",
    "            visited[i] = True\n",
    "            dfs(i)\n",
    "            groups += 1\n",
    "\n",
    "    return groups\n"
   ]
  },
  {
   "cell_type": "code",
   "execution_count": 1,
   "id": "0295c443",
   "metadata": {},
   "outputs": [],
   "source": [
    "import math\n",
    "import os\n",
    "import random\n",
    "import re\n",
    "import sys\n",
    "\n",
    "#\n",
    "# Complete the 'countGroups' function below.\n",
    "#\n",
    "# The function is expected to return an INTEGER.\n",
    "# The function accepts STRING_ARRAY related as parameter.\n",
    "#\n",
    "\n",
    "def countGroups(related):\n",
    "    n = len(related)\n",
    "    visited = [False]*n\n",
    "    distinct_groups = 0\n",
    "\n",
    "    def dfs(i: int):\n",
    "        if not visited[i]:\n",
    "            visited[i] = True\n",
    "\n",
    "            for j in range(n):\n",
    "                if (related[i][j] == '1'):\n",
    "                    dfs(j)\n",
    "    \n",
    "    for i in range(n):\n",
    "        if not visited[i]:\n",
    "            dfs(i)\n",
    "            distinct_groups += 1\n",
    "    \n",
    "    return distinct_groups"
   ]
  },
  {
   "cell_type": "code",
   "execution_count": 3,
   "id": "edc940f4",
   "metadata": {},
   "outputs": [
    {
     "name": "stdout",
     "output_type": "stream",
     "text": [
      "expected: 3, received: 3\n",
      "expected: 2, received: 2\n"
     ]
    }
   ],
   "source": [
    "related = ['1100','1100','0010','0001']\n",
    "expected = 3\n",
    "received = countGroups(related)\n",
    "print(f\"expected: {expected}, received: {received}\")\n",
    "\n",
    "related = ['1100','1110','0010','0001']\n",
    "expected = 2\n",
    "received = countGroups(related)\n",
    "print(f\"expected: {expected}, received: {received}\")"
   ]
  },
  {
   "cell_type": "code",
   "execution_count": 25,
   "id": "44752ecf",
   "metadata": {},
   "outputs": [],
   "source": [
    "# Linked list definition from leetcode\n",
    "class ListNode:\n",
    "    def __init__(self, val=0, next=None):\n",
    "        self.val = val\n",
    "        self.next = next\n",
    "\n",
    "    def __repr__(self):\n",
    "        return f\"ListNode({self.val}: {self.next})\"\n",
    "\n",
    "def reverseList(head: ListNode):\n",
    "    prev_Node = None\n",
    "    curr_Node = head\n",
    "\n",
    "    while curr_Node:\n",
    "        next_Node = curr_Node.next\n",
    "        curr_Node.next = prev_Node\n",
    "        prev_Node = curr_Node\n",
    "        curr_Node = next_Node\n",
    "        \n",
    "    return prev_Node\n",
    "\n",
    "def reverseListRecursive(curr: ListNode):\n",
    "    if not curr or not curr.next:\n",
    "        return curr\n",
    "    \n",
    "    new_head = reverseListRecursive(curr.next)\n",
    "    curr.next.next = curr\n",
    "    curr.next = None\n",
    "    return new_head"
   ]
  },
  {
   "cell_type": "code",
   "execution_count": 26,
   "id": "b51ae4f3",
   "metadata": {},
   "outputs": [
    {
     "name": "stdout",
     "output_type": "stream",
     "text": [
      "Original list: ListNode(1: ListNode(2: ListNode(3: ListNode(4: ListNode(5: None)))))\n",
      "Reversed list: ListNode(5: ListNode(4: ListNode(3: ListNode(2: ListNode(1: None)))))\n",
      "Original list: ListNode(1: ListNode(2: ListNode(3: ListNode(4: ListNode(5: None)))))\n",
      "Reversed list: ListNode(5: ListNode(4: ListNode(3: ListNode(2: ListNode(1: None)))))\n"
     ]
    }
   ],
   "source": [
    "list = ListNode(1, ListNode(2, ListNode(3, ListNode(4, ListNode(5)))))\n",
    "print(f\"Original list: {list}\")\n",
    "print(f\"Reversed list: {reverseList(list)}\")\n",
    "\n",
    "list = ListNode(1, ListNode(2, ListNode(3, ListNode(4, ListNode(5)))))\n",
    "print(f\"Original list: {list}\")\n",
    "print(f\"Reversed list: {reverseListRecursive(list)}\")"
   ]
  },
  {
   "cell_type": "code",
   "execution_count": null,
   "id": "0608bf61",
   "metadata": {},
   "outputs": [],
   "source": []
  },
  {
   "cell_type": "code",
   "execution_count": null,
   "id": "3aa5594e",
   "metadata": {},
   "outputs": [],
   "source": []
  }
 ],
 "metadata": {
  "kernelspec": {
   "display_name": "python_dev",
   "language": "python",
   "name": "python3"
  },
  "language_info": {
   "codemirror_mode": {
    "name": "ipython",
    "version": 3
   },
   "file_extension": ".py",
   "mimetype": "text/x-python",
   "name": "python",
   "nbconvert_exporter": "python",
   "pygments_lexer": "ipython3",
   "version": "3.13.2"
  }
 },
 "nbformat": 4,
 "nbformat_minor": 5
}
