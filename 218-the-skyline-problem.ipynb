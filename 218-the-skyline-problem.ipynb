{
 "cells": [
  {
   "cell_type": "code",
   "execution_count": 1,
   "metadata": {},
   "outputs": [],
   "source": [
    "from typing import List\n",
    "from sortedcontainers import SortedList\n",
    "\n",
    "class Solution:\n",
    "    def getSkyline(self, buildings: List[List[int]]) -> List[List[int]]:\n",
    "        data = SortedList()\n",
    "        for building in buildings:\n",
    "            data.add((building[0], -building[2]))\n",
    "            data.add((building[1],  building[2]))\n",
    "\n",
    "        window = SortedList([0])\n",
    "        skyline = []\n",
    "\n",
    "        for x, h in data:\n",
    "            if h < 0:\n",
    "                window.add(-h)\n",
    "            else:\n",
    "                window.remove(h)\n",
    "            if len(skyline) == 0 or skyline[-1][1] != window[-1]:\n",
    "                skyline.append([x, window[-1]])\n",
    "\n",
    "        return skyline"
   ]
  },
  {
   "cell_type": "code",
   "execution_count": 5,
   "metadata": {},
   "outputs": [
    {
     "name": "stdout",
     "output_type": "stream",
     "text": [
      "output:\n",
      " [[2, 10], [3, 15], [7, 12], [12, 0], [15, 10], [20, 8], [24, 0]]\n",
      "expected:\n",
      " [[2, 10], [3, 15], [7, 12], [12, 0], [15, 10], [20, 8], [24, 0]]\n",
      "\n",
      "output:\n",
      " [[0, 3], [5, 0]]\n",
      "expected:\n",
      " [[0, 3], [5, 0]]\n",
      "\n"
     ]
    }
   ],
   "source": [
    "# test 1\n",
    "buildings = [[2,9,10],[3,8,10],[3,7,15],[5,12,12],[15,20,10],[19,24,8]]\n",
    "expected = [[2,10],[3,15],[7,12],[12,0],[15,10],[20,8],[24,0]]\n",
    "output = Solution().getSkyline(buildings)\n",
    "print(\"output:\\n\", output)\n",
    "print(\"expected:\\n\", expected)\n",
    "print()\n",
    "\n",
    "# test 2\n",
    "buildings = [[0,2,3],[2,5,3]]\n",
    "expected = [[0,3],[5,0]]\n",
    "output = Solution().getSkyline(buildings)\n",
    "print(\"output:\\n\", output)\n",
    "print(\"expected:\\n\", expected)\n",
    "print()"
   ]
  },
  {
   "cell_type": "code",
   "execution_count": null,
   "metadata": {},
   "outputs": [],
   "source": []
  }
 ],
 "metadata": {
  "kernelspec": {
   "display_name": ".venv",
   "language": "python",
   "name": "python3"
  },
  "language_info": {
   "codemirror_mode": {
    "name": "ipython",
    "version": 3
   },
   "file_extension": ".py",
   "mimetype": "text/x-python",
   "name": "python",
   "nbconvert_exporter": "python",
   "pygments_lexer": "ipython3",
   "version": "3.12.3"
  }
 },
 "nbformat": 4,
 "nbformat_minor": 2
}
