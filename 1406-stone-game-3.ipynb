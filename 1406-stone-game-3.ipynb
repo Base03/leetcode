{
 "cells": [
  {
   "cell_type": "code",
   "execution_count": 6,
   "metadata": {},
   "outputs": [],
   "source": [
    "from typing import List\n",
    "\n",
    "class Solution:\n",
    "    def stoneGameIII(self, stoneValue: List[int]) -> str:\n",
    "        n = len(stoneValue)\n",
    "        dp = {}\n",
    "\n",
    "        def maximizer(i: int, max_piles: int) -> int:\n",
    "            if i >= n:\n",
    "                return 0\n",
    "            if i in dp:\n",
    "                return dp[i]\n",
    "            res = None\n",
    "            pile_sum = 0\n",
    "            for j in range(i, min(i+3, n)):\n",
    "                pile_sum += stoneValue[j]\n",
    "                current = pile_sum - maximizer(j+1, max_piles)\n",
    "                if res is None or current > res:\n",
    "                    res = current\n",
    "            dp[i] = res\n",
    "            return dp[i]\n",
    "        \n",
    "        score = maximizer(0, 3)\n",
    "        if score > 0:\n",
    "            return \"Alice\"\n",
    "        elif score < 0:\n",
    "            return \"Bob\"\n",
    "        else:\n",
    "            return \"Tie\""
   ]
  },
  {
   "cell_type": "code",
   "execution_count": 7,
   "metadata": {},
   "outputs": [
    {
     "name": "stdout",
     "output_type": "stream",
     "text": [
      "winner: Bob expected: Bob\n",
      "winner: Alice expected: Alice\n",
      "winner: Tie expected: Tie\n"
     ]
    }
   ],
   "source": [
    "import sys\n",
    "import random\n",
    "import time\n",
    "\n",
    "sys.setrecursionlimit(10**8)\n",
    "random.seed(0)\n",
    "\n",
    "soln = Solution()\n",
    "f = soln.stoneGameIII\n",
    "\n",
    "# test 1 \n",
    "stoneValue = [1,2,3,7]\n",
    "expected = \"Bob\"\n",
    "print(\"winner:\", f(stoneValue), \"expected:\", expected)\n",
    "\n",
    "# test 2\n",
    "stoneValue = [1,2,3,-9]\n",
    "expected = \"Alice\"\n",
    "print(\"winner:\", f(stoneValue), \"expected:\", expected)\n",
    "\n",
    "# test 3\n",
    "stoneValue = [1,2,3,6]\n",
    "expected = \"Tie\"\n",
    "print(\"winner:\", f(stoneValue), \"expected:\", expected)\n",
    "\n"
   ]
  },
  {
   "cell_type": "code",
   "execution_count": null,
   "metadata": {},
   "outputs": [],
   "source": []
  }
 ],
 "metadata": {
  "kernelspec": {
   "display_name": ".venv",
   "language": "python",
   "name": "python3"
  },
  "language_info": {
   "codemirror_mode": {
    "name": "ipython",
    "version": 3
   },
   "file_extension": ".py",
   "mimetype": "text/x-python",
   "name": "python",
   "nbconvert_exporter": "python",
   "pygments_lexer": "ipython3",
   "version": "3.12.3"
  }
 },
 "nbformat": 4,
 "nbformat_minor": 2
}
