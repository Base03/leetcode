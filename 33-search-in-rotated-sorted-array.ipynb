{
 "cells": [
  {
   "cell_type": "code",
   "execution_count": 1,
   "metadata": {},
   "outputs": [],
   "source": [
    "from typing import List\n",
    "\n",
    "class Solution:\n",
    "    def search(self, nums: List[int], target: int) -> int:\n",
    "        # basically have 4 cases:\n",
    "        # 1) mid >= left, left <= target < mid\n",
    "        # 2) mid >= left, !(left <= target < mid)\n",
    "        # 3) mid < left, mid < target <= right\n",
    "        # 4) mid < left, !(mid < target <= right)\n",
    "\n",
    "        left, right = 0, len(nums) - 1\n",
    "        while (left <= right):\n",
    "            mid = left + (right - left) // 2\n",
    "            if (nums[mid] == target):\n",
    "                return mid\n",
    "            # left half is sorted\n",
    "            elif nums[left] <= nums[mid]:\n",
    "                if nums[left] <= target and target < nums[mid]:\n",
    "                    right = mid - 1\n",
    "                else:\n",
    "                    left = mid + 1\n",
    "            # right half is sorted\n",
    "            else:\n",
    "                if nums[mid] < target and target <= nums[right]:\n",
    "                    left = mid + 1\n",
    "                else:\n",
    "                    right = mid - 1\n",
    "\n",
    "        return -1"
   ]
  },
  {
   "cell_type": "code",
   "execution_count": 4,
   "metadata": {},
   "outputs": [
    {
     "name": "stdout",
     "output_type": "stream",
     "text": [
      "output:  4 expected:  4\n",
      "output:  -1 expected:  -1\n",
      "output:  -1 expected:  -1\n"
     ]
    }
   ],
   "source": [
    "# test 1\n",
    "nums = [4,5,6,7,0,1,2]\n",
    "target = 0\n",
    "output = Solution().search(nums, target)\n",
    "expected = 4\n",
    "print(\"output: \", output, \"expected: \", expected)\n",
    "\n",
    "# test 2\n",
    "nums = [4,5,6,7,0,1,2]\n",
    "target = 3\n",
    "output = Solution().search(nums, target)\n",
    "expected = -1\n",
    "print(\"output: \", output, \"expected: \", expected)\n",
    "\n",
    "# test 3\n",
    "nums = [1]\n",
    "target = 0\n",
    "output = Solution().search(nums, target)\n",
    "expected = -1\n",
    "print(\"output: \", output, \"expected: \", expected)"
   ]
  },
  {
   "cell_type": "code",
   "execution_count": null,
   "metadata": {},
   "outputs": [],
   "source": []
  }
 ],
 "metadata": {
  "kernelspec": {
   "display_name": ".venv",
   "language": "python",
   "name": "python3"
  },
  "language_info": {
   "codemirror_mode": {
    "name": "ipython",
    "version": 3
   },
   "file_extension": ".py",
   "mimetype": "text/x-python",
   "name": "python",
   "nbconvert_exporter": "python",
   "pygments_lexer": "ipython3",
   "version": "3.12.3"
  }
 },
 "nbformat": 4,
 "nbformat_minor": 2
}
