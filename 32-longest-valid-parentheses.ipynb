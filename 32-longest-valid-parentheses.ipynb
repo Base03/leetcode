{
 "cells": [
  {
   "cell_type": "code",
   "execution_count": 39,
   "metadata": {},
   "outputs": [],
   "source": [
    "from collections import deque\n",
    "\n",
    "class Solution:\n",
    "    def longestValidParentheses(self, s: str) -> int:\n",
    "        # stack for unmatched parentheses\n",
    "        # add an initial ')' to the stack at beginning (index -1)\n",
    "        p_stack = deque([(-1,-1)])\n",
    "        \n",
    "        for i, char in enumerate(s):\n",
    "            if char == '(':\n",
    "                p_stack.append((i, 1))\n",
    "            elif p_stack and p_stack[-1][1] == 1:\n",
    "                p_stack.pop()\n",
    "            else:\n",
    "                p_stack.append((i, -1))\n",
    "        # add a final '(' to the stack at the end (index len(s) since it not start at -1) \n",
    "        p_stack.append((len(s), 1))\n",
    "        # print(p_stack)\n",
    "\n",
    "        # at this point, stack contains on the indices of the unmatched parentheses\n",
    "        # add invalid indices at the beginning and end of the stack in case it is\n",
    "        # empty and to make calculations easier\n",
    "        longest = 0\n",
    "        for j in range(1,len(p_stack)):\n",
    "            longest = max(longest, (p_stack[j][0] - 1) - (p_stack[j-1][0]))\n",
    "        # print(p_stack)\n",
    "        return  longest"
   ]
  },
  {
   "cell_type": "code",
   "execution_count": 40,
   "metadata": {},
   "outputs": [
    {
     "name": "stdout",
     "output_type": "stream",
     "text": [
      "2 expected 2\n",
      "\n",
      "4 expected 4\n",
      "\n",
      "0 expected 0\n",
      "\n"
     ]
    }
   ],
   "source": [
    "# test 1\n",
    "s = \"(()\"\n",
    "print(Solution().longestValidParentheses(s), \"expected 2\")\n",
    "print()\n",
    "\n",
    "# test 2\n",
    "s = \")()())\"\n",
    "print(Solution().longestValidParentheses(s), \"expected 4\")\n",
    "print()\n",
    "\n",
    "# test 3\n",
    "s = \"\"\n",
    "print(Solution().longestValidParentheses(s), \"expected 0\")\n",
    "print()\n"
   ]
  },
  {
   "cell_type": "code",
   "execution_count": null,
   "metadata": {},
   "outputs": [],
   "source": []
  }
 ],
 "metadata": {
  "kernelspec": {
   "display_name": ".venv (3.12.3)",
   "language": "python",
   "name": "python3"
  },
  "language_info": {
   "codemirror_mode": {
    "name": "ipython",
    "version": 3
   },
   "file_extension": ".py",
   "mimetype": "text/x-python",
   "name": "python",
   "nbconvert_exporter": "python",
   "pygments_lexer": "ipython3",
   "version": "3.12.3"
  }
 },
 "nbformat": 4,
 "nbformat_minor": 2
}
