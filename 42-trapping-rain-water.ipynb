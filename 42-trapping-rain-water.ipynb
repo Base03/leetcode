{
 "cells": [
  {
   "cell_type": "code",
   "execution_count": 63,
   "metadata": {},
   "outputs": [],
   "source": [
    "from typing import List\n",
    "\n",
    "class Solution:\n",
    "    def trap(self, height: List[int]) -> int:\n",
    "        water: int = 0\n",
    "        area: int = 0\n",
    "\n",
    "        left: int = 0\n",
    "        right: int = len(height) - 1\n",
    "        high_left: int = 0\n",
    "        high_right: int = 0\n",
    "        high_min:int = 0\n",
    "\n",
    "        while left < right:\n",
    "            if high_left < height[left]:\n",
    "                water += ((right+1) - left) * (min(height[left], high_right) - high_min)\n",
    "                high_left = height[left]\n",
    "                high_min = min(high_left, high_right)\n",
    "        \n",
    "            if high_right < height[right]:\n",
    "                water += ((right+1) - left) * (min(height[right], high_left) - high_min)\n",
    "                high_right = height[right]\n",
    "                high_min = min(high_left, high_right)\n",
    "            \n",
    "            if height[left] <= height[right]:\n",
    "                left += 1\n",
    "            else:\n",
    "                right -= 1\n",
    "\n",
    "        for h in height:\n",
    "            area += min(high_min, h)\n",
    "\n",
    "        return water - area"
   ]
  },
  {
   "cell_type": "code",
   "execution_count": 59,
   "metadata": {},
   "outputs": [],
   "source": [
    "from typing import List\n",
    "\n",
    "class Solution:\n",
    "    def trap(self, height: List[int]) -> int:\n",
    "        water = 0\n",
    "        level_left, level_right = [0]*len(height), [0]*len(height)\n",
    "        level_left[0], level_right[-1] = height[0], height[-1]\n",
    "\n",
    "        for i in range(1, len(height)):\n",
    "            level_left[i] = max(level_left[i-1], height[i])\n",
    "            level_right[-i-1] = max(level_right[-i], height[-i-1])\n",
    "        \n",
    "        water = sum(min(level_left[i], level_right[i]) - height[i] for i in range(len(height)))\n",
    "        \n",
    "        return water"
   ]
  },
  {
   "cell_type": "code",
   "execution_count": 65,
   "metadata": {},
   "outputs": [],
   "source": [
    "from typing import List\n",
    "\n",
    "class Solution:\n",
    "    def trap(self, height: List[int]) -> int:\n",
    "        if not height:\n",
    "            return 0\n",
    "        left: int = 0\n",
    "        right: int = len(height) - 1\n",
    "\n",
    "        left_max: int = height[left]\n",
    "        right_max: int = height[right]\n",
    "\n",
    "        water: int = 0\n",
    "\n",
    "        while left < right:\n",
    "            if left_max < right_max:\n",
    "                left += 1\n",
    "                left_max = left_max if left_max > height[left] else height[left]\n",
    "                water += left_max - height[left]\n",
    "            else:\n",
    "                right -= 1\n",
    "                right_max = right_max if right_max > height[right] else height[right]\n",
    "                water += right_max - height[right]\n",
    "        \n",
    "        return water"
   ]
  },
  {
   "cell_type": "code",
   "execution_count": 66,
   "metadata": {},
   "outputs": [
    {
     "name": "stdout",
     "output_type": "stream",
     "text": [
      "6 expected: 6\n",
      "9 expected: 9\n"
     ]
    }
   ],
   "source": [
    "# test 1\n",
    "height = [0,1,0,2,1,0,1,3,2,1,2,1]\n",
    "expected = 6\n",
    "print(Solution().trap(height), \"expected:\", expected)\n",
    "\n",
    "# test 2\n",
    "height = [4,2,0,3,2,5]\n",
    "expected = 9\n",
    "print(Solution().trap(height), \"expected:\", expected)"
   ]
  },
  {
   "cell_type": "code",
   "execution_count": null,
   "metadata": {},
   "outputs": [],
   "source": []
  }
 ],
 "metadata": {
  "kernelspec": {
   "display_name": ".venv",
   "language": "python",
   "name": "python3"
  },
  "language_info": {
   "codemirror_mode": {
    "name": "ipython",
    "version": 3
   },
   "file_extension": ".py",
   "mimetype": "text/x-python",
   "name": "python",
   "nbconvert_exporter": "python",
   "pygments_lexer": "ipython3",
   "version": "3.12.3"
  }
 },
 "nbformat": 4,
 "nbformat_minor": 2
}
