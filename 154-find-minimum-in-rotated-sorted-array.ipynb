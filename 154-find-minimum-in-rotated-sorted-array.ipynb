{
 "cells": [
  {
   "cell_type": "code",
   "execution_count": 5,
   "metadata": {},
   "outputs": [],
   "source": [
    "from typing import List\n",
    "\n",
    "class Solution:\n",
    "    def findMin(self, nums: List[int]) -> int:\n",
    "        n = len(nums)\n",
    "        # for length n, min(nums) takes about 2n operations (increment i and compare)\n",
    "        # for length n, binary search takes about 8log(n) operations\n",
    "        # n = 4:  8  vs 8*2 = 16\n",
    "        # n = 8:  16 vs 8*3 = 24\n",
    "        # n = 16: 32 vs 8*4 = 32\n",
    "        # n = 32: 64 vs 8*5 = 40\n",
    "        # therefore, we should expect binary search to be faster for n >~ 32\n",
    "        if n < 32:\n",
    "            return min(nums)\n",
    "        \n",
    "        l = 0\n",
    "        r = n - 1\n",
    "        while l < r:\n",
    "            mid = (l + r) // 2\n",
    "\n",
    "            # mid higher than right, therefore minima lies to the right of mid\n",
    "            if nums[mid] > nums[r]:\n",
    "                l = mid + 1\n",
    "            # mid lower than right, therefore minima lies at or to the left of mid\n",
    "            elif nums[mid] < nums[r]:\n",
    "                r = mid\n",
    "            # mid equal to right, worst case we have a constant array, so we have to \n",
    "            # search linearly\n",
    "            else:\n",
    "                r -= 1\n",
    "        \n",
    "        return nums[l]"
   ]
  },
  {
   "cell_type": "code",
   "execution_count": 6,
   "metadata": {},
   "outputs": [
    {
     "name": "stdout",
     "output_type": "stream",
     "text": [
      "result: 1 expected: 1\n",
      "result: 0 expected: 0\n"
     ]
    }
   ],
   "source": [
    "# test 1\n",
    "nums = [1,3,5]\n",
    "print(\"result:\", Solution().findMin(nums), \"expected:\", min(nums))\n",
    "\n",
    "# test 2\n",
    "nums = [2,2,2,0,1]\n",
    "print(\"result:\", Solution().findMin(nums), \"expected:\", 0)"
   ]
  },
  {
   "cell_type": "code",
   "execution_count": null,
   "metadata": {},
   "outputs": [],
   "source": []
  }
 ],
 "metadata": {
  "kernelspec": {
   "display_name": ".venv",
   "language": "python",
   "name": "python3"
  },
  "language_info": {
   "codemirror_mode": {
    "name": "ipython",
    "version": 3
   },
   "file_extension": ".py",
   "mimetype": "text/x-python",
   "name": "python",
   "nbconvert_exporter": "python",
   "pygments_lexer": "ipython3",
   "version": "3.12.3"
  }
 },
 "nbformat": 4,
 "nbformat_minor": 2
}
