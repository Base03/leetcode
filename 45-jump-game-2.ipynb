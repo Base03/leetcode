{
 "cells": [
  {
   "cell_type": "markdown",
   "metadata": {},
   "source": [
    "You are given a 0-indexed array of integers ```nums``` of length ```n```. You are initially positioned at ```nums[0]```.\n",
    "\n",
    "Each element ```nums[i]``` represents the maximum length of a forward jump from index ```i```. In other words, if you are at ```nums[i]```, you can jump to any ```nums[i + j]``` where:\n",
    "\n",
    "```0 <= j <= nums[i]``` and ```i + j < n```\n",
    "\n",
    "Return the minimum number of jumps to reach ```nums[n - 1]```. The test cases are generated such that you can reach ```nums[n - 1]```."
   ]
  },
  {
   "cell_type": "code",
   "execution_count": null,
   "metadata": {},
   "outputs": [],
   "source": [
    "# first let's do it with recursion with memoization\n",
    "\n",
    "from typing import List\n",
    "\n",
    "class Solution:\n",
    "    def jump(self, nums: List[int]) -> int:\n",
    "        memo = {}   \n",
    "        n = len(nums)\n",
    "\n",
    "        def recurse(i):\n",
    "            # have we already calculated this?\n",
    "            if i in memo:\n",
    "                return memo[i]\n",
    "            \n",
    "            # base case\n",
    "            result = float('inf')\n",
    "            if i == n-1:\n",
    "                result = 0\n",
    "            else:\n",
    "                for j in range(nums[i], 0, -1):\n",
    "                    if i+j < n:\n",
    "                        currJumps = 1 + recurse(i+j)\n",
    "                        result = min(result, currJumps)\n",
    "            \n",
    "            memo[i] = result\n",
    "            return result\n",
    "                \n",
    "        return recurse(0)"
   ]
  },
  {
   "cell_type": "code",
   "execution_count": 34,
   "metadata": {},
   "outputs": [],
   "source": [
    "# dynamic programming\n",
    "\n",
    "from typing import List\n",
    "\n",
    "class Solution:\n",
    "    def jump(self, nums: List[int]) -> int:\n",
    "        n = len(nums)\n",
    "        jumpsDP = [float('inf')]*n\n",
    "        jumpsDP[0] = 0\n",
    "\n",
    "\n",
    "        for i in range(n):\n",
    "            if jumpsDP[i] == float('inf'):\n",
    "                continue\n",
    "            \n",
    "            for j in range(1, nums[i] + 1):\n",
    "                if i + j >= n:\n",
    "                    break\n",
    "                \n",
    "                if jumpsDP[i] + 1 < jumpsDP[i+j]:\n",
    "                    # only update if we have a shorter path\n",
    "                    jumpsDP[i+j] = jumpsDP[i] + 1\n",
    "\n",
    "        return jumpsDP[-1]\n",
    "            "
   ]
  },
  {
   "cell_type": "code",
   "execution_count": 27,
   "metadata": {},
   "outputs": [],
   "source": [
    "# implement as breadth first search with early stopping; depth is \n",
    "# the number of jumps\n",
    "\n",
    "from typing import List\n",
    "\n",
    "class Solution:\n",
    "    def jump(self, nums: List[int]) -> int:\n",
    "        n = len(nums)\n",
    "\n",
    "        visited = set()\n",
    "        queue = [(0, 0)]\n",
    "\n",
    "        for pos, jumps in queue:\n",
    "            if pos == n-1:\n",
    "                return jumps\n",
    "            \n",
    "            for j in range(nums[pos], 0, -1):\n",
    "                nextPos = pos + j\n",
    "                if nextPos < n and nextPos not in visited:\n",
    "                    visited.add(nextPos)\n",
    "                    queue.append((nextPos, jumps+1))\n",
    "        return -1"
   ]
  },
  {
   "cell_type": "code",
   "execution_count": 24,
   "metadata": {},
   "outputs": [],
   "source": [
    "# doing the same thing but with an implicit queue\n",
    "\n",
    "from typing import List\n",
    "\n",
    "class Solution:\n",
    "    def jump(self, nums: List[int]) -> int:\n",
    "        n = len(nums)\n",
    "\n",
    "        jumps = 0   # number of jumps taken\n",
    "        currMax = 0 # furthest we can reach with current jumps\n",
    "        nextMax = 0 # furthest we can reach with one more jump\n",
    "\n",
    "        for i in range(n-1):\n",
    "            nextMax = max(nextMax, i+nums[i])\n",
    "            if i == currMax:\n",
    "                jumps += 1\n",
    "                currMax = nextMax\n",
    "                if currMax >= n-1:\n",
    "                    break\n",
    "        \n",
    "        return jumps"
   ]
  },
  {
   "cell_type": "code",
   "execution_count": 35,
   "metadata": {},
   "outputs": [
    {
     "name": "stdout",
     "output_type": "stream",
     "text": [
      "result: 2, expected: 2\n",
      "result: 2, expected: 2\n",
      "result: 5, expected: 5\n"
     ]
    }
   ],
   "source": [
    "nums = [2,3,1,1,4]\n",
    "result = Solution().jump(nums)\n",
    "expected = 2\n",
    "print(f\"result: {result}, expected: {expected}\")\n",
    "\n",
    "nums = [2,3,0,1,4]\n",
    "result = Solution().jump(nums)\n",
    "expected = 2\n",
    "print(f\"result: {result}, expected: {expected}\")\n",
    "\n",
    "nums = [5,6,4,4,6,9,4,4,7,4,4,8,2,6,8,1,5,9,6,5,2,7,9,7,9,6,9,4,1,6,8,8,4,4,2,0,3,8,5]\n",
    "result = Solution().jump(nums)\n",
    "expected = 5\n",
    "print(f\"result: {result}, expected: {expected}\")"
   ]
  },
  {
   "cell_type": "code",
   "execution_count": null,
   "metadata": {},
   "outputs": [],
   "source": []
  }
 ],
 "metadata": {
  "kernelspec": {
   "display_name": ".venv (3.12.3)",
   "language": "python",
   "name": "python3"
  },
  "language_info": {
   "codemirror_mode": {
    "name": "ipython",
    "version": 3
   },
   "file_extension": ".py",
   "mimetype": "text/x-python",
   "name": "python",
   "nbconvert_exporter": "python",
   "pygments_lexer": "ipython3",
   "version": "3.12.3"
  }
 },
 "nbformat": 4,
 "nbformat_minor": 2
}
