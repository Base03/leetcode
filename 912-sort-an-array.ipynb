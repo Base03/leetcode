{
 "cells": [
  {
   "cell_type": "code",
   "execution_count": 62,
   "metadata": {},
   "outputs": [],
   "source": [
    "from typing import List\n",
    "\n",
    "class Solution:\n",
    "\n",
    "    # Merge two sorted arrays in O(n) time and O(n) space\n",
    "    def merge(self, left: List[int], right: List[int]) -> List[int]:\n",
    "        result = []\n",
    "        i = 0\n",
    "        j = 0\n",
    "        while i < len(left) and j < len(right):\n",
    "            if left[i] < right[j]:\n",
    "                result.append(left[i])\n",
    "                i += 1\n",
    "            else:\n",
    "                result.append(right[j])\n",
    "                j += 1\n",
    "            \n",
    "        result += left[i:]\n",
    "        result += right[j:]\n",
    "        return result\n",
    "\n",
    "    def mergeSort(self, nums: List[int]) -> List[int]:\n",
    "        if len(nums) <= 1:\n",
    "            return nums\n",
    "        \n",
    "        mid = len(nums) // 2\n",
    "        left = self.mergeSort(nums[:mid])\n",
    "        right = self.mergeSort(nums[mid:])\n",
    "\n",
    "        return self.merge(left, right)\n",
    "\n",
    "    def sortArray(self, nums: List[int]) -> List[int]:\n",
    "        return self.mergeSort(nums)"
   ]
  },
  {
   "cell_type": "code",
   "execution_count": 75,
   "metadata": {},
   "outputs": [],
   "source": [
    "from typing import List\n",
    "\n",
    "class Solution:\n",
    "    \n",
    "    def merge(self, nums: List[int], left: int, mid: int, right: int, max_elem: int) -> None:\n",
    "        i = left\n",
    "        j = mid + 1\n",
    "        k = left\n",
    "\n",
    "        # encode the values using the modulus of max_elem to store\n",
    "        # both the actual values and the sorted values in the same\n",
    "        # array\n",
    "        while (i <= mid and j <= right):\n",
    "            if (nums[i] % max_elem <= nums[j] % max_elem):\n",
    "                nums[k] = nums[k] + (nums[i] % max_elem) * max_elem\n",
    "                k += 1\n",
    "                i += 1\n",
    "            else:\n",
    "                nums[k] = nums[k] + (nums[j] % max_elem) * max_elem\n",
    "                k += 1\n",
    "                j += 1\n",
    "        \n",
    "        while (i <= mid):\n",
    "            nums[k] = nums[k] + (nums[i] % max_elem) * max_elem\n",
    "            k += 1\n",
    "            i += 1\n",
    "        \n",
    "        while (j <= right):\n",
    "            nums[k] = nums[k] + (nums[j] % max_elem) * max_elem\n",
    "            k += 1\n",
    "            j += 1\n",
    "        \n",
    "        # get the actual values\n",
    "        for i in range(left, right + 1):\n",
    "            nums[i] = nums[i] // max_elem\n",
    "\n",
    "\n",
    "    def mergeSort(self, nums: List[int], left: int, right: int, max_elem: int) -> List[int]:\n",
    "        if left < right:\n",
    "            mid = (left + right) // 2\n",
    "            self.mergeSort(nums, left, mid, max_elem)\n",
    "            self.mergeSort(nums, mid + 1, right, max_elem)\n",
    "            self.merge(nums, left, mid, right, max_elem)\n",
    "\n",
    "    def sortArray(self, nums: List[int]) -> List[int]:\n",
    "        max_elem = max(nums) + 1\n",
    "        min_elem = min(nums)\n",
    "\n",
    "        for i in range(len(nums)):\n",
    "            nums[i] -= min_elem\n",
    "\n",
    "        self.mergeSort(nums, 0, len(nums) - 1, max_elem - min_elem)\n",
    "\n",
    "        for i in range(len(nums)):\n",
    "            nums[i] += min_elem\n",
    "        \n",
    "        return nums"
   ]
  },
  {
   "cell_type": "code",
   "execution_count": 76,
   "metadata": {},
   "outputs": [
    {
     "name": "stdout",
     "output_type": "stream",
     "text": [
      "result: [1, 2, 3, 5] expected: [1, 2, 3, 5]\n",
      "result: [0, 0, 1, 1, 2, 5] expected: [0, 0, 1, 1, 2, 5]\n"
     ]
    }
   ],
   "source": [
    "# test 1\n",
    "nums = [5,2,3,1]\n",
    "expected = [1,2,3,5]\n",
    "print(\"result:\", Solution().sortArray(nums), \"expected:\", expected)\n",
    "\n",
    "# test 2\n",
    "nums = [5,1,1,2,0,0]\n",
    "expected = [0,0,1,1,2,5]\n",
    "print(\"result:\", Solution().sortArray(nums), \"expected:\", expected)"
   ]
  },
  {
   "cell_type": "code",
   "execution_count": null,
   "metadata": {},
   "outputs": [],
   "source": []
  }
 ],
 "metadata": {
  "kernelspec": {
   "display_name": ".venv",
   "language": "python",
   "name": "python3"
  },
  "language_info": {
   "codemirror_mode": {
    "name": "ipython",
    "version": 3
   },
   "file_extension": ".py",
   "mimetype": "text/x-python",
   "name": "python",
   "nbconvert_exporter": "python",
   "pygments_lexer": "ipython3",
   "version": "3.12.3"
  }
 },
 "nbformat": 4,
 "nbformat_minor": 2
}
