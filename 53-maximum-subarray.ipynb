{
 "cells": [
  {
   "cell_type": "code",
   "execution_count": null,
   "id": "e84f10d7",
   "metadata": {},
   "outputs": [],
   "source": [
    "from functools import cache\n",
    "from math import inf\n",
    "from typing import List\n",
    "\n",
    "\n",
    "class Solution:\n",
    "    def maxSubArrayBF(self, nums: List[int]) -> int:\n",
    "        maxSum = 0\n",
    "        for i in range(len(nums)):\n",
    "            curSum = 0\n",
    "            for j in range(i, len(nums)):\n",
    "                curSum += nums[j]\n",
    "                maxSum = max(curSum, maxSum)\n",
    "            \n",
    "\n",
    "        return maxSum\n",
    "    \n",
    "    def maxSubArrayRecur(self, nums: List[int]) -> int:\n",
    "        @cache\n",
    "        def solve(i, start):\n",
    "            if i >= len(nums): return 0 if not start else -inf\n",
    "\n",
    "            v_continue = nums[i] + solve(i+1, False)\n",
    "            v_new = 0 if not start else solve(i+1, True)\n",
    "            return max(v_continue, v_new)\n",
    "        \n",
    "        return solve(0, True)\n",
    "\n",
    "    \n",
    "    def maxSubArray(self, nums: List[int]) -> int:\n",
    "        return self.maxSubArrayRecur(nums)"
   ]
  },
  {
   "cell_type": "code",
   "execution_count": 19,
   "id": "97e656c0",
   "metadata": {},
   "outputs": [
    {
     "name": "stdout",
     "output_type": "stream",
     "text": [
      "max: 6, expected: 6\n",
      "max: 1, expected: 1\n",
      "max: 23, expected: 23\n"
     ]
    }
   ],
   "source": [
    "# case 1:\n",
    "array = [-2,1,-3,4,-1,2,1,-5,4]\n",
    "soln = Solution()\n",
    "print(f\"max: {soln.maxSubArray(array)}, expected: 6\")\n",
    "\n",
    "# case 2: \n",
    "array = [1]\n",
    "print(f\"max: {soln.maxSubArray(array)}, expected: 1\")\n",
    "\n",
    "# case 3:\n",
    "array = [5,4,-1,7,8]\n",
    "print(f\"max: {soln.maxSubArray(array)}, expected: 23\")"
   ]
  },
  {
   "cell_type": "code",
   "execution_count": null,
   "id": "5f6dbcab",
   "metadata": {},
   "outputs": [],
   "source": []
  }
 ],
 "metadata": {
  "kernelspec": {
   "display_name": "python_dev",
   "language": "python",
   "name": "python3"
  },
  "language_info": {
   "codemirror_mode": {
    "name": "ipython",
    "version": 3
   },
   "file_extension": ".py",
   "mimetype": "text/x-python",
   "name": "python",
   "nbconvert_exporter": "python",
   "pygments_lexer": "ipython3",
   "version": "3.13.2"
  }
 },
 "nbformat": 4,
 "nbformat_minor": 5
}
