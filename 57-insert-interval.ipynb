{
 "cells": [
  {
   "cell_type": "code",
   "execution_count": 1,
   "id": "c75438c0",
   "metadata": {},
   "outputs": [],
   "source": [
    "from typing import List\n",
    "import bisect\n",
    "\n",
    "class Solution:\n",
    "    def insert(self, intervals: List[List[int]], newInterval: List[int]) -> List[List[int]]:\n",
    "        # insert newInterval into intervals efficiently, intervals is sorted at start time\n",
    "        idx = bisect.bisect_left(intervals, newInterval)\n",
    "        intervals.insert(idx, newInterval)\n",
    "\n",
    "        # merge overlapping intervals\n",
    "        result = []\n",
    "        for interval in intervals:\n",
    "            if not result or result[-1][1] < interval[0]:\n",
    "                result.append(interval)\n",
    "            else:\n",
    "                result[-1][1] = max(result[-1][1], interval[1])\n",
    "\n",
    "        return result        "
   ]
  },
  {
   "cell_type": "code",
   "execution_count": 3,
   "id": "e7e6a607",
   "metadata": {},
   "outputs": [
    {
     "name": "stdout",
     "output_type": "stream",
     "text": [
      "expected: [[1, 5], [6, 9]], result: [[1, 5], [6, 9]]\n",
      "expected: [[1, 2], [3, 10], [12, 16]], result: [[1, 2], [3, 10], [12, 16]]\n"
     ]
    }
   ],
   "source": [
    "soln = Solution()\n",
    "\n",
    "intervals = [[1,3],[6,9]]\n",
    "newInterval = [2,5]\n",
    "expected = [[1,5], [6,9]]\n",
    "print(f\"expected: {expected}, result: {soln.insert(intervals, newInterval)}\")\n",
    "\n",
    "intervals = [[1,2],[3,5],[6,7],[8,10],[12,16]]\n",
    "newInterval = [4,8]\n",
    "expected = [[1,2],[3,10],[12,16]]\n",
    "print(f\"expected: {expected}, result: {soln.insert(intervals, newInterval)}\")"
   ]
  },
  {
   "cell_type": "code",
   "execution_count": null,
   "id": "e28d0d37",
   "metadata": {},
   "outputs": [],
   "source": []
  }
 ],
 "metadata": {
  "kernelspec": {
   "display_name": "python_dev",
   "language": "python",
   "name": "python3"
  },
  "language_info": {
   "codemirror_mode": {
    "name": "ipython",
    "version": 3
   },
   "file_extension": ".py",
   "mimetype": "text/x-python",
   "name": "python",
   "nbconvert_exporter": "python",
   "pygments_lexer": "ipython3",
   "version": "3.13.2"
  }
 },
 "nbformat": 4,
 "nbformat_minor": 5
}
