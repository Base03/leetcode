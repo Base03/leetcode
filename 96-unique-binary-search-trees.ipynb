{
 "cells": [
  {
   "cell_type": "code",
   "execution_count": 13,
   "metadata": {},
   "outputs": [],
   "source": [
    "# Definition for a binary tree node.\n",
    "from typing import List, Optional\n",
    "from collections import deque\n",
    "\n",
    "\n",
    "class TreeNode:\n",
    "    def __init__(self, val=0, left=None, right=None):\n",
    "        self.val = val\n",
    "        self.left = left\n",
    "        self.right = right\n",
    "\n",
    "    def __str__(self):\n",
    "        return '{}({})({})'.format(self.val, self.left, self.right)\n",
    "    \n",
    "    def __repr__(self):\n",
    "        return self.__str__()\n",
    "\n",
    "class Solution:\n",
    "    # binary tress have a representation where everything to the left of a node is \n",
    "    # less than the node and everything to the right is greater than the node\n",
    "    def numTrees(self, n: int) -> int:\n",
    "        return self.countTreesDP(n)[n]\n",
    "    \n",
    "    def countTreesDP(self, n: int) -> List[int]:\n",
    "\n",
    "        if n == 0:\n",
    "            return 0\n",
    "        \n",
    "        num_trees = [0 for i in range(n+1)]\n",
    "        num_trees[0] = 1\n",
    "        \n",
    "        for max_num in range(1, n+1):\n",
    "            for root_num in range(1, max_num+1):\n",
    "                left_idx  = root_num - 1 # between 0 and root_num -1\n",
    "                right_idx = max_num - root_num # between 0 and max_num - root_num\n",
    "                num_left  = num_trees[left_idx]\n",
    "                num_right = num_trees[right_idx]\n",
    "                num_trees[max_num] += num_left * num_right\n",
    "\n",
    "        #print(\"num trees:\", num_trees)\n",
    "        \n",
    "        return num_trees\n",
    "    "
   ]
  },
  {
   "cell_type": "code",
   "execution_count": 12,
   "metadata": {},
   "outputs": [
    {
     "name": "stdout",
     "output_type": "stream",
     "text": [
      "num trees: [1, 1, 2, 5, 14]\n",
      "num: 14\n"
     ]
    }
   ],
   "source": [
    "# test 1\n",
    "n = 4\n",
    "print(\"num:\", Solution().numTrees(n)) # 14"
   ]
  },
  {
   "cell_type": "code",
   "execution_count": null,
   "metadata": {},
   "outputs": [],
   "source": []
  }
 ],
 "metadata": {
  "kernelspec": {
   "display_name": ".venv",
   "language": "python",
   "name": "python3"
  },
  "language_info": {
   "codemirror_mode": {
    "name": "ipython",
    "version": 3
   },
   "file_extension": ".py",
   "mimetype": "text/x-python",
   "name": "python",
   "nbconvert_exporter": "python",
   "pygments_lexer": "ipython3",
   "version": "3.12.3"
  }
 },
 "nbformat": 4,
 "nbformat_minor": 2
}
