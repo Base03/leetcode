{
 "cells": [
  {
   "cell_type": "code",
   "execution_count": 5,
   "id": "09b2d0de",
   "metadata": {},
   "outputs": [],
   "source": [
    "from functools import cache\n",
    "\n",
    "\n",
    "class Solution:\n",
    "    def uniquePaths(self, m: int, n: int) -> int:\n",
    "        \n",
    "        @cache\n",
    "        def helper(i: int, j: int) -> int:\n",
    "            if i >= m or j >= n:\n",
    "                return 0\n",
    "            if i == m-1 and j == n-1:\n",
    "                return 1\n",
    "            right = helper(i+1, j)\n",
    "            down = helper(i, j+1)\n",
    "            return right + down\n",
    "        \n",
    "        return helper(0,0)\n"
   ]
  },
  {
   "cell_type": "code",
   "execution_count": 6,
   "id": "bb6af650",
   "metadata": {},
   "outputs": [
    {
     "name": "stdout",
     "output_type": "stream",
     "text": [
      "expected: 3, result: 3\n",
      "expected: 28, result: 28\n"
     ]
    }
   ],
   "source": [
    "soln = Solution()\n",
    "m = 3\n",
    "n = 2\n",
    "expected = 3\n",
    "result = soln.uniquePaths(m,n)\n",
    "print(f\"expected: {expected}, result: {result}\")\n",
    "\n",
    "m = 3\n",
    "n = 7\n",
    "expected = 28\n",
    "result = soln.uniquePaths(m,n)\n",
    "print(f\"expected: {expected}, result: {result}\")"
   ]
  },
  {
   "cell_type": "code",
   "execution_count": null,
   "id": "9cf5aac5",
   "metadata": {},
   "outputs": [],
   "source": []
  }
 ],
 "metadata": {
  "kernelspec": {
   "display_name": "python_dev",
   "language": "python",
   "name": "python3"
  },
  "language_info": {
   "codemirror_mode": {
    "name": "ipython",
    "version": 3
   },
   "file_extension": ".py",
   "mimetype": "text/x-python",
   "name": "python",
   "nbconvert_exporter": "python",
   "pygments_lexer": "ipython3",
   "version": "3.13.2"
  }
 },
 "nbformat": 4,
 "nbformat_minor": 5
}
