{
 "cells": [
  {
   "cell_type": "code",
   "execution_count": 1,
   "id": "09b2d0de",
   "metadata": {},
   "outputs": [],
   "source": [
    "from functools import cache\n",
    "from typing import List\n",
    "\n",
    "\n",
    "class Solution:\n",
    "    def uniquePathsWithObstacles(self, obstacleGrid: List[List[int]]) -> int:\n",
    "        m = len(obstacleGrid)\n",
    "        n = len(obstacleGrid[0])\n",
    "\n",
    "        @cache\n",
    "        def helper(i: int, j: int) -> int:\n",
    "            if i >= m or j >= n or obstacleGrid[i][j] == 1:\n",
    "                return 0\n",
    "            if i == m-1 and j == n-1:\n",
    "                return 1\n",
    "            right = helper(i+1, j)\n",
    "            down = helper(i, j+1)\n",
    "            return right + down\n",
    "        \n",
    "        return helper(0,0)\n"
   ]
  },
  {
   "cell_type": "code",
   "execution_count": 3,
   "id": "bb6af650",
   "metadata": {},
   "outputs": [
    {
     "name": "stdout",
     "output_type": "stream",
     "text": [
      "expected: 2, result: 2\n",
      "expected: 1, result: 1\n"
     ]
    }
   ],
   "source": [
    "soln = Solution()\n",
    "\n",
    "obstacleGrid = [[0,0,0],[0,1,0],[0,0,0]]\n",
    "expected = 2\n",
    "result = soln.uniquePathsWithObstacles(obstacleGrid)\n",
    "print(f\"expected: {expected}, result: {result}\")\n",
    "\n",
    "obstacleGrid = [[0,1],[0,0]]\n",
    "expected = 1\n",
    "result = soln.uniquePathsWithObstacles(obstacleGrid)\n",
    "print(f\"expected: {expected}, result: {result}\")"
   ]
  },
  {
   "cell_type": "code",
   "execution_count": null,
   "id": "9cf5aac5",
   "metadata": {},
   "outputs": [],
   "source": []
  }
 ],
 "metadata": {
  "kernelspec": {
   "display_name": "python_dev",
   "language": "python",
   "name": "python3"
  },
  "language_info": {
   "codemirror_mode": {
    "name": "ipython",
    "version": 3
   },
   "file_extension": ".py",
   "mimetype": "text/x-python",
   "name": "python",
   "nbconvert_exporter": "python",
   "pygments_lexer": "ipython3",
   "version": "3.13.2"
  }
 },
 "nbformat": 4,
 "nbformat_minor": 5
}
