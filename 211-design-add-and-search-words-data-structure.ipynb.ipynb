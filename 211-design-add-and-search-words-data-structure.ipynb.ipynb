{
 "cells": [
  {
   "cell_type": "code",
   "execution_count": 7,
   "metadata": {},
   "outputs": [],
   "source": [
    "class TrieNode:\n",
    "    def __init__(self):\n",
    "        self.children = {}\n",
    "        self.isEnd = False\n",
    "\n",
    "class WordDictionary:\n",
    "\n",
    "    def __init__(self):\n",
    "        self.root = TrieNode()\n",
    "\n",
    "    def addWord(self, word: str) -> None:\n",
    "        node = self.root\n",
    "        for i in range(len(word)):\n",
    "            if word[i] not in node.children:\n",
    "                node.children[word[i]] = TrieNode()\n",
    "            node = node.children[word[i]]\n",
    "        node.isEnd = True\n",
    "\n",
    "    def search_node(self, node, word):\n",
    "        for i in range(len(word)):\n",
    "            if word[i] == '.':\n",
    "                for char in node.children.keys():\n",
    "                    if self.search_node(node.children[char], word[i+1:]):\n",
    "                        return True\n",
    "                return False\n",
    "            else:\n",
    "                if word[i] not in node.children:\n",
    "                    return False\n",
    "                node = node.children[word[i]]\n",
    "        return node.isEnd\n",
    "        \n",
    "    def search(self, word: str) -> bool:\n",
    "        return self.search_node(self.root, word)\n",
    "        \n",
    "\n",
    "\n",
    "# Your WordDictionary object will be instantiated and called as such:\n",
    "# obj = WordDictionary()\n",
    "# obj.addWord(word)\n",
    "# param_2 = obj.search(word)"
   ]
  },
  {
   "cell_type": "code",
   "execution_count": 9,
   "metadata": {},
   "outputs": [],
   "source": [
    "# not mine:\n",
    "# vvnpais's solution\n",
    "# more efficient than mine, better trie implementation without nodes \n",
    "class WordDictionary:\n",
    "\n",
    "    def __init__(self):\n",
    "        self.Trie={'end':False}\n",
    "\n",
    "    def addWord(self, word: str) -> None:\n",
    "        head=self.Trie\n",
    "        for c in word: head=head.setdefault(c,{'end':False})\n",
    "        head['end']=True\n",
    "\n",
    "    def search(self, word: str) -> bool:\n",
    "        def foo(mainhead,word):\n",
    "            head=mainhead\n",
    "            for i,c in enumerate(word):\n",
    "                if c=='.':\n",
    "                    return any(foo(head[x],word[i+1:]) for x in head if x!='end')\n",
    "                else:\n",
    "                    if c not in head: return False\n",
    "                    else: head=head[c]\n",
    "            return head['end']\n",
    "        return foo(self.Trie,word)\n",
    "\n",
    "# Your WordDictionary object will be instantiated and called as such:\n",
    "# obj = WordDictionary()\n",
    "# obj.addWord(word)\n",
    "# param_2 = obj.search(word)"
   ]
  },
  {
   "cell_type": "code",
   "execution_count": 10,
   "metadata": {},
   "outputs": [
    {
     "name": "stdout",
     "output_type": "stream",
     "text": [
      "False False\n",
      "True True\n",
      "True True\n",
      "True True\n"
     ]
    }
   ],
   "source": [
    "wordDictionary: WordDictionary = WordDictionary();\n",
    "wordDictionary.addWord(\"bad\");\n",
    "wordDictionary.addWord(\"dad\");\n",
    "wordDictionary.addWord(\"mad\");\n",
    "print(wordDictionary.search(\"pad\"), False); \n",
    "print(wordDictionary.search(\"bad\"), True); \n",
    "print(wordDictionary.search(\".ad\"), True); \n",
    "print(wordDictionary.search(\"b..\"), True);"
   ]
  },
  {
   "cell_type": "code",
   "execution_count": null,
   "metadata": {},
   "outputs": [],
   "source": []
  }
 ],
 "metadata": {
  "kernelspec": {
   "display_name": ".venv",
   "language": "python",
   "name": "python3"
  },
  "language_info": {
   "codemirror_mode": {
    "name": "ipython",
    "version": 3
   },
   "file_extension": ".py",
   "mimetype": "text/x-python",
   "name": "python",
   "nbconvert_exporter": "python",
   "pygments_lexer": "ipython3",
   "version": "3.12.3"
  }
 },
 "nbformat": 4,
 "nbformat_minor": 2
}
