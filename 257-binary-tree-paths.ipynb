{
 "cells": [
  {
   "cell_type": "code",
   "execution_count": 20,
   "id": "ec8c1ff3",
   "metadata": {},
   "outputs": [],
   "source": [
    "# Definition for a binary tree node.\n",
    "from typing import List, Optional\n",
    "\n",
    "\n",
    "class TreeNode:\n",
    "    def __init__(self, val=0, left=None, right=None):\n",
    "        self.val = val\n",
    "        self.left = left\n",
    "        self.right = right\n",
    "\n",
    "class Solution:\n",
    "    def binaryTreePaths(self, root: Optional[TreeNode]) -> List[str]:\n",
    "        root_leaf_paths = []\n",
    "\n",
    "        def dfs(node: TreeNode, path: str):\n",
    "            if not node.left and not node.right:\n",
    "                root_leaf_paths.append(path)\n",
    "            \n",
    "            if node.left:\n",
    "                dfs(node.left, path + f\"->{node.left.val}\")\n",
    "            if node.right:\n",
    "                dfs(node.right, path + f\"->{node.right.val}\")\n",
    "        \n",
    "        if not root:\n",
    "            return []\n",
    "        else:\n",
    "            dfs(root, f\"{root.val}\")\n",
    "            return root_leaf_paths"
   ]
  },
  {
   "cell_type": "code",
   "execution_count": 21,
   "id": "b2aacfd3",
   "metadata": {},
   "outputs": [
    {
     "name": "stdout",
     "output_type": "stream",
     "text": [
      "['1->2->5', '1->3']\n"
     ]
    }
   ],
   "source": [
    "soln = Solution()\n",
    "root = TreeNode(1, TreeNode(2, right=TreeNode(5)), TreeNode(3))\n",
    "print(soln.binaryTreePaths(root))"
   ]
  },
  {
   "cell_type": "code",
   "execution_count": null,
   "id": "8a3d2ce0",
   "metadata": {},
   "outputs": [],
   "source": []
  }
 ],
 "metadata": {
  "kernelspec": {
   "display_name": "python_dev",
   "language": "python",
   "name": "python3"
  },
  "language_info": {
   "codemirror_mode": {
    "name": "ipython",
    "version": 3
   },
   "file_extension": ".py",
   "mimetype": "text/x-python",
   "name": "python",
   "nbconvert_exporter": "python",
   "pygments_lexer": "ipython3",
   "version": "3.13.2"
  }
 },
 "nbformat": 4,
 "nbformat_minor": 5
}
