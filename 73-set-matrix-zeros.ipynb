{
 "cells": [
  {
   "cell_type": "code",
   "execution_count": null,
   "id": "b700eb8b",
   "metadata": {},
   "outputs": [],
   "source": [
    "from typing import List\n",
    "\n",
    "class Solution:\n",
    "    def setZeroes(self, matrix: List[List[int]]) -> None:\n",
    "        \"\"\"\n",
    "        Do not return anything, modify matrix in-place instead.\n",
    "        \"\"\"\n",
    "        m = len(matrix)\n",
    "        n = len(matrix[0])\n",
    "        column = set()\n",
    "        row = set()\n",
    "        for i in range(m):\n",
    "            for j in range(n):\n",
    "                if matrix[i][j] == 0:\n",
    "                    row.add(i)\n",
    "                    column.add(j)\n",
    "        \n",
    "        for i in row:\n",
    "            for j in range(n):\n",
    "                matrix[i][j] = 0\n",
    "        \n",
    "        for i in range(m):\n",
    "            for j in column:\n",
    "                matrix[i][j] = 0"
   ]
  }
 ],
 "metadata": {
  "language_info": {
   "name": "python"
  }
 },
 "nbformat": 4,
 "nbformat_minor": 5
}
