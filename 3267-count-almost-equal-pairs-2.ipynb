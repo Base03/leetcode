{
 "cells": [
  {
   "cell_type": "code",
   "execution_count": 3,
   "metadata": {},
   "outputs": [],
   "source": [
    "from collections import Counter\n",
    "from functools import cache\n",
    "from typing import List, Set\n",
    "\n",
    "class Solution:\n",
    "    def countPairs(self, nums: List[int]) -> int:\n",
    "        nums = [str(n) for n in nums]\n",
    "        m = max([len(s) for s in nums])\n",
    "        for i in range(len(nums)):\n",
    "            if len(nums[i])!=m:\n",
    "                nums[i] = '0'*(m-len(nums[i]))+nums[i]\n",
    "\n",
    "        @cache\n",
    "        def swap(s: str) -> Set[str]:\n",
    "            m = len(s)\n",
    "            res = set([])\n",
    "            for i in range(m):\n",
    "                for j in range(i+1,m):\n",
    "                    res.add(s[:i]+s[j]+s[i+1:j]+s[i]+s[j+1:])\n",
    "            return res\n",
    " \n",
    "        result = 0\n",
    "        freq = Counter(nums)\n",
    "        for num in set(nums):\n",
    "            # pairs with itself: (n)*(n-1)\n",
    "            result += freq[num]*(freq[num]-1) \n",
    "            # all possible single swaps\n",
    "            swap_1 = swap(num)\n",
    "\n",
    "            # all possible double swaps\n",
    "            swap_2 = set()\n",
    "            for elem in swap_1:\n",
    "                swap_2.add(elem)\n",
    "                swap_2 = swap_2.union(swap(elem))\n",
    "\n",
    "            for elem in swap_2:\n",
    "                if elem in freq and elem!=num:\n",
    "                    result += freq[elem]*freq[num]\n",
    "        return result // 2"
   ]
  },
  {
   "cell_type": "code",
   "execution_count": 4,
   "metadata": {},
   "outputs": [
    {
     "name": "stdout",
     "output_type": "stream",
     "text": [
      "result: 1 expected: 1\n",
      "\n",
      "result: 4 expected: 4\n",
      "\n",
      "result: 3 expected: 3\n",
      "\n",
      "result: 173 expected: 173\n",
      "\n"
     ]
    }
   ],
   "source": [
    "soln = Solution()\n",
    "f = soln.countPairs\n",
    "\n",
    "# test 0\n",
    "nums = [1234, 4321]\n",
    "expected = 1\n",
    "print(\"result:\", f(nums), \"expected:\", expected)\n",
    "print()\n",
    "\n",
    "# test 1\n",
    "nums = [1023,2310,2130,213]\n",
    "expected = 4\n",
    "print(\"result:\", f(nums), \"expected:\", expected)\n",
    "print()\n",
    "\n",
    "# test 2\n",
    "nums = [1,10,100]\n",
    "expected = 3\n",
    "print(\"result:\", f(nums), \"expected:\", expected)\n",
    "print()\n",
    "\n",
    "# test 3\n",
    "nums = [7440,9721,9233,65,560,3386,6383,9721,9844,3836,9217,560,6392,650,9721,9721,6833,6932,8336,6005,560,8336,650,506,4948,65,3386,3638,4539,9712,6500,650,605,506,650,3836,6005,560,1571]\n",
    "expected = 173\n",
    "print(\"result:\", f(nums), \"expected:\", expected)\n",
    "print()\n"
   ]
  },
  {
   "cell_type": "code",
   "execution_count": null,
   "metadata": {},
   "outputs": [],
   "source": []
  }
 ],
 "metadata": {
  "kernelspec": {
   "display_name": ".venv",
   "language": "python",
   "name": "python3"
  },
  "language_info": {
   "codemirror_mode": {
    "name": "ipython",
    "version": 3
   },
   "file_extension": ".py",
   "mimetype": "text/x-python",
   "name": "python",
   "nbconvert_exporter": "python",
   "pygments_lexer": "ipython3",
   "version": "3.12.3"
  }
 },
 "nbformat": 4,
 "nbformat_minor": 2
}
