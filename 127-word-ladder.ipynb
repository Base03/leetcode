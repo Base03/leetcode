{
 "cells": [
  {
   "cell_type": "code",
   "execution_count": 16,
   "metadata": {},
   "outputs": [],
   "source": [
    "from collections import deque\n",
    "from typing import List\n",
    "\n",
    "class Solution:\n",
    "    def ladderLength(self, beginWord: str, endWord: str, wordList: List[str]) -> int:\n",
    "        n = len(beginWord)\n",
    "        if endWord not in wordList:\n",
    "            return 0\n",
    "        \n",
    "        wordList.append(beginWord)\n",
    "\n",
    "        # create a hash table to store all the possible substitutions\n",
    "        # .e.g. for each possible pattern, store all the words that can\n",
    "        # be transformed to that pattern by substitution of a single character\n",
    "        # using '?' to represent the character to be substituted since it's\n",
    "        # what you would use in a regex pattern\n",
    "        subs_table = {}\n",
    "        for word in wordList:\n",
    "            for i in range(n):\n",
    "                pattern = word[:i] + '?' + word[i+1:]\n",
    "                if pattern not in subs_table:\n",
    "                    subs_table[pattern] = []\n",
    "                subs_table[pattern].append(word)\n",
    "\n",
    "        queue = deque()\n",
    "        queue.append((beginWord, 1))\n",
    "        visited = set()\n",
    "\n",
    "        min_depth = 0\n",
    "\n",
    "        while queue:\n",
    "            tup = queue.popleft()\n",
    "            # check if we have reached the end word\n",
    "            word = tup[0]\n",
    "            depth = tup[1]\n",
    "\n",
    "            # if word in visited:\n",
    "            #     continue\n",
    "            # else:\n",
    "            #     visited.add(word)\n",
    "\n",
    "            if word == endWord:\n",
    "                min_depth = depth\n",
    "                break;\n",
    "            else:\n",
    "                for i in range(n):\n",
    "                    pattern = word[:i] + '?' + word[i+1:]\n",
    "                    for next_word in subs_table[pattern]:\n",
    "                        if next_word not in visited:\n",
    "                            queue.append((next_word, depth+1))\n",
    "                            visited.add(next_word)\n",
    "        \n",
    "        return min_depth\n",
    "\n"
   ]
  },
  {
   "cell_type": "code",
   "execution_count": 18,
   "metadata": {},
   "outputs": [
    {
     "name": "stdout",
     "output_type": "stream",
     "text": [
      "result: 5 expected: 5\n",
      "result: 0 expected: 0\n"
     ]
    }
   ],
   "source": [
    "# test 1\n",
    "beginWord = \"hit\"\n",
    "endWord = \"cog\"\n",
    "wordList = [\"hot\",\"dot\",\"dog\",\"lot\",\"log\",\"cog\"]\n",
    "expected = 5\n",
    "print(\"result:\", Solution().ladderLength(beginWord, endWord, wordList), \"expected:\", expected)\n",
    "\n",
    "# test 2\n",
    "beginWord = \"hit\"\n",
    "endWord = \"cog\"\n",
    "wordList = [\"hot\",\"dot\",\"dog\",\"lot\",\"log\"]\n",
    "expected = 0\n",
    "print(\"result:\", Solution().ladderLength(beginWord, endWord, wordList), \"expected:\", expected)"
   ]
  },
  {
   "cell_type": "code",
   "execution_count": null,
   "metadata": {},
   "outputs": [],
   "source": []
  },
  {
   "cell_type": "code",
   "execution_count": null,
   "metadata": {},
   "outputs": [],
   "source": []
  }
 ],
 "metadata": {
  "kernelspec": {
   "display_name": ".venv",
   "language": "python",
   "name": "python3"
  },
  "language_info": {
   "codemirror_mode": {
    "name": "ipython",
    "version": 3
   },
   "file_extension": ".py",
   "mimetype": "text/x-python",
   "name": "python",
   "nbconvert_exporter": "python",
   "pygments_lexer": "ipython3",
   "version": "3.12.3"
  }
 },
 "nbformat": 4,
 "nbformat_minor": 2
}
