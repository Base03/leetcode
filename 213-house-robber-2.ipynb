{
 "cells": [
  {
   "cell_type": "code",
   "execution_count": 42,
   "metadata": {},
   "outputs": [],
   "source": [
    "from typing import List\n",
    "\n",
    "class Solution:\n",
    "    # recursive\n",
    "    def rob(self, nums: List[int]) -> int:\n",
    "\n",
    "        def helper(idx, start) -> int:\n",
    "            #print(f\" idx: {idx}, start: {start}, memo: {memo}\")\n",
    "            if idx >= len(nums) or (idx == len(nums) - 1 and start == 0 and start != idx):\n",
    "                return 0\n",
    "            \n",
    "            if idx in memo:\n",
    "                return memo[idx]\n",
    "            memo[idx] = max(helper(idx+1, start), helper(idx+2, start) + nums[idx])\n",
    "            return memo[idx]\n",
    "        \n",
    "        sum1, sum2 = 0, 0\n",
    "        if len(nums) >= 1:\n",
    "            memo = dict()\n",
    "            #print(\"offset 0\")\n",
    "            sum1 = helper(0, 0)\n",
    "        if len(nums) >= 2:\n",
    "            memo = dict()\n",
    "            #print(\"offset 1\")\n",
    "            sum2 = helper(1, 1)\n",
    "        return max(sum1, sum2)\n",
    "    \n",
    "    # dynamic programming\n",
    "    def dp_rob(self, nums: List[int], off) -> int:\n",
    "        n = len(nums) - 1\n",
    "        sum1, sum2 = 0, nums[off]\n",
    "        for i in range(1, n):\n",
    "            idx = i + off\n",
    "            sum1, sum2 = sum2, max(sum1 + nums[idx], sum2)\n",
    "        return max(sum1, sum2)\n",
    "    \n",
    "    def rob(self, nums: List[int]) -> int:\n",
    "        n = len(nums)\n",
    "        if n == 0:\n",
    "            return 0\n",
    "        if n == 1:\n",
    "            return nums[0]\n",
    "        \n",
    "        return max(self.dp_rob(nums, 1), self.dp_rob(nums, 0))"
   ]
  },
  {
   "cell_type": "code",
   "execution_count": 43,
   "metadata": {},
   "outputs": [
    {
     "name": "stdout",
     "output_type": "stream",
     "text": [
      "output: 3 expected: 3\n",
      "output: 4 expected: 4\n",
      "output: 3 expected: 3\n"
     ]
    }
   ],
   "source": [
    "# test 1\n",
    "nums = [2,3,2]\n",
    "expected = 3\n",
    "output = Solution().rob(nums)\n",
    "print(\"output:\", output, \"expected:\", expected)\n",
    "\n",
    "# test 2\n",
    "nums = [1,2,3,1]\n",
    "expected = 4\n",
    "output = Solution().rob(nums)\n",
    "print(\"output:\", output, \"expected:\", expected)\n",
    "\n",
    "# test 3\n",
    "nums = [1,2,3]\n",
    "expected = 3\n",
    "output = Solution().rob(nums)\n",
    "print(\"output:\", output, \"expected:\", expected)"
   ]
  },
  {
   "cell_type": "code",
   "execution_count": null,
   "metadata": {},
   "outputs": [],
   "source": []
  }
 ],
 "metadata": {
  "kernelspec": {
   "display_name": ".venv",
   "language": "python",
   "name": "python3"
  },
  "language_info": {
   "codemirror_mode": {
    "name": "ipython",
    "version": 3
   },
   "file_extension": ".py",
   "mimetype": "text/x-python",
   "name": "python",
   "nbconvert_exporter": "python",
   "pygments_lexer": "ipython3",
   "version": "3.12.3"
  }
 },
 "nbformat": 4,
 "nbformat_minor": 2
}
