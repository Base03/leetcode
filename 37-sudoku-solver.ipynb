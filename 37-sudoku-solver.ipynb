{
 "cells": [
  {
   "cell_type": "code",
   "execution_count": 12,
   "metadata": {},
   "outputs": [],
   "source": [
    "from typing import List\n",
    "\n",
    "\n",
    "class Solution:\n",
    "    count: int = 0\n",
    "\n",
    "    # under the assumption that the current board is valid, check if the current\n",
    "    # move is valid\n",
    "    def check(self, board: List[List[str]], row: int, col: int, char: str) -> bool:\n",
    "        for i in range(9):\n",
    "            if board[row][i] == char:\n",
    "                return False\n",
    "            \n",
    "            if board[i][col] == char:\n",
    "                return False\n",
    "            \n",
    "            cell_row = (row//3)*3 + i%3\n",
    "            cell_col = (col//3)*3 + i//3\n",
    "            if board[cell_row][cell_col] == char:\n",
    "                return False\n",
    "\n",
    "        return True \n",
    "    \n",
    "    # solve the sudoku board using backtracking\n",
    "    def solve(self, board: List[List[str]]) -> bool:\n",
    "        # find the next empty cell\n",
    "        row = -1\n",
    "        col = -1\n",
    "        for i in range(9):\n",
    "            for j in range(9):\n",
    "                if board[i][j] == '.':\n",
    "                    row = i\n",
    "                    col = j\n",
    "                    break\n",
    "        \n",
    "        # no empty cells, sudoku is solved if it was valid\n",
    "        if row == -1 and col == -1:\n",
    "            return True\n",
    "\n",
    "        # try all possible moves in the current cell\n",
    "        for k in range(1,10):\n",
    "            # if move is valid, return the result of solving from that\n",
    "            # board state. Otherwise reset the cell and try the next move\n",
    "            if self.check(board, row, col, str(k)):\n",
    "                board[row][col] = str(k)\n",
    "                if self.solve(board):\n",
    "                    return True\n",
    "                else:\n",
    "                    board[row][col] = '.'\n",
    "\n",
    "        # no valid moves, return False to backtrack\n",
    "        return False\n",
    "    \n",
    "    # don't return anything, modify board in-place instead\n",
    "    def solveSudoku(self, board: List[List[str]]) -> None:\n",
    "\n",
    "        self.solve(board)"
   ]
  },
  {
   "cell_type": "code",
   "execution_count": 13,
   "metadata": {},
   "outputs": [
    {
     "name": "stdout",
     "output_type": "stream",
     "text": [
      "True\n"
     ]
    }
   ],
   "source": [
    "# test 1:\n",
    "board = [[\"5\",\"3\",\".\",\".\",\"7\",\".\",\".\",\".\",\".\"],[\"6\",\".\",\".\",\"1\",\"9\",\"5\",\".\",\".\",\".\"],[\".\",\"9\",\"8\",\".\",\".\",\".\",\".\",\"6\",\".\"],[\"8\",\".\",\".\",\".\",\"6\",\".\",\".\",\".\",\"3\"],[\"4\",\".\",\".\",\"8\",\".\",\"3\",\".\",\".\",\"1\"],[\"7\",\".\",\".\",\".\",\"2\",\".\",\".\",\".\",\"6\"],[\".\",\"6\",\".\",\".\",\".\",\".\",\"2\",\"8\",\".\"],[\".\",\".\",\".\",\"4\",\"1\",\"9\",\".\",\".\",\"5\"],[\".\",\".\",\".\",\".\",\"8\",\".\",\".\",\"7\",\"9\"]]\n",
    "expected = [[\"5\",\"3\",\"4\",\"6\",\"7\",\"8\",\"9\",\"1\",\"2\"],[\"6\",\"7\",\"2\",\"1\",\"9\",\"5\",\"3\",\"4\",\"8\"],[\"1\",\"9\",\"8\",\"3\",\"4\",\"2\",\"5\",\"6\",\"7\"],[\"8\",\"5\",\"9\",\"7\",\"6\",\"1\",\"4\",\"2\",\"3\"],[\"4\",\"2\",\"6\",\"8\",\"5\",\"3\",\"7\",\"9\",\"1\"],[\"7\",\"1\",\"3\",\"9\",\"2\",\"4\",\"8\",\"5\",\"6\"],[\"9\",\"6\",\"1\",\"5\",\"3\",\"7\",\"2\",\"8\",\"4\"],[\"2\",\"8\",\"7\",\"4\",\"1\",\"9\",\"6\",\"3\",\"5\"],[\"3\",\"4\",\"5\",\"2\",\"8\",\"6\",\"1\",\"7\",\"9\"]]\n",
    "soln = Solution().solveSudoku(board)\n",
    "print(board == expected)"
   ]
  },
  {
   "cell_type": "code",
   "execution_count": null,
   "metadata": {},
   "outputs": [],
   "source": []
  }
 ],
 "metadata": {
  "kernelspec": {
   "display_name": ".venv",
   "language": "python",
   "name": "python3"
  },
  "language_info": {
   "codemirror_mode": {
    "name": "ipython",
    "version": 3
   },
   "file_extension": ".py",
   "mimetype": "text/x-python",
   "name": "python",
   "nbconvert_exporter": "python",
   "pygments_lexer": "ipython3",
   "version": "3.12.3"
  }
 },
 "nbformat": 4,
 "nbformat_minor": 2
}
