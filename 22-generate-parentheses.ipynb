{
 "cells": [
  {
   "cell_type": "code",
   "execution_count": 15,
   "metadata": {},
   "outputs": [],
   "source": [
    "from typing import List\n",
    "\n",
    "class Solution:\n",
    "    def generateParenthesis_set(self, n_max: int) -> List[str]:\n",
    "        def expand(paren: str):\n",
    "            temp = []\n",
    "            for i in range(len(paren)):\n",
    "                temp.append(paren[:i] + \"()\" + paren[i:])\n",
    "            \n",
    "            return temp\n",
    "\n",
    "        output = [\"()\"]\n",
    "        for i in range(1, n_max):\n",
    "            next = []\n",
    "            for string in output:\n",
    "                next += expand(string)\n",
    "            output = list(set(next))\n",
    "        \n",
    "        return output\n",
    "    \n",
    "    def generateParenthesis(self, n: int) -> List[str]:\n",
    "        output = []\n",
    "\n",
    "        def backtrack(s, l, r):\n",
    "            if l == r and r == n:\n",
    "                output.append(s)\n",
    "                return\n",
    "            \n",
    "            if l < n:\n",
    "                backtrack(s + \"(\", l+1, r)\n",
    "            \n",
    "            if r < l:\n",
    "                backtrack(s + \")\", l, r+1)\n",
    "\n",
    "        backtrack(\"\", 0, 0)\n",
    "        return output\n"
   ]
  },
  {
   "cell_type": "code",
   "execution_count": 17,
   "metadata": {},
   "outputs": [
    {
     "name": "stdout",
     "output_type": "stream",
     "text": [
      "['((()))', '(()())', '(())()', '()(())', '()()()']\n"
     ]
    }
   ],
   "source": [
    "print(Solution().generateParenthesis(3))"
   ]
  },
  {
   "cell_type": "code",
   "execution_count": null,
   "metadata": {},
   "outputs": [],
   "source": []
  }
 ],
 "metadata": {
  "kernelspec": {
   "display_name": ".venv",
   "language": "python",
   "name": "python3"
  },
  "language_info": {
   "codemirror_mode": {
    "name": "ipython",
    "version": 3
   },
   "file_extension": ".py",
   "mimetype": "text/x-python",
   "name": "python",
   "nbconvert_exporter": "python",
   "pygments_lexer": "ipython3",
   "version": "3.12.3"
  }
 },
 "nbformat": 4,
 "nbformat_minor": 2
}
