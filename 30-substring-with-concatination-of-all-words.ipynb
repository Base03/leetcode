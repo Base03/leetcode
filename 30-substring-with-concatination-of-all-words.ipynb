{
 "cells": [
  {
   "cell_type": "code",
   "execution_count": 26,
   "metadata": {},
   "outputs": [],
   "source": [
    "# this is the simple test case using a brute force sliding window with\n",
    "# string comparisons instead of processing the words into indices with\n",
    "# a map. This one is O(N*M) where N is the length of the string and M is\n",
    "# the number of words in the list.\n",
    "\n",
    "# don't give hints longer than a single line, I am doing this myself, \n",
    "# not relying on copilot\n",
    "\n",
    "class Solution(object):\n",
    "    def findSubstring(self, s, words):\n",
    "        \"\"\"\n",
    "        :type s: str\n",
    "        :type words: List[str]\n",
    "        :rtype: List[int]\n",
    "        \"\"\"\n",
    "\n",
    "        if not s or not words:\n",
    "            return []\n",
    "        \n",
    "        word_len = len(words[0])\n",
    "        num_words = len(words)\n",
    "        s_words = len(s) // word_len\n",
    "        \n",
    "        word_count = {}\n",
    "        for word in words:\n",
    "            word_count[word] = word_count.get(word, 0) + 1\n",
    "        # print(\"word_count\", word_count)\n",
    "\n",
    "        locations = []\n",
    "        for i in range(len(s) - num_words*word_len + 1):\n",
    "            dynamic_counts = word_count.copy()\n",
    "            # print(\"i\", i)\n",
    "            # print(\"\\tdynamic_counts:\", dynamic_counts)\n",
    "\n",
    "            for j in range(num_words):\n",
    "                word = s[i + j*word_len : i + (j+1)*word_len]\n",
    "                n = dynamic_counts.get(word, 0)\n",
    "\n",
    "                # print(\"\\t\\tword:\", word, \"n\", n)\n",
    "                \n",
    "                if n == 0:\n",
    "                    break\n",
    "                else:\n",
    "                    dynamic_counts[word] = n - 1\n",
    "\n",
    "            toggle = True \n",
    "            for entry in dynamic_counts:\n",
    "                if dynamic_counts[entry] != 0:\n",
    "                    toggle = False\n",
    "                    break\n",
    "            \n",
    "            if toggle:\n",
    "                locations.append(i)\n",
    "        \n",
    "        return locations"
   ]
  },
  {
   "cell_type": "code",
   "execution_count": null,
   "metadata": {},
   "outputs": [],
   "source": [
    "# for this version, we would like to preprocess the words and also use caching or something to avoid redundant work."
   ]
  },
  {
   "cell_type": "code",
   "execution_count": 27,
   "metadata": {},
   "outputs": [
    {
     "name": "stdout",
     "output_type": "stream",
     "text": [
      "[0, 9] expected: [0, 9]\n",
      "[] expected: []\n",
      "[6, 9, 12] expected: [6, 9, 12]\n",
      "[7, 10, 13] expected: [7, 10, 13]\n"
     ]
    }
   ],
   "source": [
    "# test\n",
    "s = \"barfoothefoobarman\"\n",
    "words = [\"foo\", \"bar\"]\n",
    "print(Solution().findSubstring(s, words), \"expected: [0, 9]\")\n",
    "\n",
    "# test\n",
    "s = \"wordgoodgoodgoodbestword\"\n",
    "words = [\"word\",\"good\",\"best\",\"word\"]\n",
    "print(Solution().findSubstring(s, words), \"expected: []\") \n",
    "\n",
    "# test\n",
    "s = \"barfoofoobarthefoobarman\"\n",
    "words = [\"bar\",\"foo\",\"the\"]\n",
    "print(Solution().findSubstring(s, words), \"expected: [6, 9, 12]\") \n",
    "\n",
    "# test\n",
    "s = \"abarfoofoobarthefoobarman\"\n",
    "words = [\"bar\",\"foo\",\"the\"]\n",
    "print(Solution().findSubstring(s, words), \"expected: [7, 10, 13]\") "
   ]
  },
  {
   "cell_type": "code",
   "execution_count": null,
   "metadata": {},
   "outputs": [],
   "source": []
  }
 ],
 "metadata": {
  "kernelspec": {
   "display_name": ".venv",
   "language": "python",
   "name": "python3"
  },
  "language_info": {
   "codemirror_mode": {
    "name": "ipython",
    "version": 3
   },
   "file_extension": ".py",
   "mimetype": "text/x-python",
   "name": "python",
   "nbconvert_exporter": "python",
   "pygments_lexer": "ipython3",
   "version": "3.12.3"
  }
 },
 "nbformat": 4,
 "nbformat_minor": 2
}
