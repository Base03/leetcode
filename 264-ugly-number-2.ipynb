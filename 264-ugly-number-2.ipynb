{
 "cells": [
  {
   "cell_type": "code",
   "execution_count": 13,
   "metadata": {},
   "outputs": [],
   "source": [
    "from typing import List\n",
    "from sortedcontainers import SortedList\n",
    "#from collections import deque\n",
    "\n",
    "class Solution:\n",
    "    def nthUglyNumberStack(self, n: int) -> int:\n",
    "        stack = SortedList([1])\n",
    "        ugly_numbers = set()\n",
    "\n",
    "        while len(ugly_numbers) < n:\n",
    "            num = stack[0]\n",
    "            stack.remove(num)\n",
    "\n",
    "            ugly_numbers.add(num)\n",
    "            # should be removing duplicates\n",
    "            stack.add(num * 2)\n",
    "            stack.add(num * 3)\n",
    "            stack.add(num * 5)\n",
    "        \n",
    "        # print(sorted(ugly_numbers))\n",
    "        return sorted(ugly_numbers)[n - 1]\n",
    "    \n",
    "    def nthUglyNumber(self, n:int) -> int:\n",
    "        ugly_numbers = [1]\n",
    "        # values\n",
    "        n2 = 2\n",
    "        n3 = 3\n",
    "        n5 = 5\n",
    "        # pointers\n",
    "        in2 = 0\n",
    "        in3 = 0\n",
    "        in5 = 0\n",
    "\n",
    "        for i in range(1,n):\n",
    "            next = min(n2, n3, n5)\n",
    "            ugly_numbers.append(next)\n",
    "\n",
    "            # the list is sorted smallest to largest, so each multiplier \n",
    "            # just maintains an independent pointer to the next value to multiply\n",
    "            if next == n2:\n",
    "                in2 += 1\n",
    "                n2 = ugly_numbers[in2] * 2\n",
    "            if next == n3:\n",
    "                in3 += 1\n",
    "                n3 = ugly_numbers[in3] * 3\n",
    "            if next == n5:\n",
    "                in5 += 1\n",
    "                n5 = ugly_numbers[in5] * 5\n",
    "        \n",
    "        return ugly_numbers[-1]\n",
    "        "
   ]
  },
  {
   "cell_type": "code",
   "execution_count": 14,
   "metadata": {},
   "outputs": [
    {
     "name": "stdout",
     "output_type": "stream",
     "text": [
      "n: 10 result: 12 expected: 12\n",
      "n: 1 result: 1 expected: 1\n",
      "n: 2000 result: 8062156800 expected: 1\n"
     ]
    }
   ],
   "source": [
    "# test 1\n",
    "n = 10\n",
    "print(\"n:\", n, \"result:\", Solution().nthUglyNumber(n), \"expected:\", 12)\n",
    "\n",
    "# test 2\n",
    "n = 1\n",
    "print(\"n:\", n, \"result:\", Solution().nthUglyNumber(n), \"expected:\", 1)\n",
    "\n",
    "# test 3\n",
    "n = 2000\n",
    "print(\"n:\", n, \"result:\", Solution().nthUglyNumber(n), \"expected:\", 1)"
   ]
  },
  {
   "cell_type": "code",
   "execution_count": null,
   "metadata": {},
   "outputs": [],
   "source": []
  }
 ],
 "metadata": {
  "kernelspec": {
   "display_name": ".venv",
   "language": "python",
   "name": "python3"
  },
  "language_info": {
   "codemirror_mode": {
    "name": "ipython",
    "version": 3
   },
   "file_extension": ".py",
   "mimetype": "text/x-python",
   "name": "python",
   "nbconvert_exporter": "python",
   "pygments_lexer": "ipython3",
   "version": "3.12.3"
  }
 },
 "nbformat": 4,
 "nbformat_minor": 2
}
