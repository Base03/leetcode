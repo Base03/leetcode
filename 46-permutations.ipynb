{
 "cells": [
  {
   "cell_type": "code",
   "execution_count": null,
   "id": "aba73970",
   "metadata": {},
   "outputs": [],
   "source": [
    "from typing import List\n",
    "\n",
    "class Solution:\n",
    "    def permute_a(self, nums: List[int]) -> List[List[int]]:\n",
    "\n",
    "        if len(nums) == 1:\n",
    "            return[nums[:]]\n",
    "        \n",
    "        result = []\n",
    "\n",
    "        for i in range(len(nums)):\n",
    "            n = nums.pop(0)\n",
    "            perms = self.permute(nums)\n",
    "\n",
    "            for p in perms:\n",
    "                p.append(n)\n",
    "\n",
    "            result.extend(perms)\n",
    "            nums.append(n)\n",
    "        \n",
    "        return result\n",
    "    \n",
    "    def permute(self, nums:List[int]) -> List[List[int]]:\n",
    "\n",
    "        def helper(n: int, result: List[List[int]]):\n",
    "            if len(result) == 0:\n",
    "                return [[n]]\n",
    "            \n",
    "            working = []\n",
    "            for seq in result:\n",
    "                for i in range(len(seq)):\n",
    "                    new_seq = seq[:i] + [n] + seq[i:]\n",
    "                    working.append(new_seq)\n",
    "                working.append(seq + [n])\n",
    "            return working\n",
    "        \n",
    "        if len(nums) == 0:\n",
    "            return [[]]\n",
    "        \n",
    "        result = []\n",
    "        for n in nums:\n",
    "            result = helper(n, result)\n",
    "        \n",
    "        return result\n",
    "    \n",
    "    \n",
    "\n",
    "        \n",
    "\n",
    "        "
   ]
  },
  {
   "cell_type": "code",
   "execution_count": 6,
   "id": "1b750ee7",
   "metadata": {},
   "outputs": [
    {
     "name": "stdout",
     "output_type": "stream",
     "text": [
      "[[3, 2, 1], [2, 3, 1], [1, 3, 2], [3, 1, 2], [2, 1, 3], [1, 2, 3]]\n",
      "[[3, 2, 1], [2, 3, 1], [2, 1, 3], [3, 1, 2], [1, 3, 2], [1, 2, 3]]\n"
     ]
    }
   ],
   "source": [
    "nums = [1,2,3]\n",
    "sol = Solution()\n",
    "print(sol.permute_a(nums))\n",
    "print(sol.permute(nums))"
   ]
  },
  {
   "cell_type": "code",
   "execution_count": null,
   "id": "da6618e5",
   "metadata": {},
   "outputs": [],
   "source": []
  }
 ],
 "metadata": {
  "kernelspec": {
   "display_name": ".venv",
   "language": "python",
   "name": "python3"
  },
  "language_info": {
   "codemirror_mode": {
    "name": "ipython",
    "version": 3
   },
   "file_extension": ".py",
   "mimetype": "text/x-python",
   "name": "python",
   "nbconvert_exporter": "python",
   "pygments_lexer": "ipython3",
   "version": "3.12.3"
  }
 },
 "nbformat": 4,
 "nbformat_minor": 5
}
