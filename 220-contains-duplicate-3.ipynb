{
 "cells": [
  {
   "cell_type": "code",
   "execution_count": 5,
   "metadata": {},
   "outputs": [],
   "source": [
    "from typing import List\n",
    "from sortedcontainers import SortedList\n",
    "\n",
    "class Solution:\n",
    "    def containsNearbyAlmostDuplicate(self, nums: List[int], indexDiff: int, valueDiff: int) -> bool:\n",
    "        sorted_list = SortedList()\n",
    "\n",
    "        for i in range(len(nums)):\n",
    "            idx = sorted_list.bisect_left(nums[i])\n",
    "\n",
    "            # is there an element to the left within valueDiff?\n",
    "            if idx > 0 and nums[i] - sorted_list[idx-1] <= valueDiff:\n",
    "                return True\n",
    "            # is there an element to the right within valueDiff?\n",
    "            if idx < len(sorted_list) and sorted_list[idx] - nums[i] <= valueDiff:\n",
    "                return True\n",
    "\n",
    "            sorted_list.add(nums[i])\n",
    "\n",
    "            #delete the leftmost element from the sliding window if len(sorted_list) > indexDiff\n",
    "            if len(sorted_list) > indexDiff:\n",
    "                sorted_list.remove(nums[i-indexDiff])\n",
    "\n",
    "        return False"
   ]
  },
  {
   "cell_type": "code",
   "execution_count": 6,
   "metadata": {},
   "outputs": [
    {
     "name": "stdout",
     "output_type": "stream",
     "text": [
      "output:  True expected:  True\n",
      "output:  False expected:  False\n"
     ]
    }
   ],
   "source": [
    "# test 1\n",
    "nums = [1,2,3,1]\n",
    "indexDiff = 3\n",
    "valueDiff = 0\n",
    "output = Solution().containsNearbyAlmostDuplicate(nums, indexDiff, valueDiff)\n",
    "expected = True\n",
    "print(\"output: \", output, \"expected: \", expected)\n",
    "\n",
    "# test 2\n",
    "nums = [1,5,9,1,5,9]\n",
    "indexDiff = 2\n",
    "valueDiff = 3\n",
    "output = Solution().containsNearbyAlmostDuplicate(nums, indexDiff, valueDiff)\n",
    "expected = False\n",
    "print(\"output: \", output, \"expected: \", expected)"
   ]
  },
  {
   "cell_type": "code",
   "execution_count": null,
   "metadata": {},
   "outputs": [],
   "source": []
  }
 ],
 "metadata": {
  "kernelspec": {
   "display_name": ".venv",
   "language": "python",
   "name": "python3"
  },
  "language_info": {
   "codemirror_mode": {
    "name": "ipython",
    "version": 3
   },
   "file_extension": ".py",
   "mimetype": "text/x-python",
   "name": "python",
   "nbconvert_exporter": "python",
   "pygments_lexer": "ipython3",
   "version": "3.12.3"
  }
 },
 "nbformat": 4,
 "nbformat_minor": 2
}
