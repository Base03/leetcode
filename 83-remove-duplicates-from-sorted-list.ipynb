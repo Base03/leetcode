{
 "cells": [
  {
   "cell_type": "code",
   "execution_count": 11,
   "metadata": {},
   "outputs": [],
   "source": [
    "# Definition for singly-linked list.\n",
    "from typing import Optional\n",
    "\n",
    "class ListNode:\n",
    "    def __init__(self, val=0, next=None):\n",
    "        self.val = val\n",
    "        self.next = next\n",
    "\n",
    "    def __str__(self) -> str:\n",
    "        return f'{self.val} -> {self.next}'\n",
    "\n",
    "class Solution:\n",
    "    def deleteDuplicates(self, head: Optional[ListNode]) -> Optional[ListNode]:\n",
    "        if not head:\n",
    "            return None\n",
    "\n",
    "        node = head\n",
    "        while node.next:\n",
    "            if node.val == node.next.val:\n",
    "                node.next = node.next.next\n",
    "            else:\n",
    "                node = node.next\n",
    "        return head"
   ]
  },
  {
   "cell_type": "code",
   "execution_count": 15,
   "metadata": {},
   "outputs": [
    {
     "name": "stdout",
     "output_type": "stream",
     "text": [
      "1 -> 1 -> 2 -> None\n",
      "1 -> 2 -> None\n",
      "\n",
      "1 -> None\n",
      "1 -> None\n",
      "\n",
      "None\n",
      "None\n",
      "\n",
      "1 -> 1 -> 2 -> 3 -> 3 -> None\n",
      "1 -> 2 -> 3 -> None\n",
      "\n"
     ]
    }
   ],
   "source": [
    "# test 1\n",
    "head = ListNode(1)\n",
    "head.next = ListNode(1)\n",
    "head.next.next = ListNode(2)\n",
    "print(head)\n",
    "print(Solution().deleteDuplicates(head))\n",
    "print()\n",
    "\n",
    "# test 2\n",
    "head = ListNode(1)\n",
    "print(head)\n",
    "print(Solution().deleteDuplicates(head))\n",
    "print()\n",
    "\n",
    "head = None\n",
    "print(head)\n",
    "print(Solution().deleteDuplicates(head))\n",
    "print()\n",
    "\n",
    "head = ListNode(1)\n",
    "head.next = ListNode(1)\n",
    "head.next.next = ListNode(2)\n",
    "head.next.next.next = ListNode(3)\n",
    "head.next.next.next.next = ListNode(3)\n",
    "print(head)\n",
    "print(Solution().deleteDuplicates(head))\n",
    "print()"
   ]
  },
  {
   "cell_type": "code",
   "execution_count": null,
   "metadata": {},
   "outputs": [],
   "source": []
  }
 ],
 "metadata": {
  "kernelspec": {
   "display_name": ".venv",
   "language": "python",
   "name": "python3"
  },
  "language_info": {
   "codemirror_mode": {
    "name": "ipython",
    "version": 3
   },
   "file_extension": ".py",
   "mimetype": "text/x-python",
   "name": "python",
   "nbconvert_exporter": "python",
   "pygments_lexer": "ipython3",
   "version": "3.12.3"
  }
 },
 "nbformat": 4,
 "nbformat_minor": 2
}
