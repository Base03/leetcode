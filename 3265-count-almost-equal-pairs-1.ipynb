{
 "cells": [
  {
   "cell_type": "code",
   "execution_count": 1,
   "metadata": {},
   "outputs": [],
   "source": [
    "from typing import List\n",
    "\n",
    "class Solution:\n",
    "    def almostEqual(self, a: int, b: int) -> bool:\n",
    "        a = str(a)\n",
    "        b = str(b)\n",
    "        if a == b:\n",
    "            return True\n",
    "        \n",
    "        for i in range(len(a)):\n",
    "            for j in range(i+1, len(a)):\n",
    "                a_mod = a[:i] + a[j] + a[i+1:j] + a[i] + a[j+1:]\n",
    "                #print(a_mod, b)\n",
    "                if int(a_mod) == int(b):\n",
    "                    return True\n",
    "        \n",
    "        for i in range(len(b)):\n",
    "            for j in range(i+1, len(b)):\n",
    "                b_mod = b[:i] + b[j] + b[i+1:j] + b[i] + b[j+1:]\n",
    "                if int(b_mod) == int(a):\n",
    "                    return True\n",
    "        \n",
    "        return False\n",
    "                \n",
    "\n",
    "    def countPairs(self, nums: List[int]) -> int:\n",
    "        result = 0\n",
    "        for i in range(len(nums)):\n",
    "            for j in range(i+1, len(nums)):\n",
    "                if self.almostEqual(nums[i], nums[j]):\n",
    "                    result += 1\n",
    "                \n",
    "        return result"
   ]
  },
  {
   "cell_type": "code",
   "execution_count": null,
   "metadata": {},
   "outputs": [],
   "source": []
  }
 ],
 "metadata": {
  "kernelspec": {
   "display_name": ".venv",
   "language": "python",
   "name": "python3"
  },
  "language_info": {
   "codemirror_mode": {
    "name": "ipython",
    "version": 3
   },
   "file_extension": ".py",
   "mimetype": "text/x-python",
   "name": "python",
   "nbconvert_exporter": "python",
   "pygments_lexer": "ipython3",
   "version": "3.12.3"
  }
 },
 "nbformat": 4,
 "nbformat_minor": 2
}
