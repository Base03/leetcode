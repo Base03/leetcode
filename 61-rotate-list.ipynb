{
 "cells": [
  {
   "cell_type": "code",
   "execution_count": null,
   "id": "f73f2509",
   "metadata": {},
   "outputs": [],
   "source": [
    "# Definition for singly-linked list.\n",
    "from typing import Optional\n",
    "\n",
    "\n",
    "class ListNode:\n",
    "    def __init__(self, val=0, next=None):\n",
    "        self.val = val\n",
    "        self.next = next\n",
    "        \n",
    "class Solution:\n",
    "    def rotateRight(self, head: Optional[ListNode], k: int) -> Optional[ListNode]:\n",
    "\n",
    "        if not head:\n",
    "            return head\n",
    "        \n",
    "        n = 1\n",
    "        end_node = head\n",
    "        while end_node.next:\n",
    "            n +=1\n",
    "            end_node = end_node.next\n",
    "\n",
    "        k = k % n\n",
    "        if k == 0:\n",
    "            return head\n",
    "\n",
    "        node = head\n",
    "        for i in range(n-k-1):\n",
    "            node = node.next\n",
    "        \n",
    "        new_head = node.next\n",
    "        node.next = None\n",
    "        end_node.next = head\n",
    "        \n",
    "        return new_head\n",
    "\n",
    "\n",
    "        "
   ]
  },
  {
   "cell_type": "code",
   "execution_count": null,
   "id": "337eb6c7",
   "metadata": {},
   "outputs": [],
   "source": []
  }
 ],
 "metadata": {
  "kernelspec": {
   "display_name": "python_dev",
   "language": "python",
   "name": "python3"
  },
  "language_info": {
   "codemirror_mode": {
    "name": "ipython",
    "version": 3
   },
   "file_extension": ".py",
   "mimetype": "text/x-python",
   "name": "python",
   "nbconvert_exporter": "python",
   "pygments_lexer": "ipython3",
   "version": "3.13.2"
  }
 },
 "nbformat": 4,
 "nbformat_minor": 5
}
