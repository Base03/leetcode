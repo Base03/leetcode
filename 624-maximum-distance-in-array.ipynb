{
 "cells": [
  {
   "cell_type": "code",
   "execution_count": 7,
   "metadata": {},
   "outputs": [],
   "source": [
    "from typing import List\n",
    "\n",
    "class Solution:\n",
    "    def maxDistance(self, arrays: List[List[int]]) -> int:\n",
    "        dist = float('-inf')\n",
    "        for i in range(len(arrays)):\n",
    "            for j in range(len(arrays)):\n",
    "                if i != j:\n",
    "                    dist = max(abs(arrays[i][0] - arrays[j][-1]), dist)\n",
    "\n",
    "        return dist\n",
    "    \n",
    "    def maxDistance(self, arrays: List[List[int]]) -> int:\n",
    "        min_val = arrays[0][0]\n",
    "        max_val = arrays[0][-1]\n",
    "        dist = float('-inf')\n",
    "        for i in range(1, len(arrays)):\n",
    "            dist1 = abs(arrays[i][-1] - min_val)\n",
    "            dist2 = abs(max_val - arrays[i][0])\n",
    "            dist = max(dist, dist1, dist2)\n",
    "            min_val = min(min_val, arrays[i][0])\n",
    "            max_val = max(max_val, arrays[i][-1])\n",
    "        return dist\n"
   ]
  },
  {
   "cell_type": "code",
   "execution_count": 8,
   "metadata": {},
   "outputs": [
    {
     "name": "stdout",
     "output_type": "stream",
     "text": [
      "maxDistance: 4 expected: 4\n",
      "maxDistance: 0 expected: 0\n",
      "maxDistance: 4 expected: 4\n"
     ]
    }
   ],
   "source": [
    "# test 1\n",
    "arrays = [[1,2,3],[4,5],[1,2,3]]\n",
    "expected = 4\n",
    "print(\"maxDistance:\",Solution().maxDistance(arrays), \"expected:\", expected)\n",
    "\n",
    "# test 2\n",
    "arrays = [[1],[1]]\n",
    "expected = 0\n",
    "print(\"maxDistance:\",Solution().maxDistance(arrays), \"expected:\", expected)\n",
    "\n",
    "# test 3\n",
    "arrays = [[1,4],[0,5]]\n",
    "expected = 4\n",
    "print(\"maxDistance:\",Solution().maxDistance(arrays), \"expected:\", expected)"
   ]
  },
  {
   "cell_type": "code",
   "execution_count": null,
   "metadata": {},
   "outputs": [],
   "source": []
  }
 ],
 "metadata": {
  "kernelspec": {
   "display_name": ".venv",
   "language": "python",
   "name": "python3"
  },
  "language_info": {
   "codemirror_mode": {
    "name": "ipython",
    "version": 3
   },
   "file_extension": ".py",
   "mimetype": "text/x-python",
   "name": "python",
   "nbconvert_exporter": "python",
   "pygments_lexer": "ipython3",
   "version": "3.12.3"
  }
 },
 "nbformat": 4,
 "nbformat_minor": 2
}
