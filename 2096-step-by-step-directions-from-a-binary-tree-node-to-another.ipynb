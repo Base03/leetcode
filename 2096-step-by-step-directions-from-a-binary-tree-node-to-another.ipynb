{
 "cells": [
  {
   "cell_type": "code",
   "execution_count": 15,
   "id": "7200246d",
   "metadata": {},
   "outputs": [],
   "source": [
    "from typing import Optional\n",
    "from typing import List\n",
    "\n",
    "class TreeNode:\n",
    "    def __init__(self, x, left=None, right=None):\n",
    "        self.val = x\n",
    "        self.left = left\n",
    "        self.right = right\n",
    "\n",
    "class Solution:\n",
    "    def getDirections(self, root: Optional[TreeNode], startValue: int, destValue: int) -> str:\n",
    "        def lowestCommonAncestor(root: Optional[TreeNode], p: int, q: int) -> TreeNode:\n",
    "\n",
    "            if root is None:\n",
    "                return None\n",
    "            \n",
    "            if root.val == p or root.val == q:\n",
    "                return root\n",
    "            \n",
    "            left = lowestCommonAncestor(root.left, p, q)\n",
    "            right = lowestCommonAncestor(root.right, p, q)\n",
    "\n",
    "            if left and right:\n",
    "                return root\n",
    "            elif left:\n",
    "                return left\n",
    "            elif right:\n",
    "                return right\n",
    "            else:\n",
    "                return None\n",
    "        \n",
    "        inflection = lowestCommonAncestor(root, startValue, destValue)\n",
    "\n",
    "        def findPath(root: Optional[TreeNode], target: int, path: List[str]) -> bool:\n",
    "            if root is None:\n",
    "                return False\n",
    "            \n",
    "            if root.val == target:\n",
    "                return True\n",
    "            \n",
    "            path.append('L')\n",
    "            if findPath(root.left, target, path):\n",
    "                return True\n",
    "            path.pop()\n",
    "\n",
    "            path.append('R')\n",
    "            if findPath(root.right, target, path):\n",
    "                return True\n",
    "            path.pop()\n",
    "\n",
    "            return False\n",
    "        \n",
    "        start_path = []\n",
    "        findPath(inflection, startValue, start_path)\n",
    "        start_path = ['U'] * len(start_path)\n",
    "        dest_path = []\n",
    "        findPath(inflection, destValue, dest_path)\n",
    "        return ''.join(start_path + dest_path)"
   ]
  },
  {
   "cell_type": "code",
   "execution_count": 16,
   "id": "eaa913b8",
   "metadata": {},
   "outputs": [
    {
     "data": {
      "text/plain": [
       "'UURL'"
      ]
     },
     "execution_count": 16,
     "metadata": {},
     "output_type": "execute_result"
    }
   ],
   "source": [
    "soln = Solution()\n",
    "root = TreeNode(5, TreeNode(1, TreeNode(3)), TreeNode(2, TreeNode(6), TreeNode(4)))\n",
    "soln.getDirections(root, 3, 6)"
   ]
  },
  {
   "cell_type": "code",
   "execution_count": null,
   "id": "25587688",
   "metadata": {},
   "outputs": [],
   "source": []
  }
 ],
 "metadata": {
  "kernelspec": {
   "display_name": "python_dev",
   "language": "python",
   "name": "python3"
  },
  "language_info": {
   "codemirror_mode": {
    "name": "ipython",
    "version": 3
   },
   "file_extension": ".py",
   "mimetype": "text/x-python",
   "name": "python",
   "nbconvert_exporter": "python",
   "pygments_lexer": "ipython3",
   "version": "3.13.2"
  }
 },
 "nbformat": 4,
 "nbformat_minor": 5
}
