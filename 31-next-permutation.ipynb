{
 "cells": [
  {
   "cell_type": "code",
   "execution_count": 13,
   "metadata": {},
   "outputs": [],
   "source": [
    "from typing import List\n",
    "\n",
    "\n",
    "class Solution:\n",
    "    def nextPermutation(self, nums: List[int]) -> None:\n",
    "        \"\"\"\n",
    "        Do not return anything, modify nums in-place instead.\n",
    "\n",
    "        ok, first thing we want to do is find the first element from the right that \n",
    "        is smaller than the element to it's right. If there isn't one, just sort the \n",
    "        list. \n",
    "        \n",
    "        Otherwise, find the smallest element to the right larger than nums[i] and swap it\n",
    "        with nums[i]. Then, we can just sort the right tail of the list.\n",
    "        \"\"\"\n",
    "\n",
    "        i = len(nums) - 2\n",
    "        while i >= 0 and nums[i] >= nums[i+1]:\n",
    "            i -= 1\n",
    "        \n",
    "        if i < 0:\n",
    "            nums.sort()\n",
    "            return\n",
    "\n",
    "        j = len(nums) - 1\n",
    "        while j > i and nums[j] <= nums[i]:\n",
    "            j -= 1\n",
    "        \n",
    "        nums[i], nums[j] = nums[j], nums[i]\n",
    "        nums[i+1:] = sorted(nums[i+1:])"
   ]
  },
  {
   "cell_type": "code",
   "execution_count": 14,
   "metadata": {},
   "outputs": [
    {
     "name": "stdout",
     "output_type": "stream",
     "text": [
      "result: [1, 3, 2], expected: [1, 3, 2]\n",
      "result: [2, 3, 4, 1], expected: [2, 3, 4, 1]\n",
      "result: [1, 2, 3], expected: [1, 2, 3]\n",
      "result: [1, 5, 1], expected: [1, 5, 1]\n",
      "result: [2, 1, 3], expected: [2, 1, 3]\n"
     ]
    }
   ],
   "source": [
    "nums = [1, 2, 3]\n",
    "Solution().nextPermutation(nums)\n",
    "print(f\"result: {nums}, expected: [1, 3, 2]\")\n",
    "\n",
    "nums = [2, 3, 1, 4]\n",
    "Solution().nextPermutation(nums)\n",
    "print(f\"result: {nums}, expected: [2, 3, 4, 1]\")\n",
    "\n",
    "nums = [3, 2, 1]\n",
    "Solution().nextPermutation(nums)\n",
    "print(f\"result: {nums}, expected: [1, 2, 3]\")\n",
    "\n",
    "nums = [1, 1, 5]\n",
    "Solution().nextPermutation(nums)\n",
    "print(f\"result: {nums}, expected: [1, 5, 1]\")\n",
    "\n",
    "nums = [1, 3, 2]\n",
    "Solution().nextPermutation(nums)\n",
    "print(f\"result: {nums}, expected: [2, 1, 3]\")"
   ]
  },
  {
   "cell_type": "code",
   "execution_count": null,
   "metadata": {},
   "outputs": [],
   "source": []
  }
 ],
 "metadata": {
  "kernelspec": {
   "display_name": ".venv",
   "language": "python",
   "name": "python3"
  },
  "language_info": {
   "codemirror_mode": {
    "name": "ipython",
    "version": 3
   },
   "file_extension": ".py",
   "mimetype": "text/x-python",
   "name": "python",
   "nbconvert_exporter": "python",
   "pygments_lexer": "ipython3",
   "version": "3.12.3"
  }
 },
 "nbformat": 4,
 "nbformat_minor": 2
}
