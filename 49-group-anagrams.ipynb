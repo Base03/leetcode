{
 "cells": [
  {
   "cell_type": "code",
   "execution_count": 10,
   "id": "f88b19fe",
   "metadata": {},
   "outputs": [],
   "source": [
    "from typing import List\n",
    "from collections import defaultdict\n",
    "\n",
    "class Solution:\n",
    "    def groupAnagramsRedundant(self, strs: List[str]) -> List[List[str]]:\n",
    "        anagrams = set()\n",
    "        result = dict()\n",
    "\n",
    "        for word in strs:\n",
    "            sorted_word = ''.join(sorted(word))\n",
    "            if sorted_word not in anagrams: \n",
    "                anagrams.add(sorted_word)\n",
    "\n",
    "            if sorted_word not in result:\n",
    "                result[sorted_word] = [word]\n",
    "            else:\n",
    "                result[sorted_word].append(word)\n",
    "        \n",
    "        return list(result.values())\n",
    "\n",
    "    def groupAnagrams(self, strs: List[str]) -> List[List[str]]:\n",
    "        result = defaultdict(list)\n",
    "\n",
    "        for word in strs:\n",
    "            sorted_word = ''.join(sorted(word))\n",
    "            result[sorted_word].append(word)\n",
    "        \n",
    "        return list(result.values())\n",
    "        \n",
    "        \n"
   ]
  },
  {
   "cell_type": "code",
   "execution_count": 11,
   "id": "8d4bcd94",
   "metadata": {},
   "outputs": [
    {
     "name": "stdout",
     "output_type": "stream",
     "text": [
      "[['eat', 'tea', 'ate'], ['tan', 'nat'], ['bat']]\n",
      "[['']]\n",
      "[['a']]\n"
     ]
    }
   ],
   "source": [
    "sol = Solution()\n",
    "strs = [\"eat\",\"tea\",\"tan\",\"ate\",\"nat\",\"bat\"]\n",
    "expected = [[\"bat\"],[\"nat\",\"tan\"],[\"ate\",\"eat\",\"tea\"]]\n",
    "print(sol.groupAnagrams(strs))\n",
    "\n",
    "strs = [\"\"]\n",
    "expected = [[\"\"]]\n",
    "print(sol.groupAnagrams(strs))\n",
    "\n",
    "strs = [\"a\"]\n",
    "expected = [[\"a\"]]\n",
    "print(sol.groupAnagrams(strs))"
   ]
  },
  {
   "cell_type": "code",
   "execution_count": null,
   "id": "447356bd",
   "metadata": {},
   "outputs": [],
   "source": []
  }
 ],
 "metadata": {
  "kernelspec": {
   "display_name": "python_dev",
   "language": "python",
   "name": "python3"
  },
  "language_info": {
   "codemirror_mode": {
    "name": "ipython",
    "version": 3
   },
   "file_extension": ".py",
   "mimetype": "text/x-python",
   "name": "python",
   "nbconvert_exporter": "python",
   "pygments_lexer": "ipython3",
   "version": "3.13.2"
  }
 },
 "nbformat": 4,
 "nbformat_minor": 5
}
