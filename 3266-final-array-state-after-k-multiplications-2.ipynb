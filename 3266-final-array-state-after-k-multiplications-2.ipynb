{
 "cells": [
  {
   "cell_type": "code",
   "execution_count": 1,
   "metadata": {},
   "outputs": [],
   "source": [
    "from typing import List\n",
    "from sortedcontainers import SortedList\n",
    "\n",
    "class Solution:\n",
    "    def mod_pow(self, base: int, exponent: int, modulus: int) -> int:\n",
    "        result = 1\n",
    "        base = base % modulus\n",
    "        while exponent > 0:\n",
    "            if exponent % 2 == 1:\n",
    "                result = (result * base) % modulus\n",
    "            exponent = exponent // 2\n",
    "            base = (base * base) % modulus\n",
    "        return result\n",
    "\n",
    "    def getFinalState(self, nums: List[int], k: int, multiplier: int) -> List[int]:\n",
    "        mod = 10**9 + 7\n",
    "        n = len(nums)\n",
    "        if multiplier == 1:\n",
    "            k = 0\n",
    "\n",
    "        #print(\"initialize\")\n",
    "        nums_sort = SortedList(key=lambda x: (x[0], x[1]))\n",
    "        for idx, val in enumerate(nums):\n",
    "            nums_sort.add((val, idx))\n",
    "        #print(\"  nums_sort:\", nums_sort)\n",
    "\n",
    "        #print(\"initial distribution\")\n",
    "        max_val = nums_sort[-1][0]\n",
    "        while k > 0 and nums_sort[0][0] < max_val:\n",
    "            val, idx = nums_sort.pop(0)\n",
    "            val *= multiplier\n",
    "            nums_sort.add((val, idx))\n",
    "            k -= 1\n",
    "            #print(\"  \", nums_sort)\n",
    "        \n",
    "        #print(\"determine universal power of multiplier\")\n",
    "        min_power = k // n\n",
    "        power_mod = self.mod_pow(multiplier, min_power, mod)\n",
    "        k = k % n\n",
    "        #print(\"  min_power:\", min_power, \"power_mod:\", power_mod, \"k:\", k)\n",
    "\n",
    "        #print(\"update distribution\")\n",
    "        max_val = nums_sort[-1][0]\n",
    "        while k > 0:\n",
    "            val, idx = nums_sort.pop(0)\n",
    "            val *= multiplier\n",
    "            nums_sort.add((val, idx))\n",
    "            k -= 1\n",
    "            #print(\"  \", nums_sort)\n",
    "        \n",
    "        #print(\"finalize\")\n",
    "        nums_sort = SortedList(nums_sort, key=lambda x: x[1])\n",
    "        nums = [val for val, idx in nums_sort]\n",
    "        for i in range(len(nums)):\n",
    "            nums[i] = (nums[i]%mod * power_mod) % mod\n",
    "            \n",
    "        return nums"
   ]
  },
  {
   "cell_type": "code",
   "execution_count": 9,
   "metadata": {},
   "outputs": [
    {
     "name": "stdout",
     "output_type": "stream",
     "text": [
      "result: True\n",
      "result: True\n"
     ]
    }
   ],
   "source": [
    "# test 1\n",
    "nums = [2,1,3,5,6]\n",
    "k = 5\n",
    "multiplier = 2\n",
    "expected = [8,4,6,5,6]\n",
    "result = Solution().getFinalState(nums, k, multiplier)\n",
    "print(\"result:\", result == expected)\n",
    "\n",
    "# test 1\n",
    "nums = [1]\n",
    "k = 3\n",
    "multiplier = 10\n",
    "expected = [1000]\n",
    "result = Solution().getFinalState(nums, k, multiplier)\n",
    "print(\"result:\", result == expected)\n",
    "\n",
    "# # test 2\n",
    "# n = 10000\n",
    "# nums = [1000000000] + [1]*(n - 1)\n",
    "# k = 1000000000\n",
    "# multiplier = 2\n",
    "# result = Solution().getFinalState(nums, k, multiplier)\n",
    "# expected = None\n",
    "# print(\"result:\", result == expected)\n",
    "# print()\n"
   ]
  },
  {
   "cell_type": "code",
   "execution_count": null,
   "metadata": {},
   "outputs": [],
   "source": []
  }
 ],
 "metadata": {
  "kernelspec": {
   "display_name": ".venv",
   "language": "python",
   "name": "python3"
  },
  "language_info": {
   "codemirror_mode": {
    "name": "ipython",
    "version": 3
   },
   "file_extension": ".py",
   "mimetype": "text/x-python",
   "name": "python",
   "nbconvert_exporter": "python",
   "pygments_lexer": "ipython3",
   "version": "3.12.3"
  }
 },
 "nbformat": 4,
 "nbformat_minor": 2
}
