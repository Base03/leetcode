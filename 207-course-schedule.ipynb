{
 "cells": [
  {
   "cell_type": "code",
   "execution_count": null,
   "metadata": {},
   "outputs": [],
   "source": []
  },
  {
   "cell_type": "code",
   "execution_count": 3,
   "metadata": {},
   "outputs": [],
   "source": [
    "from typing import List\n",
    "\n",
    "class Node:\n",
    "    def __init__(self, val):\n",
    "        self.val = val\n",
    "        self.prev = []\n",
    "\n",
    "class Solution:\n",
    "    def canFinish(self, numCourses: int, prerequisites: List[List[int]]) -> bool:\n",
    "        nodes = [Node(i) for i in range(numCourses)]\n",
    "        for p in prerequisites:\n",
    "            nodes[p[0]].prev.append(nodes[p[1]])\n",
    "\n",
    "        def dfs_cycle_check(node) -> bool:\n",
    "            if node.val < 0:\n",
    "                return False\n",
    "            else:\n",
    "                node.val = -node.val\n",
    "                for p in node.prev:\n",
    "                    if not dfs_cycle_check(p):\n",
    "                        return False\n",
    "                node.val = -node.val\n",
    "                return True\n",
    "            \n",
    "        for node in nodes:\n",
    "            if not dfs_cycle_check(node):\n",
    "                return False\n",
    "        return True\n",
    "        "
   ]
  },
  {
   "cell_type": "code",
   "execution_count": 14,
   "metadata": {},
   "outputs": [],
   "source": [
    "from typing import List\n",
    "\n",
    "class Node:\n",
    "    def __init__(self, val):\n",
    "        self.val = val\n",
    "        self.children = []\n",
    "\n",
    "class Solution:\n",
    "    def canFinish(self, numCourses: int, prerequisites: List[List[int]]) -> bool:\n",
    "        nodes = [Node(i) for i in range(numCourses+1)]\n",
    "        root = nodes[numCourses]\n",
    "        for i in range(numCourses):\n",
    "            root.children.append(nodes[i])\n",
    "\n",
    "        for child, parent in prerequisites:\n",
    "            nodes[parent].children.append(nodes[child])\n",
    "        \n",
    "        def dfs_cycle_check(node) -> bool:\n",
    "            #child_list = [child.val for child in node.children]\n",
    "            #print(node.val, child_list)\n",
    "            if node.val < 0:\n",
    "                return False\n",
    "            else:\n",
    "                node.val = -node.val\n",
    "                for child in node.children:\n",
    "                    if not dfs_cycle_check(child):\n",
    "                        return False\n",
    "                node.val = -node.val\n",
    "                return True\n",
    "        \n",
    "        return dfs_cycle_check(root)"
   ]
  },
  {
   "cell_type": "code",
   "execution_count": 18,
   "metadata": {},
   "outputs": [],
   "source": [
    "class Solution:\n",
    "    def canFinish(self, numCourses: int, prerequisites: List[List[int]]) -> bool:\n",
    "        graph = [[] for i in range(numCourses)]\n",
    "        indegree = [0 for i in range(numCourses)]\n",
    "\n",
    "        for course, prereq in prerequisites:\n",
    "            graph[prereq].append(course)\n",
    "            indegree[course] += 1\n",
    "\n",
    "        # start with courses that have no prerequisites\n",
    "        queue = []\n",
    "        for i in range(numCourses):\n",
    "            if indegree[i] == 0:\n",
    "                queue.append(i)\n",
    "\n",
    "        while queue:\n",
    "            course = queue.pop(0)\n",
    "            for successor in graph[course]:\n",
    "                indegree[successor] -= 1\n",
    "                if indegree[successor] == 0:\n",
    "                    queue.append(successor)\n",
    "\n",
    "        return sum(indegree) == 0"
   ]
  },
  {
   "cell_type": "code",
   "execution_count": 19,
   "metadata": {},
   "outputs": [
    {
     "name": "stdout",
     "output_type": "stream",
     "text": [
      "output= True expected= True\n",
      "output= False expected= False\n"
     ]
    }
   ],
   "source": [
    "# test 1\n",
    "numCourses = 2\n",
    "prerequisites = [[1,0]]\n",
    "output = Solution().canFinish(numCourses, prerequisites)\n",
    "expected = True\n",
    "print(\"output=\", output, \"expected=\", expected)\n",
    "\n",
    "# test 2\n",
    "numCourses = 2\n",
    "prerequisites = [[1,0],[0,1]]\n",
    "output = Solution().canFinish(numCourses, prerequisites)\n",
    "expected = False\n",
    "print(\"output=\", output, \"expected=\", expected)"
   ]
  },
  {
   "cell_type": "code",
   "execution_count": null,
   "metadata": {},
   "outputs": [],
   "source": []
  }
 ],
 "metadata": {
  "kernelspec": {
   "display_name": ".venv",
   "language": "python",
   "name": "python3"
  },
  "language_info": {
   "codemirror_mode": {
    "name": "ipython",
    "version": 3
   },
   "file_extension": ".py",
   "mimetype": "text/x-python",
   "name": "python",
   "nbconvert_exporter": "python",
   "pygments_lexer": "ipython3",
   "version": "3.12.3"
  }
 },
 "nbformat": 4,
 "nbformat_minor": 2
}
