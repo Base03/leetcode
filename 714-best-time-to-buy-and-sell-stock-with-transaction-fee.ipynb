{
 "cells": [
  {
   "cell_type": "code",
   "execution_count": 5,
   "metadata": {},
   "outputs": [],
   "source": [
    "from typing import List\n",
    "\n",
    "class Solution:\n",
    "    def maxProfit(self, prices: List[int], fee: int) -> int:\n",
    "        memo = {}\n",
    "        def helper(i: int, stock: bool) -> int:\n",
    "            if i >= len(prices):\n",
    "                return 0\n",
    "            if (i, stock) in memo:\n",
    "                return memo[(i, stock)]\n",
    "            \n",
    "            if stock:\n",
    "                # sell or hold, only cool-down after sell\n",
    "                memo[(i, stock)] = max(helper(i+1, False) + prices[i] - fee, helper(i+1, True))\n",
    "                return memo[(i, stock)]\n",
    "            else:\n",
    "                # buy or skip, only cool-down after sell\n",
    "                memo[(i, stock)] = max(helper(i+1, True) - prices[i], helper(i+1, False))\n",
    "                return memo[(i, stock)]\n",
    "        return helper(0, False)\n",
    "        "
   ]
  },
  {
   "cell_type": "code",
   "execution_count": 6,
   "metadata": {},
   "outputs": [
    {
     "name": "stdout",
     "output_type": "stream",
     "text": [
      "profit: 8 expected: 8\n",
      "profit: 6 expected: 6\n"
     ]
    }
   ],
   "source": [
    "# test 1\n",
    "prices = [1,3,2,8,4,9]\n",
    "fee = 2\n",
    "print(\"profit:\", Solution().maxProfit(prices, fee), \"expected:\", 8)\n",
    "\n",
    "# test 2\n",
    "prices = [1,3,7,5,10,3]\n",
    "fee = 3\n",
    "print(\"profit:\", Solution().maxProfit(prices, fee), \"expected:\", 6)"
   ]
  },
  {
   "cell_type": "code",
   "execution_count": null,
   "metadata": {},
   "outputs": [],
   "source": []
  }
 ],
 "metadata": {
  "kernelspec": {
   "display_name": ".venv",
   "language": "python",
   "name": "python3"
  },
  "language_info": {
   "codemirror_mode": {
    "name": "ipython",
    "version": 3
   },
   "file_extension": ".py",
   "mimetype": "text/x-python",
   "name": "python",
   "nbconvert_exporter": "python",
   "pygments_lexer": "ipython3",
   "version": "3.12.3"
  }
 },
 "nbformat": 4,
 "nbformat_minor": 2
}
