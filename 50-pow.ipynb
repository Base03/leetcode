{
 "cells": [
  {
   "cell_type": "code",
   "execution_count": 7,
   "id": "ee629479",
   "metadata": {},
   "outputs": [],
   "source": [
    "class Solution:\n",
    "    def myPow(self, x: float, n: int) -> float:\n",
    "        if n == -1: return 1.0/x\n",
    "        if n == 0: return 1\n",
    "        if n == 1: return x\n",
    "        print\n",
    "\n",
    "        a = self.myPow(x, n//2)\n",
    "        b = self.myPow(x, n-2*(n//2))\n",
    "        return a*a*b"
   ]
  },
  {
   "cell_type": "code",
   "execution_count": 8,
   "id": "b16aea2e",
   "metadata": {},
   "outputs": [
    {
     "name": "stdout",
     "output_type": "stream",
     "text": [
      "expected: 1024.0, result: 1024.0\n",
      "expected: 9.261000000000001, result: 9.261000000000001\n",
      "expected: 0.25, result: 0.25\n",
      "expected: 6.223015277861142e-61, result: 6.223015277861142e-61\n"
     ]
    }
   ],
   "source": [
    "soln = Solution()\n",
    "\n",
    "x = 2.0\n",
    "n = 10\n",
    "expected = pow(x, n)\n",
    "result = soln.myPow(x,n)\n",
    "print(f\"expected: {expected}, result: {result}\")\n",
    "\n",
    "x = 2.1\n",
    "n = 3\n",
    "expected = pow(x, n)\n",
    "result = soln.myPow(x,n)\n",
    "print(f\"expected: {expected}, result: {result}\")\n",
    "\n",
    "x = 2.0\n",
    "n = -2\n",
    "expected = pow(x, n)\n",
    "result = soln.myPow(x,n)\n",
    "print(f\"expected: {expected}, result: {result}\")\n",
    "\n",
    "x = 2.0\n",
    "n = -200\n",
    "expected = pow(x, n)\n",
    "result = soln.myPow(x,n)\n",
    "print(f\"expected: {expected}, result: {result}\")"
   ]
  },
  {
   "cell_type": "code",
   "execution_count": null,
   "id": "d36e8c82",
   "metadata": {},
   "outputs": [],
   "source": []
  }
 ],
 "metadata": {
  "kernelspec": {
   "display_name": "python_dev",
   "language": "python",
   "name": "python3"
  },
  "language_info": {
   "codemirror_mode": {
    "name": "ipython",
    "version": 3
   },
   "file_extension": ".py",
   "mimetype": "text/x-python",
   "name": "python",
   "nbconvert_exporter": "python",
   "pygments_lexer": "ipython3",
   "version": "3.13.2"
  }
 },
 "nbformat": 4,
 "nbformat_minor": 5
}
