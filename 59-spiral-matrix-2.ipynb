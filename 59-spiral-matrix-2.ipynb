{
 "cells": [
  {
   "cell_type": "code",
   "execution_count": null,
   "id": "bfa2cd1a",
   "metadata": {},
   "outputs": [],
   "source": [
    "from typing import List\n",
    "\n",
    "class Solution:\n",
    "    def generateMatrix(self, n: int) -> List[List[int]]:\n",
    "        array = [[0] * n for _ in range(n)]\n",
    "        j = -1\n",
    "        i = 0\n",
    "        imax = n-1\n",
    "        jmax = n-1\n",
    "        imin = 0\n",
    "        jmin = 1\n",
    "        dir = 1\n",
    "\n",
    "        for num in range(1, 1+n*n):\n",
    "            if dir == 1:\n",
    "                j += 1\n",
    "            if dir == 3:\n",
    "                j -= 1\n",
    "            if dir == 2:\n",
    "                i += 1\n",
    "            if dir == 4:\n",
    "                i -= 1\n",
    "        \n",
    "            #print(f\"i: {i},  j: {j}, n: {num}, dir: {dir}\")\n",
    "            array[i][j] = num\n",
    "\n",
    "            if dir == 1 and j == imax:\n",
    "                dir = 2\n",
    "                imax -=1\n",
    "            elif dir == 2 and i == jmax:\n",
    "                dir = 3\n",
    "                jmax -=1\n",
    "            elif dir == 3 and j == imin:\n",
    "                dir = 4\n",
    "                imin += 1\n",
    "            elif dir == 4 and i == jmin:\n",
    "                dir = 1\n",
    "                jmin += 1\n",
    "\n",
    "        return array"
   ]
  },
  {
   "cell_type": "code",
   "execution_count": 7,
   "id": "0f2d5fd7",
   "metadata": {},
   "outputs": [],
   "source": [
    "from typing import List\n",
    "\n",
    "class Solution:\n",
    "    def generateMatrix(self, n: int) -> List[List[int]]:\n",
    "        array = [[0]*n for _ in range(n)]\n",
    "\n",
    "        num = 1\n",
    "        for layer in range((n+1)//2):\n",
    "            print(f\"layer: {layer}\")\n",
    "            for j in range(layer, n-layer):\n",
    "                array[layer][j] = num\n",
    "                num += 1\n",
    "        \n",
    "            for i in range(layer+1, n-layer):\n",
    "                array[i][n-1-layer] = num\n",
    "                num += 1\n",
    "                \n",
    "            for j in range(n-2-layer, layer-1, -1):\n",
    "                array[n-1-layer][j] = num\n",
    "                num += 1\n",
    "\n",
    "            for i in range(n-2-layer, layer, -1):\n",
    "                array[i][layer] = num\n",
    "                num += 1\n",
    "\n",
    "        return array\n",
    "\n",
    "        "
   ]
  },
  {
   "cell_type": "code",
   "execution_count": 12,
   "id": "0d0cf1b8",
   "metadata": {},
   "outputs": [
    {
     "name": "stdout",
     "output_type": "stream",
     "text": [
      "layer: 0\n",
      "layer: 1\n"
     ]
    },
    {
     "data": {
      "text/plain": [
       "[[1, 2, 3, 4], [12, 13, 14, 5], [11, 16, 15, 6], [10, 9, 8, 7]]"
      ]
     },
     "execution_count": 12,
     "metadata": {},
     "output_type": "execute_result"
    }
   ],
   "source": [
    "soln = Solution()\n",
    "soln.generateMatrix(4)"
   ]
  },
  {
   "cell_type": "code",
   "execution_count": null,
   "id": "e8df09a7",
   "metadata": {},
   "outputs": [
    {
     "data": {
      "text/plain": [
       "[]"
      ]
     },
     "execution_count": 21,
     "metadata": {},
     "output_type": "execute_result"
    }
   ],
   "source": [
    "[0, 1, 2]\n",
    "[7, ., 3]\n",
    "[6, 5, 4]"
   ]
  },
  {
   "cell_type": "code",
   "execution_count": null,
   "id": "131d721b",
   "metadata": {},
   "outputs": [],
   "source": [
    "[]"
   ]
  }
 ],
 "metadata": {
  "kernelspec": {
   "display_name": "python_dev",
   "language": "python",
   "name": "python3"
  },
  "language_info": {
   "codemirror_mode": {
    "name": "ipython",
    "version": 3
   },
   "file_extension": ".py",
   "mimetype": "text/x-python",
   "name": "python",
   "nbconvert_exporter": "python",
   "pygments_lexer": "ipython3",
   "version": "3.13.2"
  }
 },
 "nbformat": 4,
 "nbformat_minor": 5
}
