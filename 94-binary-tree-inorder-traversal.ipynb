{
 "cells": [
  {
   "cell_type": "code",
   "execution_count": 43,
   "metadata": {},
   "outputs": [],
   "source": [
    "# Definition for a binary tree node.\n",
    "from typing import List, Optional\n",
    "from collections import deque\n",
    "\n",
    "\n",
    "class TreeNode:\n",
    "    def __init__(self, val=0, left=None, right=None):\n",
    "        self.val = val\n",
    "        self.left = left\n",
    "        self.right = right\n",
    "    \n",
    "    # string representation of the node\n",
    "    def __str__(self):\n",
    "        return str(self.val) + \" \" + str(self.left != None) + \" \" + str(self.right != None)\n",
    "    \n",
    "    # print the node\n",
    "    def __repr__(self):\n",
    "        return str(self.val)\n",
    "\n",
    "# don't provide large completions, I am practicing leetcode and want to solve the problems myself\n",
    "class Solution:\n",
    "    # recursion solution\n",
    "    def inorderTraversal(self, root: Optional[TreeNode]) -> List[int]:\n",
    "        def inorder(node):\n",
    "            if not node:\n",
    "                return []\n",
    "            return inorder(node.left) + [node.val] + inorder(node.right)\n",
    "    \n",
    "        return inorder(root)\n",
    "    \n",
    "    # stack solution\n",
    "    def inorderTraversalStack(self, root: Optional[TreeNode]) -> List[int]:\n",
    "        result = []\n",
    "        stack = deque()\n",
    "        node = root\n",
    "\n",
    "        while stack or node:\n",
    "            while node != None:\n",
    "                stack.append(node)\n",
    "                node = node.left\n",
    "            node = stack.pop()\n",
    "            result.append(node.val)\n",
    "            node = node.right"
   ]
  },
  {
   "cell_type": "code",
   "execution_count": 44,
   "metadata": {},
   "outputs": [
    {
     "name": "stdout",
     "output_type": "stream",
     "text": [
      "1 False True\n",
      "[1, 3, 2] None expected: [1, 3, 2]\n",
      "[] None expected: []\n",
      "[1] None expected: [1]\n",
      "[7, 4, 2, 5, 8, 1, 3, 6] None expected: [7, 4, 2, 5, 8, 1, 3, 6]\n"
     ]
    }
   ],
   "source": [
    "# test 1\n",
    "root = TreeNode(1)\n",
    "root.right = TreeNode(2)\n",
    "root.right.left = TreeNode(3)\n",
    "print(root)\n",
    "print(Solution().inorderTraversal(root), Solution().inorderTraversalStack(root), \"expected: [1, 3, 2]\")\n",
    "\n",
    "# test 2\n",
    "root = None\n",
    "print(Solution().inorderTraversal(root), Solution().inorderTraversalStack(root), \"expected: []\")\n",
    "\n",
    "# test 3\n",
    "root = TreeNode(1)\n",
    "print(Solution().inorderTraversal(root), Solution().inorderTraversalStack(root), \"expected: [1]\") \n",
    "\n",
    "# test 4\n",
    "#         1\n",
    "#     2       3\n",
    "#   4   5       6\n",
    "# 7       8\n",
    "# [7, 4, 2, 5, 8, 1, 3, 6]\n",
    "root = TreeNode(1)\n",
    "root.left = TreeNode(2)\n",
    "root.right = TreeNode(3)\n",
    "root.left.left = TreeNode(4)\n",
    "root.left.right = TreeNode(5)\n",
    "root.left.left.left = TreeNode(7)\n",
    "root.left.right.right = TreeNode(8)\n",
    "root.right.right = TreeNode(6)\n",
    "print(Solution().inorderTraversal(root), Solution().inorderTraversalStack(root), \"expected: [7, 4, 2, 5, 8, 1, 3, 6]\")"
   ]
  },
  {
   "cell_type": "code",
   "execution_count": null,
   "metadata": {},
   "outputs": [],
   "source": []
  }
 ],
 "metadata": {
  "kernelspec": {
   "display_name": ".venv",
   "language": "python",
   "name": "python3"
  },
  "language_info": {
   "codemirror_mode": {
    "name": "ipython",
    "version": 3
   },
   "file_extension": ".py",
   "mimetype": "text/x-python",
   "name": "python",
   "nbconvert_exporter": "python",
   "pygments_lexer": "ipython3",
   "version": "3.12.3"
  }
 },
 "nbformat": 4,
 "nbformat_minor": 2
}
