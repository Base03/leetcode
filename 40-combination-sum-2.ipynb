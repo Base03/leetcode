{
 "cells": [
  {
   "cell_type": "code",
   "execution_count": 34,
   "metadata": {},
   "outputs": [],
   "source": [
    "from typing import List\n",
    "\n",
    "class Solution:\n",
    "    def combinationSum2(self, candidates: List[int], target: int) -> List[List[int]]:\n",
    "        result_set = set()\n",
    "        combination = []\n",
    "\n",
    "        def dfs(idx, current_sum):\n",
    "            if current_sum == target:\n",
    "                result_set.add(tuple(sorted(combination)))\n",
    "                return\n",
    "            \n",
    "            if current_sum > target:\n",
    "                return\n",
    "            \n",
    "            for j in range(idx+1, len(candidates)):\n",
    "                combination.append(candidates[j])\n",
    "                dfs(j, current_sum + candidates[j])\n",
    "                combination.pop()\n",
    "\n",
    "        dfs(-1, 0)\n",
    "\n",
    "        result = []\n",
    "        for r in result_set:\n",
    "            result.append(list(r))\n",
    "        return result"
   ]
  },
  {
   "cell_type": "code",
   "execution_count": 36,
   "metadata": {},
   "outputs": [],
   "source": [
    "from typing import List\n",
    "\n",
    "class Solution:\n",
    "    def combinationSum2(self, candidates: List[int], target: int) -> List[List[int]]:\n",
    "        result = []\n",
    "        candidates.sort()\n",
    "\n",
    "        def dfs(start, path, target):\n",
    "            if target == 0:\n",
    "                result.append(path)\n",
    "                return\n",
    "            \n",
    "            for i in range(start, len(candidates)):\n",
    "                if i > start and candidates[i] == candidates[i-1]:\n",
    "                    continue\n",
    "\n",
    "                if candidates[i] > target:\n",
    "                    break\n",
    "\n",
    "                dfs(i+1, path+[candidates[i]], target-candidates[i])\n",
    "        \n",
    "        dfs(0, [], target)\n",
    "        return result"
   ]
  },
  {
   "cell_type": "code",
   "execution_count": 37,
   "metadata": {},
   "outputs": [
    {
     "name": "stdout",
     "output_type": "stream",
     "text": [
      "output:\n",
      " [[1]] \n",
      "expected:\n",
      " [[1]]\n",
      "\n"
     ]
    }
   ],
   "source": [
    "# # test 1\n",
    "# candidates = [10,1,2,7,6,1,5]\n",
    "# target = 8\n",
    "# expected = [[1,1,6], [1,2,5], [1,7], [2,6]]\n",
    "# print(\"output:\\n\", Solution().combinationSum2(candidates, target), \"\\nexpected:\\n\", expected)\n",
    "# print()\n",
    "\n",
    "# # test 2\n",
    "# candidates = [2,5,2,1,2]\n",
    "# target = 5\n",
    "# expected = [[1,2,2], [5]]\n",
    "# print(\"output:\\n\", Solution().combinationSum2(candidates, target), \"\\nexpected:\\n\", expected)\n",
    "# print()\n",
    "\n",
    "# test 3\n",
    "candidates = [1]\n",
    "target = 1\n",
    "expected = [[1]]\n",
    "print(\"output:\\n\", Solution().combinationSum2(candidates, target), \"\\nexpected:\\n\", expected)\n",
    "print()"
   ]
  },
  {
   "cell_type": "code",
   "execution_count": null,
   "metadata": {},
   "outputs": [],
   "source": []
  }
 ],
 "metadata": {
  "kernelspec": {
   "display_name": ".venv",
   "language": "python",
   "name": "python3"
  },
  "language_info": {
   "codemirror_mode": {
    "name": "ipython",
    "version": 3
   },
   "file_extension": ".py",
   "mimetype": "text/x-python",
   "name": "python",
   "nbconvert_exporter": "python",
   "pygments_lexer": "ipython3",
   "version": "3.12.3"
  }
 },
 "nbformat": 4,
 "nbformat_minor": 2
}
