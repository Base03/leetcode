{
 "cells": [
  {
   "cell_type": "markdown",
   "metadata": {},
   "source": [
    "Given two strings ```s``` and ```t```, return the number of distinct subsequences of ```s``` which equals ```t```.\n",
    "\n",
    "The test cases are generated so that the answer fits on a 32-bit signed integer.\n",
    "\n",
    "Example 1:\n",
    "\n",
    "- Input: ```s = \"rabbbit\"```, ```t = \"rabbit\"```\n",
    "- Output: 3\n",
    "- Explanation:\n",
    "- As shown below, there are 3 ways you can generate \"rabbit\" from s.\n",
    "- **rabb**b**it**\n",
    "- **ra**b**bbit**\n",
    "- **rab**b**bit**\n",
    "\n",
    "Example 2:\n",
    "\n",
    "- Input: ```s = \"babgbag\"```, ```t = \"bag\"```\n",
    "- Output: 5\n",
    "- Explanation:\n",
    "- As shown below, there are 5 ways you can generate \"bag\" from s.\n",
    "- **ba**b**g**bag\n",
    "- **ba**bgba**g**\n",
    "- **b**abgb**ag**\n",
    "- ba**b**gb**ag**\n",
    "- babg**bag**"
   ]
  },
  {
   "cell_type": "code",
   "execution_count": null,
   "metadata": {},
   "outputs": [],
   "source": [
    "# recursive solution without memoization\n",
    "class Solution:\n",
    "    def numDistinct(self, s: str, t: str) -> int:\n",
    "        def recursive(s_ind, t_ind):\n",
    "            if t_ind == len(t):\n",
    "                return 1\n",
    "            if s_ind == len(s):\n",
    "                return 0\n",
    "            \n",
    "            l, r = 0, 0\n",
    "            if s[s_ind] == t[t_ind]:\n",
    "                # characters matched, so we can take this character\n",
    "                # default case is not taking\n",
    "                l = recursive(s_ind+1, t_ind+1)\n",
    "            # we can skip this character if it matches or not\n",
    "            r = recursive(s_ind+1, t_ind)\n",
    "\n",
    "            return l + r\n",
    "        return recursive(0,0)"
   ]
  },
  {
   "cell_type": "code",
   "execution_count": null,
   "metadata": {},
   "outputs": [],
   "source": [
    "# recursive solution with memoization. We can use a 2D array to store the results of the recursive calls\n",
    "class Solution:\n",
    "    def numDistinct(self, s: str, t: str) -> int:\n",
    "        ns, nt = len(s), len(t)\n",
    "        memo = [[-1 for _ in range(nt)] for _ in range(ns)]\n",
    "        \n",
    "        def recursive(s_ind, t_ind):\n",
    "            # base case\n",
    "            if t_ind == nt:\n",
    "                return 1\n",
    "            # this is actually a massive optimization over just \n",
    "            # checking if s_ind == ns. if there are fewer source \n",
    "            # characters left than target characters, we can't \n",
    "            # possibly match. Speeds stuff up by about 10x\n",
    "            if ns - s_ind < nt - t_ind:\n",
    "                return 0\n",
    "            # if s_ind == ns:\n",
    "            #     return 0\n",
    "            \n",
    "            # retrieve the result from memo if it exists\n",
    "            result = memo[s_ind][t_ind]\n",
    "            if result != -1:\n",
    "                return result\n",
    "            \n",
    "            l, r = 0, 0\n",
    "            if s[s_ind] == t[t_ind]:\n",
    "                # characters matched, so we can take this character\n",
    "                # default case is not taking\n",
    "                l = recursive(s_ind+1, t_ind+1)\n",
    "            # we can skip this character if it matches or not\n",
    "            r = recursive(s_ind+1, t_ind)\n",
    "\n",
    "            result = l + r\n",
    "            memo[s_ind][t_ind] = result\n",
    "            return result\n",
    "        \n",
    "        return recursive(0,0)"
   ]
  },
  {
   "cell_type": "code",
   "execution_count": null,
   "metadata": {},
   "outputs": [],
   "source": [
    "from functools import cache\n",
    "\n",
    "class Solution:\n",
    "    def numDistinct(self, s: str, t: str) -> int:\n",
    "\n",
    "        @cache\n",
    "        def recurse(s_ind, t_ind):\n",
    "            # base case\n",
    "            if t_ind == nt:\n",
    "                return 1\n",
    "            # this is actually a massive optimization over just \n",
    "            # checking if s_ind == ns. if there are fewer source \n",
    "            # characters left than target characters, we can't \n",
    "            # possibly match\n",
    "            if ns - s_ind < nt - t_ind:\n",
    "                return 0\n",
    "            \n",
    "            count = recurse(s_ind + 1, t_ind)\n",
    "            if s[s_ind] == t[t_ind]:\n",
    "                count += recurse(s_ind + 1, t_ind + 1)\n",
    "            return count\n",
    "            \n",
    "        ns = len(s)\n",
    "        nt = len(t)\n",
    "        return recurse(0, 0)"
   ]
  },
  {
   "cell_type": "code",
   "execution_count": 15,
   "metadata": {},
   "outputs": [
    {
     "name": "stdout",
     "output_type": "stream",
     "text": [
      "output = 3, expected = 3\n",
      "output = 5, expected = 5\n"
     ]
    }
   ],
   "source": [
    "s = \"rabbbit\"\n",
    "t = \"rabbit\"\n",
    "expected = 3\n",
    "output = Solution().numDistinct(s, t)\n",
    "print(f\"output = {output}, expected = {expected}\")\n",
    "\n",
    "s = \"babgbag\"\n",
    "t = \"bag\"\n",
    "expected = 5\n",
    "output = Solution().numDistinct(s, t)\n",
    "print(f\"output = {output}, expected = {expected}\")"
   ]
  },
  {
   "cell_type": "code",
   "execution_count": null,
   "metadata": {},
   "outputs": [],
   "source": []
  }
 ],
 "metadata": {
  "kernelspec": {
   "display_name": ".venv",
   "language": "python",
   "name": "python3"
  },
  "language_info": {
   "codemirror_mode": {
    "name": "ipython",
    "version": 3
   },
   "file_extension": ".py",
   "mimetype": "text/x-python",
   "name": "python",
   "nbconvert_exporter": "python",
   "pygments_lexer": "ipython3",
   "version": "3.12.3"
  }
 },
 "nbformat": 4,
 "nbformat_minor": 2
}
