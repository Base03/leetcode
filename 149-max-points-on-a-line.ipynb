{
 "cells": [
  {
   "cell_type": "code",
   "execution_count": 53,
   "metadata": {},
   "outputs": [],
   "source": [
    "from typing import List\n",
    "from fractions import Fraction\n",
    "\n",
    "class Solution:\n",
    "    # a line can be described by y = mx + b, e.g. two numbers: m and b.\n",
    "    # for each point i, compare with all other points j > i, calculate slop and intercept\n",
    "    # bin the results, keep track of the max bin size.\n",
    "    # very simple, O(n^2), impossible to do better.\n",
    "    #\n",
    "    # we can do better with space complexity in the accumulator by using a counter instead of a set\n",
    "    # and zeroing out the counter before each new point i. E.g. for each i,j pair, the first pair\n",
    "    # adds two points (i and j) which subsequent (i, k) only adds one point (k) to the (m, b) bin.\n",
    "    # I'm just being lazy here.\n",
    "    #\n",
    "    # This version is relatively slow, because it uses Fraction to handle float precision issues\n",
    "    # as such, it will work for any range of [xi, yi] instead of being limited to [xi, yi] < 10000.\n",
    "    # Also slowing it down is the aforementioned use of sets instead of bins of integers + reset \n",
    "    # counter.\n",
    "    def maxPoints(self, points: List[List[int]]) -> int:\n",
    "        n = len(points)\n",
    "        if n == 1:\n",
    "            return 1\n",
    "        \n",
    "        dict = {}\n",
    "        max_points = 0\n",
    "        for i in range(n):\n",
    "            for j in range(i+1, n):\n",
    "                xi, yi = points[i] if points[i][0] < points[j][0] else points[j]\n",
    "                xj, yj = points[j] if points[i][0] < points[j][0] else points[i]\n",
    "\n",
    "                # get the slope\n",
    "                if xj != xi:\n",
    "                    m = Fraction((yj - yi), (xj - xi))\n",
    "                else:\n",
    "                    m = float('inf')\n",
    "\n",
    "                # get the intercept\n",
    "                if m == float('inf'):\n",
    "                    b = float(xi)\n",
    "                elif m == 0:\n",
    "                    b = \"inf, \" + str(yi)\n",
    "                else:\n",
    "                    b = Fraction(yi - m*xi)\n",
    "\n",
    "                # convert to string for hashing\n",
    "                b = str(b)\n",
    "                m = str(m)\n",
    "\n",
    "                if (m, b) not in dict:\n",
    "                    dict[(m, b)] = set()\n",
    "                dict[(m, b)].add(i)\n",
    "                dict[(m, b)].add(j)\n",
    "                \n",
    "                max_points = max(max_points, len(dict[(m, b)]))\n",
    "\n",
    "        #print(dict)\n",
    "\n",
    "        return max_points"
   ]
  },
  {
   "cell_type": "code",
   "execution_count": 54,
   "metadata": {},
   "outputs": [
    {
     "name": "stdout",
     "output_type": "stream",
     "text": [
      "result: 3 expected: 3\n",
      "result: 3 expected: 3\n",
      "result: 4 expected: 4\n",
      "result: 2 expected: 2\n"
     ]
    }
   ],
   "source": [
    "soln = Solution()\n",
    "f = soln.maxPoints\n",
    "\n",
    "# test 0\n",
    "points = [[1,1], [2,2], [3,3], [3,4], [4,3]]\n",
    "expected = 3\n",
    "print(\"result:\", f(points), \"expected:\", expected)\n",
    "\n",
    "# test 1\n",
    "points = [[1,1],[2,2],[3,3]]\n",
    "expected = 3\n",
    "print(\"result:\", f(points), \"expected:\", expected)\n",
    "\n",
    "# test 2\n",
    "points = [[1,1],[3,2],[5,3],[4,1],[2,3],[1,4]]\n",
    "expected = 4\n",
    "print(\"result:\", f(points), \"expected:\", expected)\n",
    "\n",
    "# test 3:\n",
    "points = [[5151,5150],[0,0],[5152,5151]]\n",
    "expected = 2\n",
    "print(\"result:\", f(points), \"expected:\", expected)"
   ]
  },
  {
   "cell_type": "code",
   "execution_count": null,
   "metadata": {},
   "outputs": [],
   "source": []
  },
  {
   "cell_type": "code",
   "execution_count": null,
   "metadata": {},
   "outputs": [],
   "source": []
  }
 ],
 "metadata": {
  "kernelspec": {
   "display_name": ".venv",
   "language": "python",
   "name": "python3"
  },
  "language_info": {
   "codemirror_mode": {
    "name": "ipython",
    "version": 3
   },
   "file_extension": ".py",
   "mimetype": "text/x-python",
   "name": "python",
   "nbconvert_exporter": "python",
   "pygments_lexer": "ipython3",
   "version": "3.12.3"
  }
 },
 "nbformat": 4,
 "nbformat_minor": 2
}
