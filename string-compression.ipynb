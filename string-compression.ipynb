{
 "cells": [
  {
   "cell_type": "code",
   "execution_count": null,
   "id": "c6491ccc",
   "metadata": {},
   "outputs": [],
   "source": [
    "from typing import List\n",
    "\n",
    "class Solution:\n",
    "    def compress(self, chars: List[str]) -> int:\n",
    "        n = len(chars)\n",
    "        \n",
    "        def process(first_char: str, remaining_chars: List[str]) -> int:\n",
    "            count = 1\n",
    "            for char in remaining_chars[1:]:\n",
    "                if char == first_char:\n",
    "                    count += 1\n",
    "                else:\n",
    "                    return count\n",
    "            return count\n",
    "        \n",
    "        i = 0\n",
    "        j = 0\n",
    "\n",
    "        while j < n:\n",
    "            char = chars[j]\n",
    "            count = process(char, chars[j:])\n",
    "            #print(f\"char: {char}, count: {count}\")\n",
    "            if (count >= 2):\n",
    "                chars[i] = char\n",
    "                count_str = str(count)\n",
    "                for k in range(len(count_str)):\n",
    "                    chars[i+1+k] = count_str[k]\n",
    "                \n",
    "                i += 1 + len(count_str)\n",
    "            else:\n",
    "                chars[i] = char\n",
    "                i += 1\n",
    "\n",
    "            j+= count\n",
    "\n",
    "        return i"
   ]
  },
  {
   "cell_type": "code",
   "execution_count": 17,
   "id": "cf852b95",
   "metadata": {},
   "outputs": [],
   "source": [
    "class Solution:\n",
    "    def compress(self, chars: List[str]) -> int:\n",
    "        n = len(chars)\n",
    "        idx = 0\n",
    "        i = 0\n",
    "        while i < n:\n",
    "            ch = chars[i]\n",
    "            count = 0\n",
    "            while i < n and chars[i] == ch:\n",
    "                count += 1\n",
    "                i += 1\n",
    "            if count == 1:\n",
    "                chars[idx] = ch\n",
    "                idx += 1\n",
    "            else:\n",
    "                chars[idx] = ch\n",
    "                idx += 1\n",
    "                for digit in str(count):\n",
    "                    chars[idx] = digit\n",
    "                    idx += 1\n",
    "        \n",
    "        chars = chars[:idx]\n",
    "        return idx"
   ]
  },
  {
   "cell_type": "code",
   "execution_count": 18,
   "id": "c6450f23",
   "metadata": {},
   "outputs": [
    {
     "name": "stdout",
     "output_type": "stream",
     "text": [
      "compressed: ['a', '2', 'b', '2', 'c', '3']\n",
      "compressed: ['a', 'b', 'c', '3', 'd', '2', 'a', '3']\n"
     ]
    }
   ],
   "source": [
    "soln = Solution()\n",
    "\n",
    "chars = [\"a\",\"a\",\"b\",\"b\",\"c\",\"c\",\"c\"]\n",
    "num = soln.compress(chars)\n",
    "print(f\"compressed: {chars[:num]}\")\n",
    "\n",
    "chars = [\"a\",\"b\",\"c\",\"c\",\"c\",\"d\",\"d\",\"a\",\"a\",\"a\"]\n",
    "num = soln.compress(chars)\n",
    "print(f\"compressed: {chars[:num]}\")"
   ]
  },
  {
   "cell_type": "code",
   "execution_count": null,
   "id": "64d39e34",
   "metadata": {},
   "outputs": [],
   "source": []
  }
 ],
 "metadata": {
  "kernelspec": {
   "display_name": "python_dev",
   "language": "python",
   "name": "python3"
  },
  "language_info": {
   "codemirror_mode": {
    "name": "ipython",
    "version": 3
   },
   "file_extension": ".py",
   "mimetype": "text/x-python",
   "name": "python",
   "nbconvert_exporter": "python",
   "pygments_lexer": "ipython3",
   "version": "3.13.2"
  }
 },
 "nbformat": 4,
 "nbformat_minor": 5
}
