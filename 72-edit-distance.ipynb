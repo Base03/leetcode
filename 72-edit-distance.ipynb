{
 "cells": [
  {
   "cell_type": "code",
   "execution_count": null,
   "id": "2166cca7",
   "metadata": {},
   "outputs": [],
   "source": [
    "from functools import cache\n",
    "\n",
    "class Solution:\n",
    "    def minDistance(self, word1: str, word2: str) -> int:\n",
    "        len_word1 = len(word1)\n",
    "        len_word2 = len(word2)\n",
    "\n",
    "        @cache\n",
    "        def helper(i: int, j: int):\n",
    "            # base case if we reach the end of either word\n",
    "            if i >= len_word1:\n",
    "                return len_word2-j\n",
    "            if j >= len_word2:\n",
    "                return len_word1-i\n",
    "            \n",
    "            # if characters match we can move on without cost\n",
    "            if word1[i] == word2[j]:\n",
    "                return helper(i+1, j+1)\n",
    "            \n",
    "            # insert costs, delete costs, change costs\n",
    "            cost1 = 1 + helper(i+1, j) # delete\n",
    "            cost2 = 1 + helper(i, j+1) # insert\n",
    "            cost3 = 1 + helper(i+1, j+1) # change\n",
    "            return min(cost1, cost2, cost3)\n",
    "        \n",
    "        return helper(0,0)"
   ]
  },
  {
   "cell_type": "code",
   "execution_count": 7,
   "id": "88d7b731",
   "metadata": {},
   "outputs": [
    {
     "name": "stdout",
     "output_type": "stream",
     "text": [
      "expected: 3, output: 3\n",
      "expected: 5, output: 5\n"
     ]
    }
   ],
   "source": [
    "soln = Solution()\n",
    "\n",
    "word1 = \"horse\"\n",
    "word2 = \"ros\"\n",
    "expected = 3\n",
    "output = soln.minDistance(word1, word2)\n",
    "print(f\"expected: {expected}, output: {output}\")\n",
    "\n",
    "word1 = \"intention\"\n",
    "word2 = \"execution\"\n",
    "expected = 5\n",
    "output = soln.minDistance(word1, word2)\n",
    "print(f\"expected: {expected}, output: {output}\")\n"
   ]
  },
  {
   "cell_type": "code",
   "execution_count": null,
   "id": "eccaed09",
   "metadata": {},
   "outputs": [],
   "source": []
  }
 ],
 "metadata": {
  "kernelspec": {
   "display_name": "python_dev",
   "language": "python",
   "name": "python3"
  },
  "language_info": {
   "codemirror_mode": {
    "name": "ipython",
    "version": 3
   },
   "file_extension": ".py",
   "mimetype": "text/x-python",
   "name": "python",
   "nbconvert_exporter": "python",
   "pygments_lexer": "ipython3",
   "version": "3.13.2"
  }
 },
 "nbformat": 4,
 "nbformat_minor": 5
}
