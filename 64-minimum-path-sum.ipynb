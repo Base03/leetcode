{
 "cells": [
  {
   "cell_type": "code",
   "execution_count": null,
   "id": "761b1981",
   "metadata": {},
   "outputs": [],
   "source": [
    "from functools import cache\n",
    "from math import inf\n",
    "from typing import List\n",
    "\n",
    "\n",
    "class Solution:\n",
    "    def minPathSum(self, grid: List[List[int]]) -> int:\n",
    "        m = len(grid)\n",
    "        n = len(grid[0])\n",
    "\n",
    "        @cache\n",
    "        def helper(i: int, j: int) -> int:\n",
    "            if i == m-1 and j == n-1:\n",
    "                return grid[i][j]\n",
    "\n",
    "            right = grid[i][j] + helper(i+1, j) if i < m-1 else inf\n",
    "            down = grid[i][j] + helper(i, j+1) if j < n-1 else inf\n",
    "\n",
    "            return min(right, down)\n",
    "        \n",
    "        return helper(0,0)\n"
   ]
  },
  {
   "cell_type": "code",
   "execution_count": null,
   "id": "b4d95a55",
   "metadata": {},
   "outputs": [],
   "source": [
    "class Solution:\n",
    "    def minPathSum(self, grid: List[List[int]]) -> int:\n",
    "        m, n = len(grid), len(grid[0])\n",
    "        dp = [[inf] * n for i in range(m)]\n",
    "        dp[0][0] = grid[0][0]\n",
    "        for i in range(1, m):\n",
    "            dp[i][0] = dp[i - 1][0] + grid[i][0]\n",
    "        for j in range(1, n):\n",
    "            dp[0][j] = dp[0][j - 1] + grid[0][j]\n",
    "        for i in range(1, m):\n",
    "            for j in range(1, n):\n",
    "                dp[i][j] = min(dp[i][j - 1], dp[i - 1][j]) + grid[i][j]\n",
    "        return dp[-1][-1]"
   ]
  }
 ],
 "metadata": {
  "kernelspec": {
   "display_name": "python_dev",
   "language": "python",
   "name": "python3"
  },
  "language_info": {
   "codemirror_mode": {
    "name": "ipython",
    "version": 3
   },
   "file_extension": ".py",
   "mimetype": "text/x-python",
   "name": "python",
   "nbconvert_exporter": "python",
   "pygments_lexer": "ipython3",
   "version": "3.13.2"
  }
 },
 "nbformat": 4,
 "nbformat_minor": 5
}
