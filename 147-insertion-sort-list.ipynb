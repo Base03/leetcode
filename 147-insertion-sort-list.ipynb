{
 "cells": [
  {
   "cell_type": "code",
   "execution_count": null,
   "metadata": {},
   "outputs": [],
   "source": [
    "class ListNode:\n",
    "    def __init__(self, val=0, next=None):\n",
    "        self.val = val\n",
    "        self.next = next\n",
    "\n",
    "from typing import Optional\n",
    "\n",
    "class Solution:\n",
    "        \n",
    "    def insertionSortList(self, head: Optional[ListNode]) -> Optional[ListNode]:\n",
    "        # empty or size 1 linked lists are already sorted\n",
    "        if not head or not head.next:\n",
    "            return head\n",
    "        \n",
    "        # temp: temporary node at the beginning to make things easier\n",
    "        # last: last sorted node\n",
    "        # curr: node we are attempting to sort\n",
    "        temp = ListNode(0, next=head)\n",
    "        last = head\n",
    "        curr = head.next\n",
    "\n",
    "        while curr:\n",
    "            if curr.val >= last.val: # things are monotonic\n",
    "                last = last.next\n",
    "            else: # the value we are attempting to add is less than the value at the end of the list\n",
    "                prev = temp\n",
    "                while prev.next.val <= curr.val:\n",
    "                    prev = prev.next\n",
    "            \n",
    "                last.next = curr.next\n",
    "                curr.next = prev.next\n",
    "                prev.next = curr\n",
    "\n",
    "            curr = last.next\n",
    "        \n",
    "        return temp.next\n",
    "\n"
   ]
  }
 ],
 "metadata": {
  "kernelspec": {
   "display_name": ".venv",
   "language": "python",
   "name": "python3"
  },
  "language_info": {
   "name": "python",
   "version": "3.12.3"
  }
 },
 "nbformat": 4,
 "nbformat_minor": 2
}
