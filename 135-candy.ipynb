{
 "cells": [
  {
   "cell_type": "code",
   "execution_count": 16,
   "metadata": {},
   "outputs": [],
   "source": [
    "from typing import List\n",
    "\n",
    "class Solution:\n",
    "    def candy(self, ratings: List[int]) -> int:\n",
    "        n: int = len(ratings)\n",
    "        tot: int = 0\n",
    "        candies: List[int] = [1] * n\n",
    "\n",
    "        for i in range(1, n):\n",
    "            if ratings[i] > ratings[i-1]:\n",
    "                candies[i] = candies[i-1] + 1\n",
    "\n",
    "        for i in range(n-2, -1, -1):\n",
    "            if ratings[i] > ratings[i+1] and candies[i] <= candies[i+1]:\n",
    "                candies[i] = candies[i+1]+1\n",
    "\n",
    "        return sum(candies)"
   ]
  },
  {
   "cell_type": "code",
   "execution_count": 17,
   "metadata": {},
   "outputs": [
    {
     "name": "stdout",
     "output_type": "stream",
     "text": [
      "result:  5 expected:  5\n"
     ]
    }
   ],
   "source": [
    "soln = Solution()\n",
    "f = soln.candy\n",
    "\n",
    "# test 1\n",
    "ratings = [1,0,2]\n",
    "expected = 5\n",
    "print(\"result: \", f(ratings), \"expected: \", expected)\n"
   ]
  },
  {
   "cell_type": "code",
   "execution_count": null,
   "metadata": {},
   "outputs": [],
   "source": []
  }
 ],
 "metadata": {
  "kernelspec": {
   "display_name": ".venv",
   "language": "python",
   "name": "python3"
  },
  "language_info": {
   "codemirror_mode": {
    "name": "ipython",
    "version": 3
   },
   "file_extension": ".py",
   "mimetype": "text/x-python",
   "name": "python",
   "nbconvert_exporter": "python",
   "pygments_lexer": "ipython3",
   "version": "3.12.3"
  }
 },
 "nbformat": 4,
 "nbformat_minor": 2
}
